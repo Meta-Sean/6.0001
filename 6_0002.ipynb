{
  "nbformat": 4,
  "nbformat_minor": 0,
  "metadata": {
    "colab": {
      "name": "6.0002.ipynb",
      "provenance": [],
      "collapsed_sections": [
        "o_E9cbA1K3TM",
        "WaLCeRTrSA4Y",
        "IPoTXV91zAD4",
        "AFmzf4wrLMq-"
      ],
      "authorship_tag": "ABX9TyP7FMANMteFvEU4GZr5oHBT",
      "include_colab_link": true
    },
    "kernelspec": {
      "name": "python3",
      "display_name": "Python 3"
    },
    "language_info": {
      "name": "python"
    }
  },
  "cells": [
    {
      "cell_type": "markdown",
      "metadata": {
        "id": "view-in-github",
        "colab_type": "text"
      },
      "source": [
        "<a href=\"https://colab.research.google.com/github/Meta-Sean/Course-6-Mono/blob/main/6_0002.ipynb\" target=\"_parent\"><img src=\"https://colab.research.google.com/assets/colab-badge.svg\" alt=\"Open In Colab\"/></a>"
      ]
    },
    {
      "cell_type": "markdown",
      "source": [
        "# Introduction, Optimization Problems"
      ],
      "metadata": {
        "id": "Qfwii5s9rfk6"
      }
    },
    {
      "cell_type": "code",
      "source": [
        "'''\n",
        "Each item is represented by a pair, <value, weight>\n",
        "\n",
        "The knapsack can accommodate items with a total weight of no more than w\n",
        "\n",
        "A vector, L, of length n, represents the set of available items. Each element of the vector is an item\n",
        "\n",
        "A vector, V, of length n, is used to indicate whether or not items are take. If V[i]=1, items I[i] is taken. If V[i] = 0, items I[i] is not taken\n",
        "\n",
        "'''\n",
        "\n",
        "\n",
        "\n"
      ],
      "metadata": {
        "colab": {
          "base_uri": "https://localhost:8080/",
          "height": 91
        },
        "id": "sXaUncKArj2m",
        "outputId": "f4ec52b2-4436-40d8-aa06-07f692a3ca38"
      },
      "execution_count": null,
      "outputs": [
        {
          "output_type": "execute_result",
          "data": {
            "text/plain": [
              "'\\nEach item is represented by a pair, <value, weight>\\n\\nThe knapsack can accommodate items with a total weight of no more than w\\n\\nA vector, L, of length n, represents the set of available items. Each element of the vector is an item\\n\\nA vector, V, of length n, is used to indicate whether or not items are take. If V[i]=1, items I[i] is taken. If V[i] = 0, items I[i] is not taken\\n\\n'"
            ],
            "application/vnd.google.colaboratory.intrinsic+json": {
              "type": "string"
            }
          },
          "metadata": {},
          "execution_count": 65
        }
      ]
    },
    {
      "cell_type": "code",
      "source": [
        "# Greedy Algorithm Sudo \n",
        "# while knapsack not full \n",
        "  # put 'best' avaiblable item in knapsack"
      ],
      "metadata": {
        "id": "hkbzTcB0tPor"
      },
      "execution_count": null,
      "outputs": []
    },
    {
      "cell_type": "code",
      "source": [
        "class Food(object):\n",
        "  def __init__(self, n, v, w):\n",
        "    self.name = n\n",
        "    self.value = v\n",
        "    self.calories = w\n",
        "\n",
        "  def getValue(self):\n",
        "    return self.value\n",
        "\n",
        "  def getCost(self):\n",
        "    return self.calories\n",
        "\n",
        "  def density(self):\n",
        "    return self.getValue()/self.getCost()\n",
        "\n",
        "  def __str__(self):\n",
        "    return self.name + \": <\" + str(self.value) + \", \" + str(self.calories) + \">\""
      ],
      "metadata": {
        "id": "pR6wqByxuX2X"
      },
      "execution_count": null,
      "outputs": []
    },
    {
      "cell_type": "code",
      "source": [
        "def buildMenu(names, values, calories):\n",
        "  menu = []\n",
        "  for i in range(len(values)):\n",
        "    menu.append(Food(names[i], values[i],calories[i]))\n",
        "\n",
        "  return menu"
      ],
      "metadata": {
        "id": "vbcUKUDMuvcJ"
      },
      "execution_count": null,
      "outputs": []
    },
    {
      "cell_type": "code",
      "source": [
        "def greedy(items, maxCost, keyFunction):\n",
        "  '''Assumes items a list, maxCost >= 0,\n",
        "    keyFunction maps elements of items to numbers'''\n",
        "  itemsCopy = sorted(items, key = keyFunction, reverse=True)\n",
        "  result = []\n",
        "  totalValue, totalCost = 0.0, 0.0\n",
        "\n",
        "  for i in range(len(itemsCopy)):\n",
        "    if (totalCost+itemsCopy[i].getCost()) <= maxCost:\n",
        "      result.append(itemsCopy[i])\n",
        "      totalCost += itemsCopy[i].getCost()\n",
        "      totalValue += itemsCopy[i].getValue()\n",
        "\n",
        "  return (result, totalValue)"
      ],
      "metadata": {
        "id": "0Aypo2TEvJIE"
      },
      "execution_count": null,
      "outputs": []
    },
    {
      "cell_type": "code",
      "source": [
        "def testGreedy(items, constraint, keyFunction):\n",
        "    taken, val = greedy(items, constraint, keyFunction)\n",
        "    print('Total value of items taken =', val)\n",
        "    for item in taken:\n",
        "        print('   ', item)"
      ],
      "metadata": {
        "id": "ejhh7t9rwqU9"
      },
      "execution_count": null,
      "outputs": []
    },
    {
      "cell_type": "code",
      "source": [
        "def testGreedys(foods, maxUnits):\n",
        "    print('Use greedy by value to allocate', maxUnits,\n",
        "          'calories')\n",
        "    testGreedy(foods, maxUnits, Food.getValue)\n",
        "    print('\\nUse greedy by cost to allocate', maxUnits,\n",
        "          'calories')\n",
        "    testGreedy(foods, maxUnits,\n",
        "               lambda x: 1/Food.getCost(x))\n",
        "    print('\\nUse greedy by density to allocate', maxUnits,\n",
        "          'calories')\n",
        "    testGreedy(foods, maxUnits, Food.density)"
      ],
      "metadata": {
        "id": "gdvNfLj_vpkZ"
      },
      "execution_count": null,
      "outputs": []
    },
    {
      "cell_type": "code",
      "source": [
        "names = ['wine', 'beer', 'pizza', 'burger', 'fries',\n",
        "         'cola', 'apple', 'donut', 'cake']\n",
        "values = [89,90,95,100,90,79,50,10]\n",
        "calories = [123,154,258,354,365,150,95,195]\n",
        "foods = buildMenu(names, values, calories)"
      ],
      "metadata": {
        "id": "x_iAeDqUyUCE"
      },
      "execution_count": null,
      "outputs": []
    },
    {
      "cell_type": "code",
      "source": [
        "testGreedys(foods,800)"
      ],
      "metadata": {
        "colab": {
          "base_uri": "https://localhost:8080/"
        },
        "id": "zQ5Ji-Lwyo8G",
        "outputId": "df4ebe89-a745-4b75-9461-49eacfa7c283"
      },
      "execution_count": null,
      "outputs": [
        {
          "output_type": "stream",
          "name": "stdout",
          "text": [
            "Use greedy by value to allocate 800 calories\n",
            "Total value of items taken = 285.0\n",
            "    burger: <100, 354>\n",
            "    pizza: <95, 258>\n",
            "    beer: <90, 154>\n",
            "\n",
            "Use greedy by cost to allocate 800 calories\n",
            "Total value of items taken = 318.0\n",
            "    apple: <50, 95>\n",
            "    wine: <89, 123>\n",
            "    cola: <79, 150>\n",
            "    beer: <90, 154>\n",
            "    donut: <10, 195>\n",
            "\n",
            "Use greedy by density to allocate 800 calories\n",
            "Total value of items taken = 403.0\n",
            "    wine: <89, 123>\n",
            "    beer: <90, 154>\n",
            "    cola: <79, 150>\n",
            "    apple: <50, 95>\n",
            "    pizza: <95, 258>\n"
          ]
        }
      ]
    },
    {
      "cell_type": "code",
      "source": [
        "testGreedys(foods,1000)"
      ],
      "metadata": {
        "colab": {
          "base_uri": "https://localhost:8080/"
        },
        "id": "fdIE04yEyr11",
        "outputId": "0940d3f9-040d-4f37-f762-285cfb2d8afe"
      },
      "execution_count": null,
      "outputs": [
        {
          "output_type": "stream",
          "name": "stdout",
          "text": [
            "Use greedy by value to allocate 1000 calories\n",
            "Total value of items taken = 424.0\n",
            "    burger: <100, 354>\n",
            "    pizza: <95, 258>\n",
            "    beer: <90, 154>\n",
            "    wine: <89, 123>\n",
            "    apple: <50, 95>\n",
            "\n",
            "Use greedy by cost to allocate 1000 calories\n",
            "Total value of items taken = 413.0\n",
            "    apple: <50, 95>\n",
            "    wine: <89, 123>\n",
            "    cola: <79, 150>\n",
            "    beer: <90, 154>\n",
            "    donut: <10, 195>\n",
            "    pizza: <95, 258>\n",
            "\n",
            "Use greedy by density to allocate 1000 calories\n",
            "Total value of items taken = 413.0\n",
            "    wine: <89, 123>\n",
            "    beer: <90, 154>\n",
            "    cola: <79, 150>\n",
            "    apple: <50, 95>\n",
            "    pizza: <95, 258>\n",
            "    donut: <10, 195>\n"
          ]
        }
      ]
    },
    {
      "cell_type": "code",
      "source": [
        ""
      ],
      "metadata": {
        "id": "hB-3P3Je1oKp"
      },
      "execution_count": null,
      "outputs": []
    },
    {
      "cell_type": "markdown",
      "source": [
        "# Optimization Problems Lecture 2"
      ],
      "metadata": {
        "id": "DHyDp1kH96Sj"
      }
    },
    {
      "cell_type": "code",
      "source": [
        "def maxVal(toConsider, avail):\n",
        "  \"\"\"Assumes toConsider a list of items,\n",
        " avail a weight\n",
        " Returns a tuple of the total value of a\n",
        " solution to 0/1 knapsack problem and\n",
        " the items of that solution\"\"\"\n",
        "\n",
        "  if toConsider == [] or avail == 0:\n",
        "    result = (0, ())\n",
        "  elif toConsider[0].getCost() > avail:\n",
        "    result = maxVal(toConsider[1:], avail)\n",
        "  else:\n",
        "    nextItem = toConsider[0]\n",
        "    withVal, withToTake = maxVal(toConsider[1:], avail - nextItem.getCost())\n",
        "    withVal += nextItem.getValue()\n",
        "    withoutVal, withoutToTake = maxVal(toConsider[1:], avail)\n",
        "    if withVal > withoutVal:\n",
        "      result = (withVal, withToTake + (nextItem,))\n",
        "    else:\n",
        "        result = (withoutVal, withoutToTake)\n",
        "  return result\n",
        "\n",
        "\n",
        "def testMaxVal(foods, maxUnits, printItems = True):\n",
        "  print('Use search tree to allocate', maxUnits, 'calories')\n",
        "  val, taken = maxVal(foods, maxUnits)\n",
        "  print('Total value of items taken =', val)\n",
        "  if printItems:\n",
        "    for item in taken:\n",
        "      print('  ', item)"
      ],
      "metadata": {
        "id": "RHztG5g_K6Wx"
      },
      "execution_count": null,
      "outputs": []
    },
    {
      "cell_type": "code",
      "source": [
        "names = ['wine', 'beer', 'pizza', 'burger', 'fries',\n",
        "         'cola', 'apple', 'donut', 'cake']\n",
        "values = [89,90,95,100,90,79,50,10]\n",
        "calories = [123,154,258,354,365,150,95,195]\n",
        "foods = buildMenu(names, values, calories)"
      ],
      "metadata": {
        "id": "DNMRMWvUL5Br"
      },
      "execution_count": null,
      "outputs": []
    },
    {
      "cell_type": "code",
      "source": [
        "testGreedys(foods, 750)\n",
        "print('')\n",
        "testMaxVal(foods, 750)"
      ],
      "metadata": {
        "colab": {
          "base_uri": "https://localhost:8080/"
        },
        "id": "ZhB7DQX_QJxA",
        "outputId": "26608683-5c37-4cd8-feea-0103c4eb80ae"
      },
      "execution_count": null,
      "outputs": [
        {
          "output_type": "stream",
          "name": "stdout",
          "text": [
            "Use greedy by value to allocate 750 calories\n",
            "Total value of items taken = 284.0\n",
            "    burger: <100, 354>\n",
            "    pizza: <95, 258>\n",
            "    wine: <89, 123>\n",
            "\n",
            "Use greedy by cost to allocate 750 calories\n",
            "Total value of items taken = 318.0\n",
            "    apple: <50, 95>\n",
            "    wine: <89, 123>\n",
            "    cola: <79, 150>\n",
            "    beer: <90, 154>\n",
            "    donut: <10, 195>\n",
            "\n",
            "Use greedy by density to allocate 750 calories\n",
            "Total value of items taken = 318.0\n",
            "    wine: <89, 123>\n",
            "    beer: <90, 154>\n",
            "    cola: <79, 150>\n",
            "    apple: <50, 95>\n",
            "    donut: <10, 195>\n",
            "\n",
            "Use search tree to allocate 750 calories\n",
            "Total value of items taken = 353\n",
            "   cola: <79, 150>\n",
            "   pizza: <95, 258>\n",
            "   beer: <90, 154>\n",
            "   wine: <89, 123>\n"
          ]
        }
      ]
    },
    {
      "cell_type": "code",
      "source": [
        "import random\n",
        "\n",
        "def buildLargeMenu(numItems, maxVal, maxCost):\n",
        "    items = []\n",
        "    for i in range(numItems):\n",
        "        items.append(Food(str(i),\n",
        "                          random.randint(1, maxVal),\n",
        "                          random.randint(1, maxCost)))\n",
        "    return items\n",
        "\n",
        "# for numItems in (5, 10, 15, 20, 25, 30, 35, 40, 45):\n",
        "#     print('Try a menu with', numItems, 'items')\n",
        "#     items = buildLargeMenu(numItems, 90, 250)\n",
        "#     testMaxVal(items, 750, False)  "
      ],
      "metadata": {
        "id": "VKdHBuXUQsOl"
      },
      "execution_count": null,
      "outputs": []
    },
    {
      "cell_type": "code",
      "source": [
        "def fib(n):\n",
        " if n == 0 or n == 1:\n",
        "  return 1\n",
        " else:\n",
        "  return fib(n - 1) + fib(n - 2) "
      ],
      "metadata": {
        "id": "N9nSEIbDSleH"
      },
      "execution_count": null,
      "outputs": []
    },
    {
      "cell_type": "code",
      "source": [
        "# Using Memoization\n",
        "def fastFib(n, memo = {}):\n",
        "  \"\"\"Assumes n is an int >= 0, memo used only by recursive calls\n",
        "    Returns Fib of n \"\"\"\n",
        "\n",
        "  if n == 0 or n == 1:\n",
        "    return 1\n",
        "  try:\n",
        "    return memo[n]\n",
        "  except KeyError:\n",
        "    result = fastFib(n-1, memo) + fastFib(n-2, memo)\n",
        "    memo[n] = result\n",
        "    return result"
      ],
      "metadata": {
        "id": "3Ty9iE2TVtUl"
      },
      "execution_count": null,
      "outputs": []
    },
    {
      "cell_type": "markdown",
      "source": [
        "# Graph-theoretic Models"
      ],
      "metadata": {
        "id": "o_E9cbA1K3TM"
      }
    },
    {
      "cell_type": "code",
      "source": [
        "\"\"\"\n",
        "Created on Tue Jul 12 15:04:56 2016\n",
        "\n",
        "@author: guttag, revised egrimson\n",
        "\"\"\"\n",
        "\n",
        "class Node(object):\n",
        "    def __init__(self, name):\n",
        "        \"\"\"Assumes name is a string\"\"\"\n",
        "        self.name = name\n",
        "    def getName(self):\n",
        "        return self.name\n",
        "    def __str__(self):\n",
        "        return self.name\n",
        "\n",
        "class Edge(object):\n",
        "    def __init__(self, src, dest):\n",
        "        \"\"\"Assumes src and dest are nodes\"\"\"\n",
        "        self.src = src\n",
        "        self.dest = dest\n",
        "    def getSource(self):\n",
        "        return self.src\n",
        "    def getDestination(self):\n",
        "        return self.dest\n",
        "    def __str__(self):\n",
        "        return self.src.getName() + '->' + self.dest.getName()\n",
        "               \n",
        "class Digraph(object):\n",
        "    \"\"\"edges is a dict mapping each node to a list of\n",
        "    its children\"\"\"\n",
        "    def __init__(self):\n",
        "        self.edges = {}\n",
        "    def addNode(self, node):\n",
        "        if node in self.edges:\n",
        "            raise ValueError('Duplicate node')\n",
        "        else:\n",
        "            self.edges[node] = []\n",
        "    def addEdge(self, edge):\n",
        "        src = edge.getSource()\n",
        "        dest = edge.getDestination()\n",
        "        if not (src in self.edges and dest in self.edges):\n",
        "            raise ValueError('Node not in graph')\n",
        "        self.edges[src].append(dest)\n",
        "    def childrenOf(self, node):\n",
        "        return self.edges[node]\n",
        "    def hasNode(self, node):\n",
        "        return node in self.edges\n",
        "    def getNode(self, name):\n",
        "        for n in self.edges:\n",
        "            if n.getName() == name:\n",
        "                return n\n",
        "        raise NameError(name)\n",
        "    def __str__(self):\n",
        "        result = ''\n",
        "        for src in self.edges:\n",
        "            for dest in self.edges[src]:\n",
        "                result = result + src.getName() + '->'\\\n",
        "                         + dest.getName() + '\\n'\n",
        "        return result[:-1] #omit final newline"
      ],
      "metadata": {
        "id": "gqU3KZMd-CIL"
      },
      "execution_count": null,
      "outputs": []
    },
    {
      "cell_type": "code",
      "source": [
        "class Graph(Digraph):\n",
        "    def addEdge(self, edge):\n",
        "        Digraph.addEdge(self, edge)\n",
        "        rev = Edge(edge.getDestination(), edge.getSource())\n",
        "        Digraph.addEdge(self, rev)\n",
        "    \n",
        "def buildCityGraph(graphType):\n",
        "    g = graphType()\n",
        "    for name in ('Boston', 'Providence', 'New York', 'Chicago',\n",
        "                 'Denver', 'Phoenix', 'Los Angeles'): #Create 7 nodes\n",
        "        g.addNode(Node(name))\n",
        "    g.addEdge(Edge(g.getNode('Boston'), g.getNode('Providence')))\n",
        "    g.addEdge(Edge(g.getNode('Boston'), g.getNode('New York')))\n",
        "    g.addEdge(Edge(g.getNode('Providence'), g.getNode('Boston')))\n",
        "    g.addEdge(Edge(g.getNode('Providence'), g.getNode('New York')))\n",
        "    g.addEdge(Edge(g.getNode('New York'), g.getNode('Chicago')))\n",
        "    g.addEdge(Edge(g.getNode('Chicago'), g.getNode('Denver')))\n",
        "    g.addEdge(Edge(g.getNode('Chicago'), g.getNode('Phoenix')))\n",
        "    g.addEdge(Edge(g.getNode('Denver'), g.getNode('Phoenix')))\n",
        "    g.addEdge(Edge(g.getNode('Denver'), g.getNode('New York')))\n",
        "    g.addEdge(Edge(g.getNode('Los Angeles'), g.getNode('Boston')))\n",
        "    return g\n",
        "\n",
        "\n",
        "def printPath(path):\n",
        "    \"\"\"Assumes path is a list of nodes\"\"\"\n",
        "    result = ''\n",
        "    for i in range(len(path)):\n",
        "        result = result + str(path[i])\n",
        "        if i != len(path) - 1:\n",
        "            result = result + '->'\n",
        "    return result "
      ],
      "metadata": {
        "id": "VR6CkYNNzB8p"
      },
      "execution_count": null,
      "outputs": []
    },
    {
      "cell_type": "code",
      "source": [
        ""
      ],
      "metadata": {
        "id": "R3dnbOF8_noj"
      },
      "execution_count": null,
      "outputs": []
    },
    {
      "cell_type": "code",
      "source": [
        "def DFS(graph, start, end, path, shortest, toPrint = False):\n",
        "  path = path + [start]\n",
        "  if toPrint:\n",
        "    print('Current DFS path:', printPath(path))\n",
        "  if start == end:\n",
        "    return path\n",
        "  for node in graph.childrenOf(start):\n",
        "    if node not in path: #avoid cycles\n",
        "      if shortest == None or len(path) < len(shortest):\n",
        "        newPath = DFS(graph, node, end, path, shortest, toPrint)\n",
        "        if newPath != None:\n",
        "          shortest = newPath\n",
        "    elif toPrint:\n",
        "      print('Already visited', node)\n",
        "  return shortest\n",
        "\n",
        "def shortestPath(graph, start, end, toPrint = False):\n",
        "  return DFS(graph, start, end, [], None, toPrint)\n"
      ],
      "metadata": {
        "id": "Q_S-MC-q__YE"
      },
      "execution_count": null,
      "outputs": []
    },
    {
      "cell_type": "code",
      "source": [
        "def shortestPath(graph, start, end, toPrint = False):\n",
        "    \"\"\"Assumes graph is a Digraph; start and end are nodes\n",
        "       Returns a shortest path from start to end in graph\"\"\"\n",
        "    return DFS(graph, start, end, [], None, toPrint)\n",
        "\n",
        "def testSP(source, destination):\n",
        "    g = buildCityGraph(Digraph)\n",
        "    sp = shortestPath(g, g.getNode(source), g.getNode(destination),\n",
        "                      toPrint = True)\n",
        "    if sp != None:\n",
        "        print('Shortest path from', source, 'to',\n",
        "              destination, 'is', printPath(sp))\n",
        "    else:\n",
        "        print('There is no path from', source, 'to', destination)\n",
        "\n",
        "testSP('Chicago', 'Boston')\n",
        "print()\n",
        "#testSP('Boston', 'Phoenix')\n",
        "#print()"
      ],
      "metadata": {
        "colab": {
          "base_uri": "https://localhost:8080/"
        },
        "id": "jjKc4OZSNKru",
        "outputId": "c6deac76-b800-4065-ecda-6462bd9a97ad"
      },
      "execution_count": null,
      "outputs": [
        {
          "output_type": "stream",
          "name": "stdout",
          "text": [
            "Current DFS path: Chicago\n",
            "Current DFS path: Chicago->Denver\n",
            "Current DFS path: Chicago->Denver->Phoenix\n",
            "Current DFS path: Chicago->Denver->New York\n",
            "Already visited Chicago\n",
            "Current DFS path: Chicago->Phoenix\n",
            "There is no path from Chicago to Boston\n",
            "\n"
          ]
        }
      ]
    },
    {
      "cell_type": "code",
      "source": [
        "printQueue = True\n",
        "\n",
        "def BFS(graph, start, end, toPrint = False):\n",
        "  initPath = [start]\n",
        "  pathQueue = [initPath]\n",
        "  while len(pathQueue) != 0:\n",
        "    if printQueue:\n",
        "      print(\"Queue:\", len(pathQueue))\n",
        "      for p in pathQueue:\n",
        "        print(printPath(p))\n",
        "    #Get and remove oldest element in pathQueue\n",
        "    tempPath = pathQueue.pop(0)\n",
        "    if toPrint:\n",
        "      print('Current BFS path:', printPath(tempPath))\n",
        "      print()\n",
        "      lastNode = tempPath[-1]\n",
        "    if lastNode == end:\n",
        "      return tempPath\n",
        "    for nextNode in graph.childrenOf(lastNode):\n",
        "      if nextNode not in tempPath:\n",
        "        newPath = tempPath + [nextNode]\n",
        "        pathQueue.append(newPath)\n",
        "  return None"
      ],
      "metadata": {
        "id": "RdFZXQZsPB1G"
      },
      "execution_count": null,
      "outputs": []
    },
    {
      "cell_type": "code",
      "source": [
        "def shortestPath(graph, start, end, toPrint = False):\n",
        "    \"\"\"Assumes graph is a Digraph; start and end are nodes\n",
        "       Returns a shortest path from start to end in graph\"\"\"\n",
        "    return BFS(graph, start, end, toPrint)"
      ],
      "metadata": {
        "id": "LB3a4GkWS2Or"
      },
      "execution_count": null,
      "outputs": []
    },
    {
      "cell_type": "code",
      "source": [
        "testSP('Boston', 'Phoenix')"
      ],
      "metadata": {
        "colab": {
          "base_uri": "https://localhost:8080/"
        },
        "id": "bc-AuZtPUMLS",
        "outputId": "193d84c7-79ea-4d9b-bce5-cf1ccee1d531"
      },
      "execution_count": null,
      "outputs": [
        {
          "output_type": "stream",
          "name": "stdout",
          "text": [
            "Queue: 1\n",
            "Boston\n",
            "Current BFS path: Boston\n",
            "\n",
            "Queue: 2\n",
            "Boston->Providence\n",
            "Boston->New York\n",
            "Current BFS path: Boston->Providence\n",
            "\n",
            "Queue: 2\n",
            "Boston->New York\n",
            "Boston->Providence->New York\n",
            "Current BFS path: Boston->New York\n",
            "\n",
            "Queue: 2\n",
            "Boston->Providence->New York\n",
            "Boston->New York->Chicago\n",
            "Current BFS path: Boston->Providence->New York\n",
            "\n",
            "Queue: 2\n",
            "Boston->New York->Chicago\n",
            "Boston->Providence->New York->Chicago\n",
            "Current BFS path: Boston->New York->Chicago\n",
            "\n",
            "Queue: 3\n",
            "Boston->Providence->New York->Chicago\n",
            "Boston->New York->Chicago->Denver\n",
            "Boston->New York->Chicago->Phoenix\n",
            "Current BFS path: Boston->Providence->New York->Chicago\n",
            "\n",
            "Queue: 4\n",
            "Boston->New York->Chicago->Denver\n",
            "Boston->New York->Chicago->Phoenix\n",
            "Boston->Providence->New York->Chicago->Denver\n",
            "Boston->Providence->New York->Chicago->Phoenix\n",
            "Current BFS path: Boston->New York->Chicago->Denver\n",
            "\n",
            "Queue: 4\n",
            "Boston->New York->Chicago->Phoenix\n",
            "Boston->Providence->New York->Chicago->Denver\n",
            "Boston->Providence->New York->Chicago->Phoenix\n",
            "Boston->New York->Chicago->Denver->Phoenix\n",
            "Current BFS path: Boston->New York->Chicago->Phoenix\n",
            "\n",
            "Shortest path from Boston to Phoenix is Boston->New York->Chicago->Phoenix\n"
          ]
        }
      ]
    },
    {
      "cell_type": "code",
      "source": [
        ""
      ],
      "metadata": {
        "id": "nEU6yjdQUQiM"
      },
      "execution_count": null,
      "outputs": []
    },
    {
      "cell_type": "code",
      "source": [
        ""
      ],
      "metadata": {
        "id": "XdxTl-IRVyDU"
      },
      "execution_count": null,
      "outputs": []
    },
    {
      "cell_type": "markdown",
      "source": [
        "# Stochastic Thinking"
      ],
      "metadata": {
        "id": "WaLCeRTrSA4Y"
      }
    },
    {
      "cell_type": "code",
      "source": [
        "import random\n",
        "\n",
        "def rollDie():\n",
        "  \"\"\"returns a random int between 1 and 6\"\"\"\n",
        "  return random.choice([1,2,3,4,5,6])\n",
        "\n",
        "def testRoll(n = 10):\n",
        "  result = ''\n",
        "  for i in range(n):\n",
        "    result = result + str(rollDie())\n",
        "    print(result)"
      ],
      "metadata": {
        "id": "z9lBca25SEQI"
      },
      "execution_count": null,
      "outputs": []
    },
    {
      "cell_type": "code",
      "source": [
        "testRoll()"
      ],
      "metadata": {
        "colab": {
          "base_uri": "https://localhost:8080/"
        },
        "id": "WA0NKodHTPnh",
        "outputId": "014517a7-4cef-4a19-9466-b0af65818631"
      },
      "execution_count": null,
      "outputs": [
        {
          "output_type": "stream",
          "name": "stdout",
          "text": [
            "1\n",
            "14\n",
            "145\n",
            "1455\n",
            "14554\n",
            "145546\n",
            "1455465\n",
            "14554656\n",
            "145546561\n",
            "1455465615\n"
          ]
        }
      ]
    },
    {
      "cell_type": "code",
      "source": [
        "a = 1/(6**5)"
      ],
      "metadata": {
        "id": "7MZoU9STTVYK"
      },
      "execution_count": null,
      "outputs": []
    },
    {
      "cell_type": "code",
      "source": [
        "def runSim(goal, numTrials, txt):\n",
        "    total = 0\n",
        "    for i in range(numTrials):\n",
        "        result = ''\n",
        "        for j in range(len(goal)):\n",
        "            result += str(rollDie())\n",
        "        if result == goal:\n",
        "            total += 1\n",
        "    print('Actual probability of', txt, '=',\n",
        "          round(1/(6**len(goal)), 8)) \n",
        "    estProbability = round(total/numTrials, 8)\n",
        "    print('Estimated Probability of', txt, '=',\n",
        "          round(estProbability, 8))\n",
        "runSim('11111', 10000000, '11111') "
      ],
      "metadata": {
        "id": "ystFnbO7T9Gi",
        "colab": {
          "base_uri": "https://localhost:8080/"
        },
        "outputId": "a627bc84-d824-402e-d8ff-9f954fedcb9c"
      },
      "execution_count": null,
      "outputs": [
        {
          "output_type": "stream",
          "name": "stdout",
          "text": [
            "Actual probability of 11111 = 0.0001286\n",
            "Estimated Probability of 11111 = 0.0001257\n"
          ]
        }
      ]
    },
    {
      "cell_type": "code",
      "source": [
        "# The Birthday Problem\n",
        "\n",
        "def sameDate(numPeople, numSame):\n",
        "  possibleDates = range(366)\n",
        "  birthdays = [0]*366\n",
        "  for p in range(numPeople):\n",
        "    birthDate = random.choice(possibleDates)\n",
        "    birthdays[birthDate] += 1\n",
        "  return max(birthdays) >= numSame\n",
        "\n",
        "def birthdayProb(numPeople, numSame, numTrials):\n",
        "    numHits = 0\n",
        "    for t in range(numTrials):\n",
        "        if sameDate(numPeople, numSame):\n",
        "            numHits += 1\n",
        "    return numHits/numTrials\n",
        "\n",
        "import math\n",
        "\n",
        "for numPeople in [10, 20, 40, 100]:\n",
        "    print('For', numPeople,\n",
        "          'est. prob. of a shared birthday is',\n",
        "          birthdayProb(numPeople, 3, 10000))\n",
        "    numerator = math.factorial(366)\n",
        "    denom = (366**numPeople)*math.factorial(366-numPeople)\n",
        "    print('Actual prob. for N = 100 =',\n",
        "          1 - numerator/denom)\n"
      ],
      "metadata": {
        "colab": {
          "base_uri": "https://localhost:8080/"
        },
        "id": "J454BRHzvXYx",
        "outputId": "2ce28670-27a0-4a98-c990-0d01f0ba94d8"
      },
      "execution_count": null,
      "outputs": [
        {
          "output_type": "stream",
          "name": "stdout",
          "text": [
            "For 10 est. prob. of a shared birthday is 0.0007\n",
            "Actual prob. for N = 100 = 0.1166454118039999\n",
            "For 20 est. prob. of a shared birthday is 0.0079\n",
            "Actual prob. for N = 100 = 0.4105696370550831\n",
            "For 40 est. prob. of a shared birthday is 0.0661\n",
            "Actual prob. for N = 100 = 0.89054476188945\n",
            "For 100 est. prob. of a shared birthday is 0.6511\n",
            "Actual prob. for N = 100 = 0.9999996784357714\n"
          ]
        }
      ]
    },
    {
      "cell_type": "code",
      "source": [
        "\n",
        "# 1. Import Modules\n",
        "import numpy as np\n",
        "import seaborn as sns\n",
        "import matplotlib.pylab as plt\n",
        "plt.style.use(\"seaborn\")\n",
        " \n",
        "# 2. Generate a 10x10 random integer matrix\n",
        "data = np.random.rand(10,10)\n",
        "print(\"Our dataset is : \",data)\n",
        " \n",
        "# 3. Plot the heatmap\n",
        "plt.figure(figsize=(10,10))\n",
        "heat_map = sns.heatmap( data, linewidth = 1 , annot = True)\n",
        "plt.title( \"HeatMap using Seaborn Method\" )\n",
        "plt.show()"
      ],
      "metadata": {
        "colab": {
          "base_uri": "https://localhost:8080/",
          "height": 975
        },
        "id": "QRf_-9bn2HQ2",
        "outputId": "f4bee4b4-2907-4437-c616-79f70cdbe4a5"
      },
      "execution_count": null,
      "outputs": [
        {
          "output_type": "stream",
          "name": "stdout",
          "text": [
            "Our dataset is :  [[0.32640375 0.07185929 0.40495651 0.89547485 0.99066691 0.70488489\n",
            "  0.92506315 0.47025426 0.24125827 0.6314362 ]\n",
            " [0.65071305 0.93385324 0.08810811 0.94473206 0.9761837  0.16526132\n",
            "  0.19782102 0.29523665 0.64693895 0.71564142]\n",
            " [0.5218779  0.87384359 0.66928377 0.40344312 0.81201066 0.96105738\n",
            "  0.89547192 0.1324063  0.85285553 0.70664979]\n",
            " [0.33965214 0.21529145 0.85320847 0.27078498 0.06249407 0.62887267\n",
            "  0.01888929 0.61501833 0.15138987 0.99315926]\n",
            " [0.87714293 0.28615283 0.2742541  0.2641033  0.69686854 0.22984677\n",
            "  0.34034021 0.94158115 0.17246901 0.30191719]\n",
            " [0.12973453 0.7982971  0.1922837  0.39740713 0.97062823 0.48466156\n",
            "  0.09925276 0.67882468 0.1332461  0.70185225]\n",
            " [0.45950873 0.09444498 0.30660886 0.08871518 0.83168678 0.32413385\n",
            "  0.25514222 0.37088644 0.00283341 0.32798638]\n",
            " [0.05346974 0.83172294 0.65196695 0.05792054 0.04769336 0.1582105\n",
            "  0.36664406 0.89210984 0.01455907 0.37219008]\n",
            " [0.02077736 0.09565938 0.40718466 0.37850935 0.75557992 0.29560981\n",
            "  0.28201256 0.99040206 0.50849588 0.25846649]\n",
            " [0.9277497  0.65018462 0.41747903 0.1932418  0.63505004 0.09572556\n",
            "  0.74879302 0.35035773 0.02927778 0.50941264]]\n"
          ]
        },
        {
          "output_type": "display_data",
          "data": {
            "text/plain": [
              "<Figure size 720x720 with 2 Axes>"
            ],
            "image/png": "[encoded data removed]"
          },
          "metadata": {}
        }
      ]
    },
    {
      "cell_type": "code",
      "source": [
        ""
      ],
      "metadata": {
        "id": "k2GyXNY08Z23"
      },
      "execution_count": null,
      "outputs": []
    },
    {
      "cell_type": "code",
      "source": [
        ""
      ],
      "metadata": {
        "id": "3XDGwMhkzAmB"
      },
      "execution_count": null,
      "outputs": []
    },
    {
      "cell_type": "markdown",
      "source": [
        "# Random Walks"
      ],
      "metadata": {
        "id": "IPoTXV91zAD4"
      }
    },
    {
      "cell_type": "code",
      "source": [
        "class Location(object):\n",
        "    def __init__(self, x, y):\n",
        "        \"\"\"x and y are numbers\"\"\"\n",
        "        self.x = x\n",
        "        self.y = y\n",
        "\n",
        "    def move(self, deltaX, deltaY):\n",
        "        \"\"\"deltaX and deltaY are numbers\"\"\"\n",
        "        return Location(self.x + deltaX, self.y + deltaY)\n",
        "\n",
        "    def getX(self):\n",
        "        return self.x\n",
        "\n",
        "    def getY(self):\n",
        "        return self.y\n",
        "\n",
        "    def distFrom(self, other):\n",
        "        xDist = self.x - other.getX()\n",
        "        yDist = self.y - other.getY()\n",
        "        return (xDist**2 + yDist**2)**0.5\n",
        "\n",
        "    def __str__(self):\n",
        "      return f\"< {str(self.x)}, {str(self.y)} >\"\n",
        "\n",
        "  \n",
        "x = Location(1, 2)\n",
        "print(x)"
      ],
      "metadata": {
        "colab": {
          "base_uri": "https://localhost:8080/"
        },
        "id": "TnkHQZ08zDfg",
        "outputId": "5019a35a-8e2c-47ed-8188-91531297fa0b"
      },
      "execution_count": null,
      "outputs": [
        {
          "output_type": "stream",
          "name": "stdout",
          "text": [
            "< 1, 2 >\n"
          ]
        }
      ]
    },
    {
      "cell_type": "code",
      "source": [
        "class Drunk(object):\n",
        "    def __init__(self, name = None):\n",
        "        \"\"\"Assumes name is a str\"\"\"\n",
        "        self.name = name\n",
        "\n",
        "    def __str__(self):\n",
        "        if self != None:\n",
        "            return self.name\n",
        "        return 'Anon'\n",
        "\n",
        "\n"
      ],
      "metadata": {
        "id": "OiGg56G602O3"
      },
      "execution_count": null,
      "outputs": []
    },
    {
      "cell_type": "code",
      "source": [
        "import random\n",
        "\n",
        "class UsualDrunk(Drunk):\n",
        "    def takeStep(self):\n",
        "        stepChoices = [(0,1), (0,-1), (1, 0), (-1, 0)]\n",
        "        return random.choice(stepChoices)\n",
        "\n",
        "class MasochistDrunk(Drunk):\n",
        "    def takeStep(self):\n",
        "        stepChoices = [(0.0,1.1), (0.0,-0.9),\n",
        "                       (1.0, 0.0), (-1.0, 0.0)]\n",
        "        return random.choice(stepChoices)"
      ],
      "metadata": {
        "id": "2dR8yHb_10a4"
      },
      "execution_count": null,
      "outputs": []
    },
    {
      "cell_type": "code",
      "source": [
        "class Field(object):\n",
        "    def __init__(self):\n",
        "        self.drunks = {}\n",
        "        \n",
        "    def addDrunk(self, drunk, loc):\n",
        "        if drunk in self.drunks:\n",
        "            raise ValueError('Duplicate drunk')\n",
        "        else:\n",
        "            self.drunks[drunk] = loc\n",
        "            \n",
        "    def moveDrunk(self, drunk):\n",
        "        if drunk not in self.drunks:\n",
        "            raise ValueError('Drunk not in field')\n",
        "        xDist, yDist = drunk.takeStep()\n",
        "        #use move method of Location to get new location\n",
        "        self.drunks[drunk] =\\\n",
        "            self.drunks[drunk].move(xDist, yDist)\n",
        "        \n",
        "    def getLoc(self, drunk):\n",
        "        if drunk not in self.drunks:\n",
        "            raise ValueError('Drunk not in field')\n",
        "        return self.drunks[drunk]"
      ],
      "metadata": {
        "id": "wTqz-HG92PUD"
      },
      "execution_count": null,
      "outputs": []
    },
    {
      "cell_type": "code",
      "source": [
        "def walk(f, d, numSteps):\n",
        "    \"\"\"Assumes: f a Field, d a Drunk in f, and numSteps an int >= 0.\n",
        "       Moves d numSteps times, and returns the distance between\n",
        "       the final location and the location at the start of the \n",
        "       walk.\"\"\"\n",
        "    start = f.getLoc(d)\n",
        "    for s in range(numSteps):\n",
        "        f.moveDrunk(d)\n",
        "    return start.distFrom(f.getLoc(d))"
      ],
      "metadata": {
        "id": "cEguX33433PM"
      },
      "execution_count": null,
      "outputs": []
    },
    {
      "cell_type": "code",
      "source": [
        "def simWalks(numSteps, numTrials, dClass):\n",
        "    \"\"\"Assumes numSteps an int >= 0, numTrials an int > 0,\n",
        "         dClass a subclass of Drunk\n",
        "       Simulates numTrials walks of numSteps steps each.\n",
        "       Returns a list of the final distances for each trial\"\"\"\n",
        "    Homer = dClass('Homer')\n",
        "    origin = Location(0, 0)\n",
        "    distances = []\n",
        "    for t in range(numTrials):\n",
        "        f = Field()\n",
        "        f.addDrunk(Homer, origin)\n",
        "        distances.append(round(walk(f, Homer,\n",
        "                                    numSteps), 1))\n",
        "    return distances"
      ],
      "metadata": {
        "id": "XUwJlEHK4S8Y"
      },
      "execution_count": null,
      "outputs": []
    },
    {
      "cell_type": "code",
      "source": [
        "def drunkTest(walkLengths, numTrials, dClass):\n",
        "    \"\"\"Assumes walkLengths a sequence of ints >= 0\n",
        "         numTrials an int > 0, dClass a subclass of Drunk\n",
        "       For each number of steps in walkLengths, runs simWalks with\n",
        "         numTrials walks and prints results\"\"\"\n",
        "    for numSteps in walkLengths:\n",
        "        distances = simWalks(numSteps, numTrials, dClass)\n",
        "        print(dClass.__name__, 'random walk of', numSteps, 'steps')\n",
        "        print(' Mean =', round(sum(distances)/len(distances), 4))\n",
        "        print(' Max =', max(distances), 'Min =', min(distances))"
      ],
      "metadata": {
        "id": "KMxUkGV15YbM"
      },
      "execution_count": null,
      "outputs": []
    },
    {
      "cell_type": "code",
      "source": [
        "random.seed(0)\n",
        "drunkTest((10, 100, 1000, 10000), 100, UsualDrunk)"
      ],
      "metadata": {
        "colab": {
          "base_uri": "https://localhost:8080/"
        },
        "id": "iN4pt_k66G8o",
        "outputId": "cf5124f8-4724-4e45-9bff-5d2cacc263ba"
      },
      "execution_count": null,
      "outputs": [
        {
          "output_type": "stream",
          "name": "stdout",
          "text": [
            "UsualDrunk random walk of 10 steps\n",
            " Mean = 2.863\n",
            " Max = 7.2 Min = 0.0\n",
            "UsualDrunk random walk of 100 steps\n",
            " Mean = 8.296\n",
            " Max = 21.6 Min = 1.4\n",
            "UsualDrunk random walk of 1000 steps\n",
            " Mean = 27.297\n",
            " Max = 66.3 Min = 4.2\n",
            "UsualDrunk random walk of 10000 steps\n",
            " Mean = 89.241\n",
            " Max = 226.5 Min = 10.0\n"
          ]
        }
      ]
    },
    {
      "cell_type": "code",
      "source": [
        "drunkTest((10, 100, 1000, 10000), 100, MasochistDrunk)"
      ],
      "metadata": {
        "colab": {
          "base_uri": "https://localhost:8080/"
        },
        "id": "9ABv1cn89x5U",
        "outputId": "050ac49c-ef60-4943-aa01-723762df96e3"
      },
      "execution_count": null,
      "outputs": [
        {
          "output_type": "stream",
          "name": "stdout",
          "text": [
            "MasochistDrunk random walk of 10 steps\n",
            " Mean = 2.734\n",
            " Max = 6.6 Min = 0.2\n",
            "MasochistDrunk random walk of 100 steps\n",
            " Mean = 10.314\n",
            " Max = 23.1 Min = 1.0\n",
            "MasochistDrunk random walk of 1000 steps\n",
            " Mean = 56.827\n",
            " Max = 133.3 Min = 8.3\n",
            "MasochistDrunk random walk of 10000 steps\n",
            " Mean = 512.961\n",
            " Max = 664.9 Min = 360.5\n"
          ]
        }
      ]
    },
    {
      "cell_type": "code",
      "source": [
        "drunkTest((0, 1, 2), 100, UsualDrunk)"
      ],
      "metadata": {
        "colab": {
          "base_uri": "https://localhost:8080/"
        },
        "id": "WLvZCJDp6IJ3",
        "outputId": "f7f540ad-5dc8-4532-ba58-f2c3dead90b3"
      },
      "execution_count": null,
      "outputs": [
        {
          "output_type": "stream",
          "name": "stdout",
          "text": [
            "UsualDrunk random walk of 0 steps\n",
            " Mean = 0.0\n",
            " Max = 0.0 Min = 0.0\n",
            "UsualDrunk random walk of 1 steps\n",
            " Mean = 1.0\n",
            " Max = 1.0 Min = 1.0\n",
            "UsualDrunk random walk of 2 steps\n",
            " Mean = 1.298\n",
            " Max = 2.0 Min = 0.0\n"
          ]
        }
      ]
    },
    {
      "cell_type": "code",
      "source": [
        "import pylab\n",
        "xVals = [1, 2, 3, 4]\n",
        "yVals1 = [1, 2, 3, 4]\n",
        "pylab.plot(xVals, yVals1, 'b-', label = 'first')\n",
        "yVals2 = [1, 7, 3, 5]\n",
        "pylab.plot(xVals, yVals2, 'r--', label = 'second')\n",
        "pylab.legend()\n"
      ],
      "metadata": {
        "colab": {
          "base_uri": "https://localhost:8080/"
        },
        "id": "jaJsKfI_8u7D",
        "outputId": "4abf0477-ae27-4d40-e2cd-b77447d0d72e"
      },
      "execution_count": null,
      "outputs": [
        {
          "output_type": "execute_result",
          "data": {
            "text/plain": [
              "<matplotlib.legend.Legend at 0x7f393b3db250>"
            ]
          },
          "metadata": {},
          "execution_count": 104
        },
        {
          "output_type": "display_data",
          "data": {
            "text/plain": [
              "<Figure size 576x396 with 1 Axes>"
            ],
            "image/png": "[encoded data removed]"
          },
          "metadata": {}
        }
      ]
    },
    {
      "cell_type": "code",
      "source": [
        "class styleIterator(object):\n",
        "    def __init__(self, styles):\n",
        "        self.index = 0\n",
        "        self.styles = styles\n",
        "\n",
        "    def nextStyle(self):\n",
        "        result = self.styles[self.index]\n",
        "        if self.index == len(self.styles) - 1:\n",
        "            self.index = 0\n",
        "        else:\n",
        "            self.index += 1\n",
        "        return result\n",
        "    \n",
        "def simDrunk(numTrials, dClass, walkLengths):\n",
        "    meanDistances = []\n",
        "    for numSteps in walkLengths:\n",
        "        print('Starting simulation of',\n",
        "              numSteps, 'steps')\n",
        "        trials = simWalks(numSteps, numTrials, dClass)\n",
        "        mean = sum(trials)/len(trials)\n",
        "        meanDistances.append(mean)\n",
        "    return meanDistances\n",
        "\n",
        "def simAll(drunkKinds, walkLengths, numTrials):\n",
        "    styleChoice = styleIterator(('m-', 'b--', 'g-.'))\n",
        "    for dClass in drunkKinds:\n",
        "        curStyle = styleChoice.nextStyle()\n",
        "        print('Starting simulation of', dClass.__name__)\n",
        "        means = simDrunk(numTrials, dClass, walkLengths)\n",
        "        pylab.plot(walkLengths, means, curStyle,\n",
        "                   label = dClass.__name__)\n",
        "    pylab.title('Mean Distance from Origin ('\n",
        "                + str(numTrials) + ' trials)')\n",
        "    pylab.xlabel('Number of Steps')\n",
        "    pylab.ylabel('Distance from Origin')\n",
        "    pylab.legend(loc = 'best')\n",
        "\n",
        "random.seed(0)\n",
        "numSteps = (10,100,1000,10000,100000)\n",
        "simAll((UsualDrunk, MasochistDrunk), numSteps, 100)\n",
        "\n",
        "pylab.plot(numSteps, pylab.array(numSteps)**0.5, 'k-.',\n",
        "          label = 'Square root of steps')\n",
        "pylab.plot(numSteps, pylab.array(numSteps)*0.05, 'g-.',\n",
        "          label = 'numSteps*0.05')\n",
        "pylab.legend(loc = 'best')\n",
        "\n",
        "def getFinalLocs(numSteps, numTrials, dClass):\n",
        "    locs = []\n",
        "    d = dClass()\n",
        "    for t in range(numTrials):\n",
        "        f = OddField()\n",
        "        f.addDrunk(d, Location(0, 0))\n",
        "        for s in range(numSteps):\n",
        "            f.moveDrunk(d)\n",
        "        locs.append(f.getLoc(d))\n",
        "    return locs\n",
        "\n",
        "def plotLocs(drunkKinds, numSteps, numTrials):\n",
        "    styleChoice = styleIterator(('k+', 'r^', 'mo'))\n",
        "    for dClass in drunkKinds:\n",
        "        locs = getFinalLocs(numSteps, numTrials, dClass)\n",
        "        xVals, yVals = [], []\n",
        "        for loc in locs:\n",
        "            xVals.append(loc.getX())\n",
        "            yVals.append(loc.getY())\n",
        "        xVals = pylab.array(xVals)\n",
        "        yVals = pylab.array(yVals)\n",
        "        meanX = sum(abs(xVals))/len(xVals)\n",
        "        meanY = sum(abs(yVals))/len(yVals)\n",
        "        curStyle = styleChoice.nextStyle()\n",
        "        pylab.plot(xVals, yVals, curStyle,\n",
        "                      label = dClass.__name__ +\\\n",
        "                      ' mean abs dist = <'\n",
        "                      + str(meanX) + ', ' + str(meanY) + '>')\n",
        "    pylab.title('Location at End of Walks ('\n",
        "                + str(numSteps) + ' steps)')\n",
        "    pylab.ylim(-1000, 1000)\n",
        "    pylab.xlim(-1000, 1000)\n",
        "    pylab.xlabel('Steps East/West of Origin')\n",
        "    pylab.ylabel('Steps North/South of Origin')\n",
        "    pylab.legend(loc = 'lower center')\n",
        "\n",
        "# random.seed(0)\n",
        "#plotLocs((UsualDrunk, MasochistDrunk), 10000, 1000)\n",
        "\n",
        "class OddField(Field):\n",
        "    def __init__(self, numHoles = 1000,\n",
        "                 xRange = 100, yRange = 100):\n",
        "        Field.__init__(self)\n",
        "        self.wormholes = {}\n",
        "        for w in range(numHoles):\n",
        "            x = random.randint(-xRange, xRange)\n",
        "            y = random.randint(-yRange, yRange)\n",
        "            newX = random.randint(-xRange, xRange)\n",
        "            newY = random.randint(-yRange, yRange)\n",
        "            newLoc = Location(newX, newY)\n",
        "            self.wormholes[(x, y)] = newLoc\n",
        "\n",
        "    def moveDrunk(self, drunk):\n",
        "        Field.moveDrunk(self, drunk)\n",
        "        x = self.drunks[drunk].getX()\n",
        "        y = self.drunks[drunk].getY()\n",
        "        if (x, y) in self.wormholes:\n",
        "            self.drunks[drunk] = self.wormholes[(x, y)]\n",
        "            \n",
        "#TraceWalk using oddField          \n",
        "def traceWalk(fieldKinds, numSteps):\n",
        "    styleChoice = styleIterator(('b+', 'r^', 'ko'))\n",
        "    for fClass in fieldKinds:\n",
        "        d = UsualDrunk()\n",
        "        f = fClass()\n",
        "        f.addDrunk(d, Location(0, 0))\n",
        "        locs = []\n",
        "        for s in range(numSteps):\n",
        "            f.moveDrunk(d)\n",
        "            locs.append(f.getLoc(d))\n",
        "        xVals, yVals = [], []\n",
        "        for loc in locs:\n",
        "            xVals.append(loc.getX())\n",
        "            yVals.append(loc.getY())\n",
        "        curStyle = styleChoice.nextStyle()\n",
        "        pylab.plot(xVals, yVals, curStyle,\n",
        "                   label = fClass.__name__)\n",
        "    pylab.title('Spots Visited on Walk ('\n",
        "                + str(numSteps) + ' steps)')\n",
        "    pylab.xlabel('Steps East/West of Origin')\n",
        "    pylab.ylabel('Steps North/South of Origin')\n",
        "    pylab.legend(loc = 'best')\n",
        "\n",
        "#random.seed(0)\n",
        "#traceWalk((Field, OddField), 500)"
      ],
      "metadata": {
        "colab": {
          "base_uri": "https://localhost:8080/"
        },
        "id": "cPnvNjTm9cK1",
        "outputId": "6a204915-ce1c-4be7-c14c-8af72ec26ce2"
      },
      "execution_count": null,
      "outputs": [
        {
          "output_type": "stream",
          "name": "stdout",
          "text": [
            "Starting simulation of UsualDrunk\n",
            "Starting simulation of 10 steps\n",
            "Starting simulation of 100 steps\n",
            "Starting simulation of 1000 steps\n",
            "Starting simulation of 10000 steps\n",
            "Starting simulation of 100000 steps\n",
            "Starting simulation of MasochistDrunk\n",
            "Starting simulation of 10 steps\n",
            "Starting simulation of 100 steps\n",
            "Starting simulation of 1000 steps\n",
            "Starting simulation of 10000 steps\n",
            "Starting simulation of 100000 steps\n"
          ]
        },
        {
          "output_type": "display_data",
          "data": {
            "text/plain": [
              "<Figure size 576x396 with 1 Axes>"
            ],
            "image/png": "[encoded data removed]"
          },
          "metadata": {}
        }
      ]
    },
    {
      "cell_type": "code",
      "source": [
        "plotLocs((UsualDrunk, MasochistDrunk), 10000, 1000)"
      ],
      "metadata": {
        "colab": {
          "base_uri": "https://localhost:8080/"
        },
        "id": "jfbBvc3cCIJJ",
        "outputId": "7c86f424-e0ad-4468-b6c1-6195690dd351"
      },
      "execution_count": null,
      "outputs": [
        {
          "output_type": "display_data",
          "data": {
            "text/plain": [
              "<Figure size 576x396 with 1 Axes>"
            ],
            "image/png": "[encoded data removed]"
          },
          "metadata": {}
        }
      ]
    },
    {
      "cell_type": "code",
      "source": [
        "traceWalk((Field, OddField), 500)"
      ],
      "metadata": {
        "colab": {
          "base_uri": "https://localhost:8080/"
        },
        "id": "LfGcxxVV-6KD",
        "outputId": "3b901810-476e-4649-ce3a-f0c68282f3fb"
      },
      "execution_count": null,
      "outputs": [
        {
          "output_type": "display_data",
          "data": {
            "text/plain": [
              "<Figure size 576x396 with 1 Axes>"
            ],
            "image/png": "[encoded data removed]"
          },
          "metadata": {}
        }
      ]
    },
    {
      "cell_type": "code",
      "source": [
        ""
      ],
      "metadata": {
        "id": "DknQ4Uc9CJq3"
      },
      "execution_count": null,
      "outputs": []
    },
    {
      "cell_type": "markdown",
      "source": [
        "# Monte Carlo Simulation"
      ],
      "metadata": {
        "id": "AFmzf4wrLMq-"
      }
    },
    {
      "cell_type": "code",
      "source": [
        "import random\n",
        "class FairRoulette():\n",
        "  def __init__(self):\n",
        "    self.pockets = []\n",
        "    for i in range(1, 37):\n",
        "      self.pockets.append(i)\n",
        "    self.ball = None\n",
        "    self.pocketOdds = len(self.pockets) - 1\n",
        "  def spin(self):\n",
        "    self.ball = random.choice(self.pockets)\n",
        "  def betPocket(self, pocket, amt):\n",
        "    if str(pocket) == str(self.ball):\n",
        "      return amt*self.pocketOdds\n",
        "    else: return -amt\n",
        "  def __str__(self):\n",
        "    return 'Fair Roulette'\n"
      ],
      "metadata": {
        "id": "c1uQUkOeLP0z"
      },
      "execution_count": null,
      "outputs": []
    },
    {
      "cell_type": "code",
      "source": [
        "def playRoulette(game, numSpins, pocket, bet, toPrint):\n",
        "  totPocket = 0\n",
        "  for i in range(numSpins):\n",
        "    game.spin()\n",
        "    totPocket += game.betPocket(pocket, bet)\n",
        "  if toPrint:\n",
        "    print(numSpins, 'spins of', game)\n",
        "    print(f\"Expected return betting {pocket} = {str(100*totPocket/numSpins)}%\")\n",
        "  return (totPocket/numSpins)"
      ],
      "metadata": {
        "id": "GRVYeY29QRNH"
      },
      "execution_count": null,
      "outputs": []
    },
    {
      "cell_type": "code",
      "source": [
        "random.seed(0)\n",
        "game = FairRoulette()\n",
        "for numSpins in (100, 1000000):\n",
        "  for i in range(3):\n",
        "    playRoulette(game, numSpins, 2, 1, True)"
      ],
      "metadata": {
        "colab": {
          "base_uri": "https://localhost:8080/"
        },
        "id": "DDMfiZr2Q261",
        "outputId": "ec91a583-509d-4cc7-ec59-bf43c2baa009"
      },
      "execution_count": null,
      "outputs": [
        {
          "output_type": "stream",
          "name": "stdout",
          "text": [
            "100 spins of Fair Roulette\n",
            "Expected return betting 2 = -100.0%\n",
            "100 spins of Fair Roulette\n",
            "Expected return betting 2 = 44.0%\n",
            "100 spins of Fair Roulette\n",
            "Expected return betting 2 = -28.0%\n",
            "1000000 spins of Fair Roulette\n",
            "Expected return betting 2 = -0.046%\n",
            "1000000 spins of Fair Roulette\n",
            "Expected return betting 2 = 0.602%\n",
            "1000000 spins of Fair Roulette\n",
            "Expected return betting 2 = 0.7964%\n"
          ]
        }
      ]
    },
    {
      "cell_type": "code",
      "source": [
        "class EuRoulette(FairRoulette):\n",
        "  def __init__(self):\n",
        "    FairRoulette.__init__(self)\n",
        "    self.pockets.append('0')\n",
        "  def __str__(self):\n",
        "    return 'European Roulette'"
      ],
      "metadata": {
        "id": "icvbLoPlRCRA"
      },
      "execution_count": null,
      "outputs": []
    },
    {
      "cell_type": "code",
      "source": [
        "class AmRoulette(EuRoulette):\n",
        "  def __init__(self):\n",
        "    EuRoulette.__init__(self)\n",
        "    self.pockets.append('00')\n",
        "  def __str__(self):\n",
        "    return 'American Roulette'"
      ],
      "metadata": {
        "id": "4sxrKCAiWiQO"
      },
      "execution_count": null,
      "outputs": []
    },
    {
      "cell_type": "code",
      "source": [
        "eu_game = EuRoulette()\n",
        "na_game = AmRoulette()\n",
        "\n",
        "for numSpins in (100, 1000000):\n",
        "  for i in range(3):\n",
        "    playRoulette(eu_game, numSpins, 2, 1, True)\n",
        "    playRoulette(na_game, numSpins, 2, 1, True)\n"
      ],
      "metadata": {
        "colab": {
          "base_uri": "https://localhost:8080/"
        },
        "id": "_wpg7Mi6W1T3",
        "outputId": "04bae33f-271e-44c0-f547-960f8e974f3a"
      },
      "execution_count": null,
      "outputs": [
        {
          "output_type": "stream",
          "name": "stdout",
          "text": [
            "100 spins of European Roulette\n",
            "Expected return betting 2 = -100.0%\n",
            "100 spins of American Roulette\n",
            "Expected return betting 2 = 8.0%\n",
            "100 spins of European Roulette\n",
            "Expected return betting 2 = 8.0%\n",
            "100 spins of American Roulette\n",
            "Expected return betting 2 = 44.0%\n",
            "100 spins of European Roulette\n",
            "Expected return betting 2 = -64.0%\n",
            "100 spins of American Roulette\n",
            "Expected return betting 2 = 44.0%\n",
            "1000000 spins of European Roulette\n",
            "Expected return betting 2 = -3.1672%\n",
            "1000000 spins of American Roulette\n",
            "Expected return betting 2 = -4.7476%\n",
            "1000000 spins of European Roulette\n",
            "Expected return betting 2 = -2.4724%\n",
            "1000000 spins of American Roulette\n",
            "Expected return betting 2 = -5.266%\n",
            "1000000 spins of European Roulette\n",
            "Expected return betting 2 = -2.6092%\n",
            "1000000 spins of American Roulette\n",
            "Expected return betting 2 = -4.5964%\n"
          ]
        }
      ]
    },
    {
      "cell_type": "code",
      "source": [
        "def getMeanandStd(X):\n",
        "  mean = sum(X)/float(len(X))\n",
        "  tot = 0.0\n",
        "  for x in X:\n",
        "    tot += (x - mean)**2\n",
        "  std = (tot/len(X))**0.5\n",
        "  return mean, std"
      ],
      "metadata": {
        "id": "jKPLbNBhXQ5K"
      },
      "execution_count": null,
      "outputs": []
    },
    {
      "cell_type": "code",
      "source": [
        ""
      ],
      "metadata": {
        "id": "OWuda7sLYFDn"
      },
      "execution_count": null,
      "outputs": []
    },
    {
      "cell_type": "markdown",
      "source": [
        "# Confidence Intervals\n",
        "\n"
      ],
      "metadata": {
        "id": "4c7Wpd4QyPSZ"
      }
    },
    {
      "cell_type": "code",
      "source": [
        "import random\n",
        "import math\n",
        "import pylab\n",
        "\n",
        "dist, numSamples = [], 1000000\n",
        "\n",
        "for i in range(numSamples):\n",
        "  dist.append(random.gauss(0, 100))\n",
        "\n",
        "weights = [1/numSamples]*len(dist)\n",
        "v = pylab.hist(dist, bins = 100, weights = [1/numSamples]*len(dist))\n",
        "pylab.xlabel('x')\n",
        "pylab.ylabel('Relative Frequency')\n",
        "\n",
        "print('Fraction within ~200 of mean =', sum(v[0][30:70]))"
      ],
      "metadata": {
        "colab": {
          "base_uri": "https://localhost:8080/",
          "height": 379
        },
        "id": "D1_AkQNwyUjf",
        "outputId": "ae509e58-6404-4732-82d2-22ec44081c93"
      },
      "execution_count": null,
      "outputs": [
        {
          "output_type": "stream",
          "name": "stdout",
          "text": [
            "Fraction within ~200 of mean = 0.9532139999999951\n"
          ]
        },
        {
          "output_type": "display_data",
          "data": {
            "text/plain": [
              "<Figure size 576x396 with 1 Axes>"
            ],
            "image/png": "[encoded data removed]"
          },
          "metadata": {}
        }
      ]
    },
    {
      "cell_type": "code",
      "source": [
        "def gaussian(x, mu, sigma):\n",
        "  factor1 = (1.0/(sigma*((2*pylab.pi)**0.5)))\n",
        "  factor2 = pylab.e**-(((x-mu)**2)/(2*sigma**2))\n",
        "  return factor1*factor2\n",
        "\n",
        "xVals, yVals = [], []\n",
        "mu, sigma = 0, 1\n",
        "x = -4\n",
        "while x <= 4:\n",
        "  xVals.append(x)\n",
        "  yVals.append(gaussian(x, mu, sigma))\n",
        "  x += 0.05\n",
        "pylab.plot(xVals, yVals)\n",
        "pylab.title('Normal Distribution, mu = ' + str(mu) + ', sigma = ' + str(sigma))\n"
      ],
      "metadata": {
        "colab": {
          "base_uri": "https://localhost:8080/",
          "height": 380
        },
        "id": "9gCnFOaKxIA6",
        "outputId": "501ca7e7-e55a-4410-a69d-8287d55aae09"
      },
      "execution_count": null,
      "outputs": [
        {
          "output_type": "execute_result",
          "data": {
            "text/plain": [
              "Text(0.5, 1.0, 'Normal Distribution, mu = 0, sigma = 1')"
            ]
          },
          "metadata": {},
          "execution_count": 116
        },
        {
          "output_type": "display_data",
          "data": {
            "text/plain": [
              "<Figure size 576x396 with 1 Axes>"
            ],
            "image/png": "[encoded data removed]"
          },
          "metadata": {}
        }
      ]
    },
    {
      "cell_type": "code",
      "source": [
        "import scipy.integrate\n",
        "\n",
        "def checkEmpirical(numTrials):\n",
        "  for t in range(numTrials):\n",
        "    mu = random.randint(-10, 10)\n",
        "    sigma = random.randint(1, 10)\n",
        "    print('For mu = ', mu, 'and sigma = ', sigma)\n",
        "\n",
        "    for numStd in (1, 1.96, 3):\n",
        "      area = scipy.integrate.quad(gaussian, mu-numStd*sigma, mu+numStd*sigma, (mu, sigma))[0]\n",
        "      print(' Fraction within', numStd, 'std = ', round(area, 4))\n",
        "checkEmpirical(3)"
      ],
      "metadata": {
        "colab": {
          "base_uri": "https://localhost:8080/"
        },
        "id": "4x1xH7ZoxBt3",
        "outputId": "8eefd184-6669-4bf0-8c02-71b5f6541a17"
      },
      "execution_count": null,
      "outputs": [
        {
          "output_type": "stream",
          "name": "stdout",
          "text": [
            "For mu =  -8 and sigma =  5\n",
            " Fraction within 1 std =  0.6827\n",
            " Fraction within 1.96 std =  0.95\n",
            " Fraction within 3 std =  0.9973\n",
            "For mu =  -7 and sigma =  3\n",
            " Fraction within 1 std =  0.6827\n",
            " Fraction within 1.96 std =  0.95\n",
            " Fraction within 3 std =  0.9973\n",
            "For mu =  -2 and sigma =  7\n",
            " Fraction within 1 std =  0.6827\n",
            " Fraction within 1.96 std =  0.95\n",
            " Fraction within 3 std =  0.9973\n"
          ]
        }
      ]
    },
    {
      "cell_type": "code",
      "source": [
        "def plotMeans(numDice, numRolls, numBins, legend, color, style):\n",
        "  means = []\n",
        "  for i in range(numRolls//numDice):\n",
        "    vals = 0\n",
        "    for j in range(numDice):\n",
        "      vals += 5*random.random()\n",
        "    means.append(vals/float(numDice))\n",
        "  pylab.hist(means, numBins, color = color, label = legend, weights = pylab.array(len(means)*[1])/len(means), hatch = style)\n",
        "  return getMeanAndStd(means)\n",
        "\n",
        "def getMeanAndStd(X):\n",
        "    mean = sum(X)/float(len(X))\n",
        "    tot = 0.0\n",
        "    for x in X:\n",
        "        tot += (x - mean)**2\n",
        "    std = (tot/len(X))**0.5\n",
        "    return mean, std"
      ],
      "metadata": {
        "id": "FwOw-twt2xBb"
      },
      "execution_count": null,
      "outputs": []
    },
    {
      "cell_type": "code",
      "source": [
        "mean, std = plotMeans(1, 1000000, 19, '1 die', 'b', '*')\n",
        "print('Mean of rolling 1 die =', str(mean) + ',', 'Std =', std)\n",
        "mean, std = plotMeans(50, 1000000, 19, 'Mean of 50 dice', 'r', '//')\n",
        "print('Mean of rolling 50 dice =', str(mean) + ',', 'Std =', std)\n",
        "pylab.title('Rolling Continuous Dice')\n",
        "pylab.xlabel('Value')\n",
        "pylab.ylabel('Probability')\n",
        "pylab.legend()"
      ],
      "metadata": {
        "colab": {
          "base_uri": "https://localhost:8080/",
          "height": 431
        },
        "id": "VBjXEKDz5XjO",
        "outputId": "0c8f1ec1-7b93-4334-d93f-8e6625f5df46"
      },
      "execution_count": null,
      "outputs": [
        {
          "output_type": "stream",
          "name": "stdout",
          "text": [
            "Mean of rolling 1 die = 2.500165549838943, Std = 1.4436582196940642\n",
            "Mean of rolling 50 dice = 2.4983221701406677, Std = 0.20341008578425315\n"
          ]
        },
        {
          "output_type": "execute_result",
          "data": {
            "text/plain": [
              "<matplotlib.legend.Legend at 0x7f39520231d0>"
            ]
          },
          "metadata": {},
          "execution_count": 119
        },
        {
          "output_type": "display_data",
          "data": {
            "text/plain": [
              "<Figure size 576x396 with 1 Axes>"
            ],
            "image/png": "[encoded data removed]"
          },
          "metadata": {}
        }
      ]
    },
    {
      "cell_type": "code",
      "source": [
        "numTrials = 1000000\n",
        "numSpins = 200\n",
        "game = FairRoulette()\n",
        "\n",
        "def findPocketReturn(game, numTrials, trialSize, toPrint):\n",
        "    pocketReturns = []\n",
        "    for t in range(numTrials):\n",
        "        trialVals = playRoulette(game, trialSize, 2, 1, toPrint)\n",
        "        pocketReturns.append(trialVals)\n",
        "    return pocketReturns\n",
        "\n",
        "means = []\n",
        "for i in range(numTrials):\n",
        "  means.append(findPocketReturn(game, 1, numSpins, False)[0])\n",
        "\n",
        "pylab.hist(means, bins = 19, weights = [1/len(means)]*len(means))\n",
        "pylab.xlabel('Mean Return')\n",
        "pylab.ylabel('Probability')\n",
        "pylab.title('Expected Return Betting a Pocket 200 Times')"
      ],
      "metadata": {
        "colab": {
          "base_uri": "https://localhost:8080/",
          "height": 394
        },
        "id": "vcvwHt5z5Z2s",
        "outputId": "d967d03d-a392-4e01-c1ad-8dd452f87e7d"
      },
      "execution_count": null,
      "outputs": [
        {
          "output_type": "execute_result",
          "data": {
            "text/plain": [
              "Text(0.5, 1.0, 'Expected Return Betting a Pocket 200 Times')"
            ]
          },
          "metadata": {},
          "execution_count": 121
        },
        {
          "output_type": "display_data",
          "data": {
            "text/plain": [
              "<Figure size 576x396 with 1 Axes>"
            ],
            "image/png": "[encoded data removed]"
          },
          "metadata": {}
        }
      ]
    },
    {
      "cell_type": "code",
      "source": [
        "import numpy\n",
        "def throwNeedles(numNeedles):\n",
        "    inCircle = 0\n",
        "    for Needles in range(1, numNeedles + 1, 1):\n",
        "        x = random.random()\n",
        "        y = random.random()\n",
        "        if (x*x + y*y)**0.5 <= 1.0:\n",
        "            inCircle += 1\n",
        "    return (inCircle/float(numNeedles))*4\n",
        "    \n",
        "def getEst(numNeedles, numTrials):\n",
        "    estimates = []\n",
        "    for t in range(numTrials):\n",
        "        piGuess = throwNeedles(numNeedles)\n",
        "        estimates.append(piGuess)\n",
        "    sDev = numpy.std(estimates)\n",
        "    curEst = sum(estimates)/len(estimates)\n",
        "    print('Est. = ' + str(curEst) +\\\n",
        "          ', Std. dev. = ' + str(round(sDev, 6))\\\n",
        "          + ', Needles = ' + str(numNeedles))\n",
        "    return (curEst, sDev)\n",
        "\n",
        "def estPi(precision, numTrials):\n",
        "    numNeedles = 1000\n",
        "    sDev = precision\n",
        "    while sDev >= precision/2:\n",
        "        curEst, sDev = getEst(numNeedles,\n",
        "                              numTrials)\n",
        "        numNeedles *= 2\n",
        "    return curEst\n",
        "\n",
        "random.seed(0)\n",
        "estPi(0.005, 100)"
      ],
      "metadata": {
        "colab": {
          "base_uri": "https://localhost:8080/"
        },
        "id": "-rH_rnzQ7YOY",
        "outputId": "87b625c4-4dcb-4611-ec8d-fc1614c24a80"
      },
      "execution_count": null,
      "outputs": [
        {
          "output_type": "stream",
          "name": "stdout",
          "text": [
            "Est. = 3.1484400000000012, Std. dev. = 0.047886, Needles = 1000\n",
            "Est. = 3.1391799999999987, Std. dev. = 0.035495, Needles = 2000\n",
            "Est. = 3.1410799999999997, Std. dev. = 0.02713, Needles = 4000\n",
            "Est. = 3.141435, Std. dev. = 0.016805, Needles = 8000\n",
            "Est. = 3.141355, Std. dev. = 0.0137, Needles = 16000\n",
            "Est. = 3.1413137500000006, Std. dev. = 0.008476, Needles = 32000\n",
            "Est. = 3.141171874999999, Std. dev. = 0.007028, Needles = 64000\n",
            "Est. = 3.1415896874999993, Std. dev. = 0.004035, Needles = 128000\n",
            "Est. = 3.1417414062499995, Std. dev. = 0.003536, Needles = 256000\n",
            "Est. = 3.14155671875, Std. dev. = 0.002101, Needles = 512000\n"
          ]
        },
        {
          "output_type": "execute_result",
          "data": {
            "text/plain": [
              "3.14155671875"
            ]
          },
          "metadata": {},
          "execution_count": 129
        }
      ]
    },
    {
      "cell_type": "markdown",
      "source": [
        "# Experimental Data\n"
      ],
      "metadata": {
        "id": "mp8b3IJy_uOf"
      }
    },
    {
      "cell_type": "code",
      "source": [
        "import random, pylab, numpy\n",
        "\n",
        "#set line width\n",
        "pylab.rcParams['lines.linewidth'] = 4\n",
        "#set font size for titles \n",
        "pylab.rcParams['axes.titlesize'] = 20\n",
        "#set font size for labels on axes\n",
        "pylab.rcParams['axes.labelsize'] = 20\n",
        "#set size of numbers on x-axis\n",
        "pylab.rcParams['xtick.labelsize'] = 16\n",
        "#set size of numbers on y-axis\n",
        "pylab.rcParams['ytick.labelsize'] = 16\n",
        "#set size of ticks on x-axis\n",
        "pylab.rcParams['xtick.major.size'] = 7\n",
        "#set size of ticks on y-axis\n",
        "pylab.rcParams['ytick.major.size'] = 7\n",
        "#set size of markers\n",
        "pylab.rcParams['lines.markersize'] = 10\n",
        "#set number of examples shown in legends\n",
        "pylab.rcParams['legend.numpoints'] = 1\n",
        "\n",
        "def getData(fileName):\n",
        "    dataFile = open(fileName, 'r')\n",
        "    distances = []\n",
        "    masses = []\n",
        "    dataFile.readline() #discard header\n",
        "    for line in dataFile:\n",
        "        d, m = line.split()\n",
        "        distances.append(float(d))\n",
        "        masses.append(float(m))\n",
        "    dataFile.close()\n",
        "    return (masses, distances)\n",
        "    \n",
        "def labelPlot():\n",
        "    pylab.title('Measured Displacement of Spring')\n",
        "    pylab.xlabel('|Force| (Newtons)')\n",
        "    pylab.ylabel('Distance (meters)')\n",
        "\n",
        "def plotData(fileName):\n",
        "    xVals, yVals = getData(fileName)\n",
        "    xVals = pylab.array(xVals)\n",
        "    yVals = pylab.array(yVals)\n",
        "    xVals = xVals*9.81  #acc. due to gravity\n",
        "    pylab.plot(xVals, yVals, 'bo',\n",
        "               label = 'Measured displacements')\n",
        "    labelPlot()\n",
        "    \n",
        "def fitData(fileName):\n",
        "    xVals, yVals = getData(fileName)\n",
        "    xVals = pylab.array(xVals)\n",
        "    yVals = pylab.array(yVals)\n",
        "    xVals = xVals*9.81 #get force\n",
        "    pylab.plot(xVals, yVals, 'bo',\n",
        "               label = 'Measured points')\n",
        "    labelPlot()                 \n",
        "    a,b = pylab.polyfit(xVals, yVals, 1)\n",
        "    estYVals = a*pylab.array(xVals) + b\n",
        "    print('a =', a, 'b =', b)\n",
        "    pylab.plot(xVals, estYVals, 'r',\n",
        "               label = 'Linear fit, k = '\n",
        "               + str(round(1/a, 5)))\n",
        "    pylab.legend(loc = 'best')\n",
        "    \n",
        "fitData('springData.txt')\n"
      ],
      "metadata": {
        "colab": {
          "base_uri": "https://localhost:8080/",
          "height": 336
        },
        "id": "ZeJZdcP9_xQF",
        "outputId": "8c3066a6-6829-4909-c306-2b9535f9fcc7"
      },
      "execution_count": 5,
      "outputs": [
        {
          "output_type": "stream",
          "name": "stdout",
          "text": [
            "a = 0.046432033192052496 b = 0.06562859649122817\n"
          ]
        },
        {
          "output_type": "display_data",
          "data": {
            "text/plain": [
              "<Figure size 432x288 with 1 Axes>"
            ],
            "image/png": "[encoded data removed]"
          },
          "metadata": {
            "needs_background": "light"
          }
        }
      ]
    },
    {
      "cell_type": "code",
      "source": [
        "def fitData1(fileName):\n",
        "    xVals, yVals = getData(fileName)\n",
        "    xVals = pylab.array(xVals)\n",
        "    yVals = pylab.array(yVals)\n",
        "    xVals = xVals*9.81 #get force\n",
        "    pylab.plot(xVals, yVals, 'bo',\n",
        "               label = 'Measured points')\n",
        "    labelPlot()                 \n",
        "    model = pylab.polyfit(xVals, yVals, 1)\n",
        "    estYVals = pylab.polyval(model, xVals)\n",
        "    pylab.plot(xVals, estYVals, 'r',\n",
        "               label = 'Linear fit, k = '\n",
        "               + str(round(1/model[0], 5)))\n",
        "    pylab.legend(loc = 'best')\n",
        "\n",
        "fitData1('springData.txt')"
      ],
      "metadata": {
        "colab": {
          "base_uri": "https://localhost:8080/",
          "height": 318
        },
        "id": "MRZ3IXFjRthy",
        "outputId": "985b7a1d-f18f-485f-f4f0-499f77bd4074"
      },
      "execution_count": 6,
      "outputs": [
        {
          "output_type": "display_data",
          "data": {
            "text/plain": [
              "<Figure size 432x288 with 1 Axes>"
            ],
            "image/png": "[encoded data removed]"
          },
          "metadata": {
            "needs_background": "light"
          }
        }
      ]
    },
    {
      "cell_type": "code",
      "source": [
        "#Demonstration using mystery data\n",
        "\n",
        "xVals, yVals = getData('mysteryData.txt')\n",
        "pylab.plot(xVals, yVals, 'o', label = 'Data Points')\n",
        "pylab.title('Mystery Data')\n",
        "\n",
        "#Try linear model\n",
        "model1 = pylab.polyfit(xVals, yVals, 1)\n",
        "pylab.plot(xVals, pylab.polyval(model1, xVals),\n",
        "          label = 'Linear Model')\n",
        "\n",
        "#Try a quadratic model\n",
        "model2 = pylab.polyfit(xVals, yVals, 2)\n",
        "pylab.plot(xVals, pylab.polyval(model2, xVals),\n",
        "          'r--', label = 'Quadratic Model')\n",
        "pylab.legend()"
      ],
      "metadata": {
        "colab": {
          "base_uri": "https://localhost:8080/",
          "height": 313
        },
        "id": "QSjjvE39W1Tt",
        "outputId": "87e779e3-e672-4a11-96db-e8bfd450d465"
      },
      "execution_count": 10,
      "outputs": [
        {
          "output_type": "execute_result",
          "data": {
            "text/plain": [
              "<matplotlib.legend.Legend at 0x7f9da175e150>"
            ]
          },
          "metadata": {},
          "execution_count": 10
        },
        {
          "output_type": "display_data",
          "data": {
            "text/plain": [
              "<Figure size 432x288 with 1 Axes>"
            ],
            "image/png": "[encoded data removed]"
          },
          "metadata": {
            "needs_background": "light"
          }
        }
      ]
    },
    {
      "cell_type": "code",
      "source": [
        "##Compare models\n",
        "def aveMeanSquareError(data, predicted):\n",
        "    error = 0.0\n",
        "    for i in range(len(data)):\n",
        "        error += (data[i] - predicted[i])**2\n",
        "    return error/len(data)\n",
        "\n",
        "#code to compare fits for mystery data\n",
        "#estYVals = pylab.polyval(model1, xVals)  \n",
        "#print('Ave. mean square error for linear model =',\n",
        "#      aveMeanSquareError(yVals, estYVals))\n",
        "#estYVals = pylab.polyval(model2, xVals)\n",
        "#print('Ave. mean square error for quadratic model =',\n",
        "#      aveMeanSquareError(yVals, estYVals))\n",
        "\n",
        "def rSquared(observed, predicted):\n",
        "    error = ((predicted - observed)**2).sum()\n",
        "    meanError = error/len(observed)\n",
        "    return 1 - (meanError/numpy.var(observed))\n",
        "\n",
        "def genFits(xVals, yVals, degrees):\n",
        "    models = []\n",
        "    for d in degrees:\n",
        "        model = pylab.polyfit(xVals, yVals, d)\n",
        "        models.append(model)\n",
        "    return models\n",
        "\n",
        "def testFits(models, degrees, xVals, yVals, title):\n",
        "    pylab.plot(xVals, yVals, 'o', label = 'Data')\n",
        "    for i in range(len(models)):\n",
        "        estYVals = pylab.polyval(models[i], xVals)\n",
        "        error = rSquared(yVals, estYVals)\n",
        "        pylab.plot(xVals, estYVals,\n",
        "                   label = 'Fit of degree '\\\n",
        "                   + str(degrees[i])\\\n",
        "                   + ', R2 = ' + str(round(error, 5)))\n",
        "    pylab.legend(loc = 'best')\n",
        "    pylab.title(title)\n",
        "\n",
        "#code for testing goodness of fit to parabolic data\n",
        "\n",
        "xVals, yVals = getData('mysteryData.txt')\n",
        "degrees = (1, 2)\n",
        "models = genFits(xVals, yVals, degrees)\n",
        "testFits(models, degrees, xVals, yVals, 'Mystery Data')\n",
        "\n",
        "#Compare higher-order fits\n",
        "degrees = (2, 4, 8, 16)\n",
        "models = genFits(xVals, yVals, degrees)\n",
        "testFits(models, degrees, xVals, yVals, 'Mystery Data')\n",
        "\n",
        "def genNoisyParabolicData(a, b, c, xVals, fName):\n",
        "    yVals = []\n",
        "    for x in xVals:\n",
        "        theoreticalVal = a*x**2 + b*x + c\n",
        "        yVals.append(theoreticalVal\\\n",
        "        + random.gauss(0, 35))\n",
        "    f = open(fName,'w')\n",
        "    f.write('x        y\\n')\n",
        "    for i in range(len(yVals)):\n",
        "        f.write(str(yVals[i]) + ' ' + str(xVals[i]) + '\\n')\n",
        "    f.close()\n",
        "    \n"
      ],
      "metadata": {
        "colab": {
          "base_uri": "https://localhost:8080/",
          "height": 295
        },
        "id": "lMcIlJjDRt9J",
        "outputId": "99abe6fb-e2f0-48b3-d4ef-0c48213b7567"
      },
      "execution_count": 11,
      "outputs": [
        {
          "output_type": "display_data",
          "data": {
            "text/plain": [
              "<Figure size 432x288 with 1 Axes>"
            ],
            "image/png": "[encoded data removed]"
          },
          "metadata": {
            "needs_background": "light"
          }
        }
      ]
    },
    {
      "cell_type": "code",
      "source": [
        ""
      ],
      "metadata": {
        "id": "JWIwSKCURvjC"
      },
      "execution_count": null,
      "outputs": []
    }
  ]
}