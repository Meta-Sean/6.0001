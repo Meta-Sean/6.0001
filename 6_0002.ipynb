{
  "nbformat": 4,
  "nbformat_minor": 0,
  "metadata": {
    "colab": {
      "name": "6.0002.ipynb",
      "provenance": [],
      "authorship_tag": "ABX9TyMytXPjAhLH8CiP4wzVD+CT",
      "include_colab_link": true
    },
    "kernelspec": {
      "name": "python3",
      "display_name": "Python 3"
    },
    "language_info": {
      "name": "python"
    }
  },
  "cells": [
    {
      "cell_type": "markdown",
      "metadata": {
        "id": "view-in-github",
        "colab_type": "text"
      },
      "source": [
        "<a href=\"https://colab.research.google.com/github/Meta-Sean/Course-6-Mono/blob/main/6_0002.ipynb\" target=\"_parent\"><img src=\"https://colab.research.google.com/assets/colab-badge.svg\" alt=\"Open In Colab\"/></a>"
      ]
    },
    {
      "cell_type": "markdown",
      "source": [
        "# Introduction, Optimization Problems"
      ],
      "metadata": {
        "id": "Qfwii5s9rfk6"
      }
    },
    {
      "cell_type": "code",
      "source": [
        "'''\n",
        "Each item is represented by a pair, <value, weight>\n",
        "\n",
        "The knapsack can accommodate items with a total weight of no more than w\n",
        "\n",
        "A vector, L, of length n, represents the set of available items. Each element of the vector is an item\n",
        "\n",
        "A vector, V, of length n, is used to indicate whether or not items are take. If V[i]=1, items I[i] is taken. If V[i] = 0, items I[i] is not taken\n",
        "\n",
        "'''\n",
        "\n",
        "\n",
        "\n"
      ],
      "metadata": {
        "colab": {
          "base_uri": "https://localhost:8080/",
          "height": 87
        },
        "id": "sXaUncKArj2m",
        "outputId": "77a24c95-34fb-4360-8fcc-eba4ecec2222"
      },
      "execution_count": 1,
      "outputs": [
        {
          "output_type": "execute_result",
          "data": {
            "text/plain": [
              "'\\nEach item is represented by a pair, <value, weight>\\n\\nThe knapsack can accommodate items with a total weight of no more than w\\n\\nA vector, L, of length n, represents the set of available items. Each element of the vector is an item\\n\\nA vector, V, of length n, is used to indicate whether or not items are take. If V[i]=1, items I[i] is taken. If V[i] = 0, items I[i] is not taken\\n\\n'"
            ],
            "application/vnd.google.colaboratory.intrinsic+json": {
              "type": "string"
            }
          },
          "metadata": {},
          "execution_count": 1
        }
      ]
    },
    {
      "cell_type": "code",
      "source": [
        "# Greedy Algorithm Sudo \n",
        "# while knapsack not full \n",
        "  # put 'best' avaiblable item in knapsack"
      ],
      "metadata": {
        "id": "hkbzTcB0tPor"
      },
      "execution_count": 2,
      "outputs": []
    },
    {
      "cell_type": "code",
      "source": [
        "class Food(object):\n",
        "  def __init__(self, n, v, w):\n",
        "    self.name = n\n",
        "    self.value = v\n",
        "    self.calories = w\n",
        "\n",
        "  def getValue(self):\n",
        "    return self.value\n",
        "\n",
        "  def getCost(self):\n",
        "    return self.calories\n",
        "\n",
        "  def density(self):\n",
        "    return self.getValue()/self.getCost()\n",
        "\n",
        "  def __str__(self):\n",
        "    return self.name + \": <\" + str(self.value) + \", \" + str(self.calories) + \">\""
      ],
      "metadata": {
        "id": "pR6wqByxuX2X"
      },
      "execution_count": 18,
      "outputs": []
    },
    {
      "cell_type": "code",
      "source": [
        "def buildMenu(names, values, calories):\n",
        "  menu = []\n",
        "  for i in range(len(values)):\n",
        "    menu.append(Food(names[i], values[i],calories[i]))\n",
        "\n",
        "  return menu"
      ],
      "metadata": {
        "id": "vbcUKUDMuvcJ"
      },
      "execution_count": 19,
      "outputs": []
    },
    {
      "cell_type": "code",
      "source": [
        "def greedy(items, maxCost, keyFunction):\n",
        "  '''Assumes items a list, maxCost >= 0,\n",
        "    keyFunction maps elements of items to numbers'''\n",
        "  itemsCopy = sorted(items, key = keyFunction, reverse=True)\n",
        "  result = []\n",
        "  totalValue, totalCost = 0.0, 0.0\n",
        "\n",
        "  for i in range(len(itemsCopy)):\n",
        "    if (totalCost+itemsCopy[i].getCost()) <= maxCost:\n",
        "      result.append(itemsCopy[i])\n",
        "      totalCost += itemsCopy[i].getCost()\n",
        "      totalValue += itemsCopy[i].getValue()\n",
        "\n",
        "  return (result, totalValue)"
      ],
      "metadata": {
        "id": "0Aypo2TEvJIE"
      },
      "execution_count": 20,
      "outputs": []
    },
    {
      "cell_type": "code",
      "source": [
        "def testGreedy(items, constraint, keyFunction):\n",
        "    taken, val = greedy(items, constraint, keyFunction)\n",
        "    print('Total value of items taken =', val)\n",
        "    for item in taken:\n",
        "        print('   ', item)"
      ],
      "metadata": {
        "id": "ejhh7t9rwqU9"
      },
      "execution_count": 31,
      "outputs": []
    },
    {
      "cell_type": "code",
      "source": [
        "def testGreedys(foods, maxUnits):\n",
        "    print('Use greedy by value to allocate', maxUnits,\n",
        "          'calories')\n",
        "    testGreedy(foods, maxUnits, Food.getValue)\n",
        "    print('\\nUse greedy by cost to allocate', maxUnits,\n",
        "          'calories')\n",
        "    testGreedy(foods, maxUnits,\n",
        "               lambda x: 1/Food.getCost(x))\n",
        "    print('\\nUse greedy by density to allocate', maxUnits,\n",
        "          'calories')\n",
        "    testGreedy(foods, maxUnits, Food.density)"
      ],
      "metadata": {
        "id": "gdvNfLj_vpkZ"
      },
      "execution_count": 32,
      "outputs": []
    },
    {
      "cell_type": "code",
      "source": [
        "names = ['wine', 'beer', 'pizza', 'burger', 'fries',\n",
        "         'cola', 'apple', 'donut', 'cake']\n",
        "values = [89,90,95,100,90,79,50,10]\n",
        "calories = [123,154,258,354,365,150,95,195]\n",
        "foods = buildMenu(names, values, calories)"
      ],
      "metadata": {
        "id": "x_iAeDqUyUCE"
      },
      "execution_count": 33,
      "outputs": []
    },
    {
      "cell_type": "code",
      "source": [
        "testGreedys(foods,800)"
      ],
      "metadata": {
        "colab": {
          "base_uri": "https://localhost:8080/"
        },
        "id": "zQ5Ji-Lwyo8G",
        "outputId": "71e22706-e6fc-4761-8952-3d8e4a203d5a"
      },
      "execution_count": 34,
      "outputs": [
        {
          "output_type": "stream",
          "name": "stdout",
          "text": [
            "Use greedy by value to allocate 800 calories\n",
            "Total value of items taken = 285.0\n",
            "    burger: <100, 354>\n",
            "    pizza: <95, 258>\n",
            "    beer: <90, 154>\n",
            "\n",
            "Use greedy by cost to allocate 800 calories\n",
            "Total value of items taken = 318.0\n",
            "    apple: <50, 95>\n",
            "    wine: <89, 123>\n",
            "    cola: <79, 150>\n",
            "    beer: <90, 154>\n",
            "    donut: <10, 195>\n",
            "\n",
            "Use greedy by density to allocate 800 calories\n",
            "Total value of items taken = 403.0\n",
            "    wine: <89, 123>\n",
            "    beer: <90, 154>\n",
            "    cola: <79, 150>\n",
            "    apple: <50, 95>\n",
            "    pizza: <95, 258>\n"
          ]
        }
      ]
    },
    {
      "cell_type": "code",
      "source": [
        "testGreedys(foods,1000)"
      ],
      "metadata": {
        "colab": {
          "base_uri": "https://localhost:8080/"
        },
        "id": "fdIE04yEyr11",
        "outputId": "11e61202-c44f-4c68-9067-4a272345ef1f"
      },
      "execution_count": 35,
      "outputs": [
        {
          "output_type": "stream",
          "name": "stdout",
          "text": [
            "Use greedy by value to allocate 1000 calories\n",
            "Total value of items taken = 424.0\n",
            "    burger: <100, 354>\n",
            "    pizza: <95, 258>\n",
            "    beer: <90, 154>\n",
            "    wine: <89, 123>\n",
            "    apple: <50, 95>\n",
            "\n",
            "Use greedy by cost to allocate 1000 calories\n",
            "Total value of items taken = 413.0\n",
            "    apple: <50, 95>\n",
            "    wine: <89, 123>\n",
            "    cola: <79, 150>\n",
            "    beer: <90, 154>\n",
            "    donut: <10, 195>\n",
            "    pizza: <95, 258>\n",
            "\n",
            "Use greedy by density to allocate 1000 calories\n",
            "Total value of items taken = 413.0\n",
            "    wine: <89, 123>\n",
            "    beer: <90, 154>\n",
            "    cola: <79, 150>\n",
            "    apple: <50, 95>\n",
            "    pizza: <95, 258>\n",
            "    donut: <10, 195>\n"
          ]
        }
      ]
    },
    {
      "cell_type": "code",
      "source": [
        ""
      ],
      "metadata": {
        "id": "hB-3P3Je1oKp"
      },
      "execution_count": null,
      "outputs": []
    }
  ]
}