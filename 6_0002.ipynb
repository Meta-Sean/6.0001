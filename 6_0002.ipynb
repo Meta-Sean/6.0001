{
  "nbformat": 4,
  "nbformat_minor": 0,
  "metadata": {
    "colab": {
      "name": "6.0002.ipynb",
      "provenance": [],
      "toc_visible": true,
      "authorship_tag": "ABX9TyOIlaD5NOij8RhreGNxNvAf",
      "include_colab_link": true
    },
    "kernelspec": {
      "name": "python3",
      "display_name": "Python 3"
    },
    "language_info": {
      "name": "python"
    }
  },
  "cells": [
    {
      "cell_type": "markdown",
      "metadata": {
        "id": "view-in-github",
        "colab_type": "text"
      },
      "source": [
        "<a href=\"https://colab.research.google.com/github/Meta-Sean/6.0001-6.0002/blob/main/6_0002.ipynb\" target=\"_parent\"><img src=\"https://colab.research.google.com/assets/colab-badge.svg\" alt=\"Open In Colab\"/></a>"
      ]
    },
    {
      "cell_type": "markdown",
      "source": [
        "# Introduction, Optimization Problems"
      ],
      "metadata": {
        "id": "Qfwii5s9rfk6"
      }
    },
    {
      "cell_type": "code",
      "source": [
        "'''\n",
        "Each item is represented by a pair, <value, weight>\n",
        "\n",
        "The knapsack can accommodate items with a total weight of no more than w\n",
        "\n",
        "A vector, L, of length n, represents the set of available items. Each element of the vector is an item\n",
        "\n",
        "A vector, V, of length n, is used to indicate whether or not items are take. If V[i]=1, items I[i] is taken. If V[i] = 0, items I[i] is not taken\n",
        "\n",
        "'''\n",
        "\n",
        "\n",
        "\n"
      ],
      "metadata": {
        "colab": {
          "base_uri": "https://localhost:8080/",
          "height": 105
        },
        "id": "sXaUncKArj2m",
        "outputId": "77a24c95-34fb-4360-8fcc-eba4ecec2222"
      },
      "execution_count": 1,
      "outputs": [
        {
          "output_type": "execute_result",
          "data": {
            "text/plain": [
              "'\\nEach item is represented by a pair, <value, weight>\\n\\nThe knapsack can accommodate items with a total weight of no more than w\\n\\nA vector, L, of length n, represents the set of available items. Each element of the vector is an item\\n\\nA vector, V, of length n, is used to indicate whether or not items are take. If V[i]=1, items I[i] is taken. If V[i] = 0, items I[i] is not taken\\n\\n'"
            ],
            "application/vnd.google.colaboratory.intrinsic+json": {
              "type": "string"
            }
          },
          "metadata": {},
          "execution_count": 1
        }
      ]
    },
    {
      "cell_type": "code",
      "source": [
        "# Greedy Algorithm Sudo \n",
        "# while knapsack not full \n",
        "  # put 'best' avaiblable item in knapsack"
      ],
      "metadata": {
        "id": "hkbzTcB0tPor"
      },
      "execution_count": 2,
      "outputs": []
    },
    {
      "cell_type": "code",
      "source": [
        "class Food(object):\n",
        "  def __init__(self, n, v, w):\n",
        "    self.name = n\n",
        "    self.value = v\n",
        "    self.calories = w\n",
        "\n",
        "  def getValue(self):\n",
        "    return self.value\n",
        "\n",
        "  def getCost(self):\n",
        "    return self.calories\n",
        "\n",
        "  def density(self):\n",
        "    return self.getValue()/self.getCost()\n",
        "\n",
        "  def __str__(self):\n",
        "    return self.name + \": <\" + str(self.value) + \", \" + str(self.calories) + \">\""
      ],
      "metadata": {
        "id": "pR6wqByxuX2X"
      },
      "execution_count": 18,
      "outputs": []
    },
    {
      "cell_type": "code",
      "source": [
        "def buildMenu(names, values, calories):\n",
        "  menu = []\n",
        "  for i in range(len(values)):\n",
        "    menu.append(Food(names[i], values[i],calories[i]))\n",
        "\n",
        "  return menu"
      ],
      "metadata": {
        "id": "vbcUKUDMuvcJ"
      },
      "execution_count": 19,
      "outputs": []
    },
    {
      "cell_type": "code",
      "source": [
        "def greedy(items, maxCost, keyFunction):\n",
        "  '''Assumes items a list, maxCost >= 0,\n",
        "    keyFunction maps elements of items to numbers'''\n",
        "  itemsCopy = sorted(items, key = keyFunction, reverse=True)\n",
        "  result = []\n",
        "  totalValue, totalCost = 0.0, 0.0\n",
        "\n",
        "  for i in range(len(itemsCopy)):\n",
        "    if (totalCost+itemsCopy[i].getCost()) <= maxCost:\n",
        "      result.append(itemsCopy[i])\n",
        "      totalCost += itemsCopy[i].getCost()\n",
        "      totalValue += itemsCopy[i].getValue()\n",
        "\n",
        "  return (result, totalValue)"
      ],
      "metadata": {
        "id": "0Aypo2TEvJIE"
      },
      "execution_count": 20,
      "outputs": []
    },
    {
      "cell_type": "code",
      "source": [
        "def testGreedy(items, constraint, keyFunction):\n",
        "  taken, val = greedy(items, constraint, keyFunction)\n",
        "  print('Total value of items taken =', val)\n",
        "  for item in taken:\n",
        "    print(f\"{items}\")"
      ],
      "metadata": {
        "id": "ejhh7t9rwqU9"
      },
      "execution_count": 21,
      "outputs": []
    },
    {
      "cell_type": "code",
      "source": [
        "def testGreedys(maxUnits):\n",
        "  print('Use greedy by value to allocate', maxUnits, 'calories')\n",
        "  testGreedy(foods, maxUnits, Food.getValue)\n",
        "  print('\\nUse greedy by cost to allocate', maxUnits, 'calories')\n",
        "  testGreedy(foods, maxUnits, lambda x: 1/Food.getCost(x))\n",
        "  print(f\"\\n Use greedy by density to allocate {maxUnits} calories\")\n",
        "  testGreedy(foods, maxUnits, Food.density)"
      ],
      "metadata": {
        "id": "gdvNfLj_vpkZ"
      },
      "execution_count": 22,
      "outputs": []
    },
    {
      "cell_type": "code",
      "source": [
        "names = ['wine', 'beer', 'pizza', 'burger', 'fries',\n",
        "         'cola', 'apple', 'donut', 'cake']\n",
        "values = [89,90,95,100,90,79,50,10]\n",
        "calories = [123,154,258,354,365,150,95,195]\n",
        "foods = buildMenu(names, values, calories)"
      ],
      "metadata": {
        "id": "x_iAeDqUyUCE"
      },
      "execution_count": 23,
      "outputs": []
    },
    {
      "cell_type": "code",
      "source": [
        "testGreedys(800)"
      ],
      "metadata": {
        "colab": {
          "base_uri": "https://localhost:8080/"
        },
        "id": "zQ5Ji-Lwyo8G",
        "outputId": "327ad0d3-1ffc-4b8d-dc69-dcbb1413b4e6"
      },
      "execution_count": 24,
      "outputs": [
        {
          "output_type": "stream",
          "name": "stdout",
          "text": [
            "Use greedy by value to allocate 800 calories\n",
            "Total value of items taken = 285.0\n",
            "[<__main__.Food object at 0x7f572dc31810>, <__main__.Food object at 0x7f573566f790>, <__main__.Food object at 0x7f573566f810>, <__main__.Food object at 0x7f572d604910>, <__main__.Food object at 0x7f572d604a50>, <__main__.Food object at 0x7f572d6047d0>, <__main__.Food object at 0x7f572d6aaf10>, <__main__.Food object at 0x7f572d6aaf50>]\n",
            "[<__main__.Food object at 0x7f572dc31810>, <__main__.Food object at 0x7f573566f790>, <__main__.Food object at 0x7f573566f810>, <__main__.Food object at 0x7f572d604910>, <__main__.Food object at 0x7f572d604a50>, <__main__.Food object at 0x7f572d6047d0>, <__main__.Food object at 0x7f572d6aaf10>, <__main__.Food object at 0x7f572d6aaf50>]\n",
            "[<__main__.Food object at 0x7f572dc31810>, <__main__.Food object at 0x7f573566f790>, <__main__.Food object at 0x7f573566f810>, <__main__.Food object at 0x7f572d604910>, <__main__.Food object at 0x7f572d604a50>, <__main__.Food object at 0x7f572d6047d0>, <__main__.Food object at 0x7f572d6aaf10>, <__main__.Food object at 0x7f572d6aaf50>]\n",
            "\n",
            "Use greedy by cost to allocate 800 calories\n",
            "Total value of items taken = 318.0\n",
            "[<__main__.Food object at 0x7f572dc31810>, <__main__.Food object at 0x7f573566f790>, <__main__.Food object at 0x7f573566f810>, <__main__.Food object at 0x7f572d604910>, <__main__.Food object at 0x7f572d604a50>, <__main__.Food object at 0x7f572d6047d0>, <__main__.Food object at 0x7f572d6aaf10>, <__main__.Food object at 0x7f572d6aaf50>]\n",
            "[<__main__.Food object at 0x7f572dc31810>, <__main__.Food object at 0x7f573566f790>, <__main__.Food object at 0x7f573566f810>, <__main__.Food object at 0x7f572d604910>, <__main__.Food object at 0x7f572d604a50>, <__main__.Food object at 0x7f572d6047d0>, <__main__.Food object at 0x7f572d6aaf10>, <__main__.Food object at 0x7f572d6aaf50>]\n",
            "[<__main__.Food object at 0x7f572dc31810>, <__main__.Food object at 0x7f573566f790>, <__main__.Food object at 0x7f573566f810>, <__main__.Food object at 0x7f572d604910>, <__main__.Food object at 0x7f572d604a50>, <__main__.Food object at 0x7f572d6047d0>, <__main__.Food object at 0x7f572d6aaf10>, <__main__.Food object at 0x7f572d6aaf50>]\n",
            "[<__main__.Food object at 0x7f572dc31810>, <__main__.Food object at 0x7f573566f790>, <__main__.Food object at 0x7f573566f810>, <__main__.Food object at 0x7f572d604910>, <__main__.Food object at 0x7f572d604a50>, <__main__.Food object at 0x7f572d6047d0>, <__main__.Food object at 0x7f572d6aaf10>, <__main__.Food object at 0x7f572d6aaf50>]\n",
            "[<__main__.Food object at 0x7f572dc31810>, <__main__.Food object at 0x7f573566f790>, <__main__.Food object at 0x7f573566f810>, <__main__.Food object at 0x7f572d604910>, <__main__.Food object at 0x7f572d604a50>, <__main__.Food object at 0x7f572d6047d0>, <__main__.Food object at 0x7f572d6aaf10>, <__main__.Food object at 0x7f572d6aaf50>]\n",
            "\n",
            " Use greedy by density to allocate 800 calories\n",
            "Total value of items taken = 403.0\n",
            "[<__main__.Food object at 0x7f572dc31810>, <__main__.Food object at 0x7f573566f790>, <__main__.Food object at 0x7f573566f810>, <__main__.Food object at 0x7f572d604910>, <__main__.Food object at 0x7f572d604a50>, <__main__.Food object at 0x7f572d6047d0>, <__main__.Food object at 0x7f572d6aaf10>, <__main__.Food object at 0x7f572d6aaf50>]\n",
            "[<__main__.Food object at 0x7f572dc31810>, <__main__.Food object at 0x7f573566f790>, <__main__.Food object at 0x7f573566f810>, <__main__.Food object at 0x7f572d604910>, <__main__.Food object at 0x7f572d604a50>, <__main__.Food object at 0x7f572d6047d0>, <__main__.Food object at 0x7f572d6aaf10>, <__main__.Food object at 0x7f572d6aaf50>]\n",
            "[<__main__.Food object at 0x7f572dc31810>, <__main__.Food object at 0x7f573566f790>, <__main__.Food object at 0x7f573566f810>, <__main__.Food object at 0x7f572d604910>, <__main__.Food object at 0x7f572d604a50>, <__main__.Food object at 0x7f572d6047d0>, <__main__.Food object at 0x7f572d6aaf10>, <__main__.Food object at 0x7f572d6aaf50>]\n",
            "[<__main__.Food object at 0x7f572dc31810>, <__main__.Food object at 0x7f573566f790>, <__main__.Food object at 0x7f573566f810>, <__main__.Food object at 0x7f572d604910>, <__main__.Food object at 0x7f572d604a50>, <__main__.Food object at 0x7f572d6047d0>, <__main__.Food object at 0x7f572d6aaf10>, <__main__.Food object at 0x7f572d6aaf50>]\n",
            "[<__main__.Food object at 0x7f572dc31810>, <__main__.Food object at 0x7f573566f790>, <__main__.Food object at 0x7f573566f810>, <__main__.Food object at 0x7f572d604910>, <__main__.Food object at 0x7f572d604a50>, <__main__.Food object at 0x7f572d6047d0>, <__main__.Food object at 0x7f572d6aaf10>, <__main__.Food object at 0x7f572d6aaf50>]\n"
          ]
        }
      ]
    },
    {
      "cell_type": "code",
      "source": [
        "testGreedys(1000)"
      ],
      "metadata": {
        "colab": {
          "base_uri": "https://localhost:8080/"
        },
        "id": "fdIE04yEyr11",
        "outputId": "bd7a3390-4557-4132-8a34-98c34a32d8c9"
      },
      "execution_count": 26,
      "outputs": [
        {
          "output_type": "stream",
          "name": "stdout",
          "text": [
            "Use greedy by value to allocate 1000 calories\n",
            "Total value of items taken = 424.0\n",
            "[<__main__.Food object at 0x7f572dc31810>, <__main__.Food object at 0x7f573566f790>, <__main__.Food object at 0x7f573566f810>, <__main__.Food object at 0x7f572d604910>, <__main__.Food object at 0x7f572d604a50>, <__main__.Food object at 0x7f572d6047d0>, <__main__.Food object at 0x7f572d6aaf10>, <__main__.Food object at 0x7f572d6aaf50>]\n",
            "[<__main__.Food object at 0x7f572dc31810>, <__main__.Food object at 0x7f573566f790>, <__main__.Food object at 0x7f573566f810>, <__main__.Food object at 0x7f572d604910>, <__main__.Food object at 0x7f572d604a50>, <__main__.Food object at 0x7f572d6047d0>, <__main__.Food object at 0x7f572d6aaf10>, <__main__.Food object at 0x7f572d6aaf50>]\n",
            "[<__main__.Food object at 0x7f572dc31810>, <__main__.Food object at 0x7f573566f790>, <__main__.Food object at 0x7f573566f810>, <__main__.Food object at 0x7f572d604910>, <__main__.Food object at 0x7f572d604a50>, <__main__.Food object at 0x7f572d6047d0>, <__main__.Food object at 0x7f572d6aaf10>, <__main__.Food object at 0x7f572d6aaf50>]\n",
            "[<__main__.Food object at 0x7f572dc31810>, <__main__.Food object at 0x7f573566f790>, <__main__.Food object at 0x7f573566f810>, <__main__.Food object at 0x7f572d604910>, <__main__.Food object at 0x7f572d604a50>, <__main__.Food object at 0x7f572d6047d0>, <__main__.Food object at 0x7f572d6aaf10>, <__main__.Food object at 0x7f572d6aaf50>]\n",
            "[<__main__.Food object at 0x7f572dc31810>, <__main__.Food object at 0x7f573566f790>, <__main__.Food object at 0x7f573566f810>, <__main__.Food object at 0x7f572d604910>, <__main__.Food object at 0x7f572d604a50>, <__main__.Food object at 0x7f572d6047d0>, <__main__.Food object at 0x7f572d6aaf10>, <__main__.Food object at 0x7f572d6aaf50>]\n",
            "\n",
            "Use greedy by cost to allocate 1000 calories\n",
            "Total value of items taken = 413.0\n",
            "[<__main__.Food object at 0x7f572dc31810>, <__main__.Food object at 0x7f573566f790>, <__main__.Food object at 0x7f573566f810>, <__main__.Food object at 0x7f572d604910>, <__main__.Food object at 0x7f572d604a50>, <__main__.Food object at 0x7f572d6047d0>, <__main__.Food object at 0x7f572d6aaf10>, <__main__.Food object at 0x7f572d6aaf50>]\n",
            "[<__main__.Food object at 0x7f572dc31810>, <__main__.Food object at 0x7f573566f790>, <__main__.Food object at 0x7f573566f810>, <__main__.Food object at 0x7f572d604910>, <__main__.Food object at 0x7f572d604a50>, <__main__.Food object at 0x7f572d6047d0>, <__main__.Food object at 0x7f572d6aaf10>, <__main__.Food object at 0x7f572d6aaf50>]\n",
            "[<__main__.Food object at 0x7f572dc31810>, <__main__.Food object at 0x7f573566f790>, <__main__.Food object at 0x7f573566f810>, <__main__.Food object at 0x7f572d604910>, <__main__.Food object at 0x7f572d604a50>, <__main__.Food object at 0x7f572d6047d0>, <__main__.Food object at 0x7f572d6aaf10>, <__main__.Food object at 0x7f572d6aaf50>]\n",
            "[<__main__.Food object at 0x7f572dc31810>, <__main__.Food object at 0x7f573566f790>, <__main__.Food object at 0x7f573566f810>, <__main__.Food object at 0x7f572d604910>, <__main__.Food object at 0x7f572d604a50>, <__main__.Food object at 0x7f572d6047d0>, <__main__.Food object at 0x7f572d6aaf10>, <__main__.Food object at 0x7f572d6aaf50>]\n",
            "[<__main__.Food object at 0x7f572dc31810>, <__main__.Food object at 0x7f573566f790>, <__main__.Food object at 0x7f573566f810>, <__main__.Food object at 0x7f572d604910>, <__main__.Food object at 0x7f572d604a50>, <__main__.Food object at 0x7f572d6047d0>, <__main__.Food object at 0x7f572d6aaf10>, <__main__.Food object at 0x7f572d6aaf50>]\n",
            "[<__main__.Food object at 0x7f572dc31810>, <__main__.Food object at 0x7f573566f790>, <__main__.Food object at 0x7f573566f810>, <__main__.Food object at 0x7f572d604910>, <__main__.Food object at 0x7f572d604a50>, <__main__.Food object at 0x7f572d6047d0>, <__main__.Food object at 0x7f572d6aaf10>, <__main__.Food object at 0x7f572d6aaf50>]\n",
            "\n",
            " Use greedy by density to allocate 1000 calories\n",
            "Total value of items taken = 413.0\n",
            "[<__main__.Food object at 0x7f572dc31810>, <__main__.Food object at 0x7f573566f790>, <__main__.Food object at 0x7f573566f810>, <__main__.Food object at 0x7f572d604910>, <__main__.Food object at 0x7f572d604a50>, <__main__.Food object at 0x7f572d6047d0>, <__main__.Food object at 0x7f572d6aaf10>, <__main__.Food object at 0x7f572d6aaf50>]\n",
            "[<__main__.Food object at 0x7f572dc31810>, <__main__.Food object at 0x7f573566f790>, <__main__.Food object at 0x7f573566f810>, <__main__.Food object at 0x7f572d604910>, <__main__.Food object at 0x7f572d604a50>, <__main__.Food object at 0x7f572d6047d0>, <__main__.Food object at 0x7f572d6aaf10>, <__main__.Food object at 0x7f572d6aaf50>]\n",
            "[<__main__.Food object at 0x7f572dc31810>, <__main__.Food object at 0x7f573566f790>, <__main__.Food object at 0x7f573566f810>, <__main__.Food object at 0x7f572d604910>, <__main__.Food object at 0x7f572d604a50>, <__main__.Food object at 0x7f572d6047d0>, <__main__.Food object at 0x7f572d6aaf10>, <__main__.Food object at 0x7f572d6aaf50>]\n",
            "[<__main__.Food object at 0x7f572dc31810>, <__main__.Food object at 0x7f573566f790>, <__main__.Food object at 0x7f573566f810>, <__main__.Food object at 0x7f572d604910>, <__main__.Food object at 0x7f572d604a50>, <__main__.Food object at 0x7f572d6047d0>, <__main__.Food object at 0x7f572d6aaf10>, <__main__.Food object at 0x7f572d6aaf50>]\n",
            "[<__main__.Food object at 0x7f572dc31810>, <__main__.Food object at 0x7f573566f790>, <__main__.Food object at 0x7f573566f810>, <__main__.Food object at 0x7f572d604910>, <__main__.Food object at 0x7f572d604a50>, <__main__.Food object at 0x7f572d6047d0>, <__main__.Food object at 0x7f572d6aaf10>, <__main__.Food object at 0x7f572d6aaf50>]\n",
            "[<__main__.Food object at 0x7f572dc31810>, <__main__.Food object at 0x7f573566f790>, <__main__.Food object at 0x7f573566f810>, <__main__.Food object at 0x7f572d604910>, <__main__.Food object at 0x7f572d604a50>, <__main__.Food object at 0x7f572d6047d0>, <__main__.Food object at 0x7f572d6aaf10>, <__main__.Food object at 0x7f572d6aaf50>]\n"
          ]
        }
      ]
    },
    {
      "cell_type": "code",
      "source": [
        ""
      ],
      "metadata": {
        "id": "hB-3P3Je1oKp"
      },
      "execution_count": null,
      "outputs": []
    }
  ]
}