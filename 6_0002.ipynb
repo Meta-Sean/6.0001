{
  "nbformat": 4,
  "nbformat_minor": 0,
  "metadata": {
    "colab": {
      "name": "6.0002.ipynb",
      "provenance": [],
      "authorship_tag": "ABX9TyN72jl/ioHkrO8FU/n6ajrf",
      "include_colab_link": true
    },
    "kernelspec": {
      "name": "python3",
      "display_name": "Python 3"
    },
    "language_info": {
      "name": "python"
    }
  },
  "cells": [
    {
      "cell_type": "markdown",
      "metadata": {
        "id": "view-in-github",
        "colab_type": "text"
      },
      "source": [
        "<a href=\"https://colab.research.google.com/github/Meta-Sean/Course-6-Mono/blob/main/6_0002.ipynb\" target=\"_parent\"><img src=\"https://colab.research.google.com/assets/colab-badge.svg\" alt=\"Open In Colab\"/></a>"
      ]
    },
    {
      "cell_type": "markdown",
      "source": [
        "# Introduction, Optimization Problems"
      ],
      "metadata": {
        "id": "Qfwii5s9rfk6"
      }
    },
    {
      "cell_type": "code",
      "source": [
        "'''\n",
        "Each item is represented by a pair, <value, weight>\n",
        "\n",
        "The knapsack can accommodate items with a total weight of no more than w\n",
        "\n",
        "A vector, L, of length n, represents the set of available items. Each element of the vector is an item\n",
        "\n",
        "A vector, V, of length n, is used to indicate whether or not items are take. If V[i]=1, items I[i] is taken. If V[i] = 0, items I[i] is not taken\n",
        "\n",
        "'''\n",
        "\n",
        "\n",
        "\n"
      ],
      "metadata": {
        "colab": {
          "base_uri": "https://localhost:8080/",
          "height": 87
        },
        "id": "sXaUncKArj2m",
        "outputId": "8a9d53e6-c1b2-4652-ec46-62f6558e9a3d"
      },
      "execution_count": null,
      "outputs": [
        {
          "output_type": "execute_result",
          "data": {
            "text/plain": [
              "'\\nEach item is represented by a pair, <value, weight>\\n\\nThe knapsack can accommodate items with a total weight of no more than w\\n\\nA vector, L, of length n, represents the set of available items. Each element of the vector is an item\\n\\nA vector, V, of length n, is used to indicate whether or not items are take. If V[i]=1, items I[i] is taken. If V[i] = 0, items I[i] is not taken\\n\\n'"
            ],
            "application/vnd.google.colaboratory.intrinsic+json": {
              "type": "string"
            }
          },
          "metadata": {},
          "execution_count": 1
        }
      ]
    },
    {
      "cell_type": "code",
      "source": [
        "# Greedy Algorithm Sudo \n",
        "# while knapsack not full \n",
        "  # put 'best' avaiblable item in knapsack"
      ],
      "metadata": {
        "id": "hkbzTcB0tPor"
      },
      "execution_count": null,
      "outputs": []
    },
    {
      "cell_type": "code",
      "source": [
        "class Food(object):\n",
        "  def __init__(self, n, v, w):\n",
        "    self.name = n\n",
        "    self.value = v\n",
        "    self.calories = w\n",
        "\n",
        "  def getValue(self):\n",
        "    return self.value\n",
        "\n",
        "  def getCost(self):\n",
        "    return self.calories\n",
        "\n",
        "  def density(self):\n",
        "    return self.getValue()/self.getCost()\n",
        "\n",
        "  def __str__(self):\n",
        "    return self.name + \": <\" + str(self.value) + \", \" + str(self.calories) + \">\""
      ],
      "metadata": {
        "id": "pR6wqByxuX2X"
      },
      "execution_count": null,
      "outputs": []
    },
    {
      "cell_type": "code",
      "source": [
        "def buildMenu(names, values, calories):\n",
        "  menu = []\n",
        "  for i in range(len(values)):\n",
        "    menu.append(Food(names[i], values[i],calories[i]))\n",
        "\n",
        "  return menu"
      ],
      "metadata": {
        "id": "vbcUKUDMuvcJ"
      },
      "execution_count": null,
      "outputs": []
    },
    {
      "cell_type": "code",
      "source": [
        "def greedy(items, maxCost, keyFunction):\n",
        "  '''Assumes items a list, maxCost >= 0,\n",
        "    keyFunction maps elements of items to numbers'''\n",
        "  itemsCopy = sorted(items, key = keyFunction, reverse=True)\n",
        "  result = []\n",
        "  totalValue, totalCost = 0.0, 0.0\n",
        "\n",
        "  for i in range(len(itemsCopy)):\n",
        "    if (totalCost+itemsCopy[i].getCost()) <= maxCost:\n",
        "      result.append(itemsCopy[i])\n",
        "      totalCost += itemsCopy[i].getCost()\n",
        "      totalValue += itemsCopy[i].getValue()\n",
        "\n",
        "  return (result, totalValue)"
      ],
      "metadata": {
        "id": "0Aypo2TEvJIE"
      },
      "execution_count": null,
      "outputs": []
    },
    {
      "cell_type": "code",
      "source": [
        "def testGreedy(items, constraint, keyFunction):\n",
        "    taken, val = greedy(items, constraint, keyFunction)\n",
        "    print('Total value of items taken =', val)\n",
        "    for item in taken:\n",
        "        print('   ', item)"
      ],
      "metadata": {
        "id": "ejhh7t9rwqU9"
      },
      "execution_count": null,
      "outputs": []
    },
    {
      "cell_type": "code",
      "source": [
        "def testGreedys(foods, maxUnits):\n",
        "    print('Use greedy by value to allocate', maxUnits,\n",
        "          'calories')\n",
        "    testGreedy(foods, maxUnits, Food.getValue)\n",
        "    print('\\nUse greedy by cost to allocate', maxUnits,\n",
        "          'calories')\n",
        "    testGreedy(foods, maxUnits,\n",
        "               lambda x: 1/Food.getCost(x))\n",
        "    print('\\nUse greedy by density to allocate', maxUnits,\n",
        "          'calories')\n",
        "    testGreedy(foods, maxUnits, Food.density)"
      ],
      "metadata": {
        "id": "gdvNfLj_vpkZ"
      },
      "execution_count": null,
      "outputs": []
    },
    {
      "cell_type": "code",
      "source": [
        "names = ['wine', 'beer', 'pizza', 'burger', 'fries',\n",
        "         'cola', 'apple', 'donut', 'cake']\n",
        "values = [89,90,95,100,90,79,50,10]\n",
        "calories = [123,154,258,354,365,150,95,195]\n",
        "foods = buildMenu(names, values, calories)"
      ],
      "metadata": {
        "id": "x_iAeDqUyUCE"
      },
      "execution_count": null,
      "outputs": []
    },
    {
      "cell_type": "code",
      "source": [
        "testGreedys(foods,800)"
      ],
      "metadata": {
        "colab": {
          "base_uri": "https://localhost:8080/"
        },
        "id": "zQ5Ji-Lwyo8G",
        "outputId": "71f8b2d4-aff7-4525-9a06-f4cdeb425042"
      },
      "execution_count": null,
      "outputs": [
        {
          "output_type": "stream",
          "name": "stdout",
          "text": [
            "Use greedy by value to allocate 800 calories\n",
            "Total value of items taken = 285.0\n",
            "    burger: <100, 354>\n",
            "    pizza: <95, 258>\n",
            "    beer: <90, 154>\n",
            "\n",
            "Use greedy by cost to allocate 800 calories\n",
            "Total value of items taken = 318.0\n",
            "    apple: <50, 95>\n",
            "    wine: <89, 123>\n",
            "    cola: <79, 150>\n",
            "    beer: <90, 154>\n",
            "    donut: <10, 195>\n",
            "\n",
            "Use greedy by density to allocate 800 calories\n",
            "Total value of items taken = 403.0\n",
            "    wine: <89, 123>\n",
            "    beer: <90, 154>\n",
            "    cola: <79, 150>\n",
            "    apple: <50, 95>\n",
            "    pizza: <95, 258>\n"
          ]
        }
      ]
    },
    {
      "cell_type": "code",
      "source": [
        "testGreedys(foods,1000)"
      ],
      "metadata": {
        "colab": {
          "base_uri": "https://localhost:8080/"
        },
        "id": "fdIE04yEyr11",
        "outputId": "4f0dfd45-d849-41ee-c761-d24fe751a495"
      },
      "execution_count": null,
      "outputs": [
        {
          "output_type": "stream",
          "name": "stdout",
          "text": [
            "Use greedy by value to allocate 1000 calories\n",
            "Total value of items taken = 424.0\n",
            "    burger: <100, 354>\n",
            "    pizza: <95, 258>\n",
            "    beer: <90, 154>\n",
            "    wine: <89, 123>\n",
            "    apple: <50, 95>\n",
            "\n",
            "Use greedy by cost to allocate 1000 calories\n",
            "Total value of items taken = 413.0\n",
            "    apple: <50, 95>\n",
            "    wine: <89, 123>\n",
            "    cola: <79, 150>\n",
            "    beer: <90, 154>\n",
            "    donut: <10, 195>\n",
            "    pizza: <95, 258>\n",
            "\n",
            "Use greedy by density to allocate 1000 calories\n",
            "Total value of items taken = 413.0\n",
            "    wine: <89, 123>\n",
            "    beer: <90, 154>\n",
            "    cola: <79, 150>\n",
            "    apple: <50, 95>\n",
            "    pizza: <95, 258>\n",
            "    donut: <10, 195>\n"
          ]
        }
      ]
    },
    {
      "cell_type": "code",
      "source": [
        ""
      ],
      "metadata": {
        "id": "hB-3P3Je1oKp"
      },
      "execution_count": null,
      "outputs": []
    },
    {
      "cell_type": "markdown",
      "source": [
        "# Optimization Problems Lecture 2"
      ],
      "metadata": {
        "id": "DHyDp1kH96Sj"
      }
    },
    {
      "cell_type": "code",
      "source": [
        "def maxVal(toConsider, avail):\n",
        "  \"\"\"Assumes toConsider a list of items,\n",
        " avail a weight\n",
        " Returns a tuple of the total value of a\n",
        " solution to 0/1 knapsack problem and\n",
        " the items of that solution\"\"\"\n",
        "\n",
        "  if toConsider == [] or avail == 0:\n",
        "    result = (0, ())\n",
        "  elif toConsider[0].getCost() > avail:\n",
        "    result = maxVal(toConsider[1:], avail)\n",
        "  else:\n",
        "    nextItem = toConsider[0]\n",
        "    withVal, withToTake = maxVal(toConsider[1:], avail - nextItem.getCost())\n",
        "    withVal += nextItem.getValue()\n",
        "    withoutVal, withoutToTake = maxVal(toConsider[1:], avail)\n",
        "    if withVal > withoutVal:\n",
        "      result = (withVal, withToTake + (nextItem,))\n",
        "    else:\n",
        "        result = (withoutVal, withoutToTake)\n",
        "  return result\n",
        "\n",
        "\n",
        "def testMaxVal(foods, maxUnits, printItems = True):\n",
        "  print('Use search tree to allocate', maxUnits, 'calories')\n",
        "  val, taken = maxVal(foods, maxUnits)\n",
        "  print('Total value of items taken =', val)\n",
        "  if printItems:\n",
        "    for item in taken:\n",
        "      print('  ', item)"
      ],
      "metadata": {
        "id": "RHztG5g_K6Wx"
      },
      "execution_count": null,
      "outputs": []
    },
    {
      "cell_type": "code",
      "source": [
        "names = ['wine', 'beer', 'pizza', 'burger', 'fries',\n",
        "         'cola', 'apple', 'donut', 'cake']\n",
        "values = [89,90,95,100,90,79,50,10]\n",
        "calories = [123,154,258,354,365,150,95,195]\n",
        "foods = buildMenu(names, values, calories)"
      ],
      "metadata": {
        "id": "DNMRMWvUL5Br"
      },
      "execution_count": null,
      "outputs": []
    },
    {
      "cell_type": "code",
      "source": [
        "testGreedys(foods, 750)\n",
        "print('')\n",
        "testMaxVal(foods, 750)"
      ],
      "metadata": {
        "colab": {
          "base_uri": "https://localhost:8080/"
        },
        "id": "ZhB7DQX_QJxA",
        "outputId": "cd5fd51f-7d8b-43be-80f1-67a3867b5c84"
      },
      "execution_count": null,
      "outputs": [
        {
          "output_type": "stream",
          "name": "stdout",
          "text": [
            "Use greedy by value to allocate 750 calories\n",
            "Total value of items taken = 284.0\n",
            "    burger: <100, 354>\n",
            "    pizza: <95, 258>\n",
            "    wine: <89, 123>\n",
            "\n",
            "Use greedy by cost to allocate 750 calories\n",
            "Total value of items taken = 318.0\n",
            "    apple: <50, 95>\n",
            "    wine: <89, 123>\n",
            "    cola: <79, 150>\n",
            "    beer: <90, 154>\n",
            "    donut: <10, 195>\n",
            "\n",
            "Use greedy by density to allocate 750 calories\n",
            "Total value of items taken = 318.0\n",
            "    wine: <89, 123>\n",
            "    beer: <90, 154>\n",
            "    cola: <79, 150>\n",
            "    apple: <50, 95>\n",
            "    donut: <10, 195>\n",
            "\n",
            "Use search tree to allocate 750 calories\n",
            "Total value of items taken = 353\n",
            "   cola: <79, 150>\n",
            "   pizza: <95, 258>\n",
            "   beer: <90, 154>\n",
            "   wine: <89, 123>\n"
          ]
        }
      ]
    },
    {
      "cell_type": "code",
      "source": [
        "import random\n",
        "\n",
        "def buildLargeMenu(numItems, maxVal, maxCost):\n",
        "    items = []\n",
        "    for i in range(numItems):\n",
        "        items.append(Food(str(i),\n",
        "                          random.randint(1, maxVal),\n",
        "                          random.randint(1, maxCost)))\n",
        "    return items\n",
        "\n",
        "# for numItems in (5, 10, 15, 20, 25, 30, 35, 40, 45):\n",
        "#     print('Try a menu with', numItems, 'items')\n",
        "#     items = buildLargeMenu(numItems, 90, 250)\n",
        "#     testMaxVal(items, 750, False)  "
      ],
      "metadata": {
        "id": "VKdHBuXUQsOl"
      },
      "execution_count": null,
      "outputs": []
    },
    {
      "cell_type": "code",
      "source": [
        "def fib(n):\n",
        " if n == 0 or n == 1:\n",
        "  return 1\n",
        " else:\n",
        "  return fib(n - 1) + fib(n - 2) "
      ],
      "metadata": {
        "id": "N9nSEIbDSleH"
      },
      "execution_count": null,
      "outputs": []
    },
    {
      "cell_type": "code",
      "source": [
        "# Using Memoization\n",
        "def fastFib(n, memo = {}):\n",
        "  \"\"\"Assumes n is an int >= 0, memo used only by recursive calls\n",
        "    Returns Fib of n \"\"\"\n",
        "\n",
        "  if n == 0 or n == 1:\n",
        "    return 1\n",
        "  try:\n",
        "    return memo[n]\n",
        "  except KeyError:\n",
        "    result = fastFib(n-1, memo) + fastFib(n-2, memo)\n",
        "    memo[n] = result\n",
        "    return result"
      ],
      "metadata": {
        "id": "3Ty9iE2TVtUl"
      },
      "execution_count": null,
      "outputs": []
    },
    {
      "cell_type": "markdown",
      "source": [
        "# Graph-theoretic Models"
      ],
      "metadata": {
        "id": "o_E9cbA1K3TM"
      }
    },
    {
      "cell_type": "code",
      "source": [
        "\"\"\"\n",
        "Created on Tue Jul 12 15:04:56 2016\n",
        "\n",
        "@author: guttag, revised egrimson\n",
        "\"\"\"\n",
        "\n",
        "class Node(object):\n",
        "    def __init__(self, name):\n",
        "        \"\"\"Assumes name is a string\"\"\"\n",
        "        self.name = name\n",
        "    def getName(self):\n",
        "        return self.name\n",
        "    def __str__(self):\n",
        "        return self.name\n",
        "\n",
        "class Edge(object):\n",
        "    def __init__(self, src, dest):\n",
        "        \"\"\"Assumes src and dest are nodes\"\"\"\n",
        "        self.src = src\n",
        "        self.dest = dest\n",
        "    def getSource(self):\n",
        "        return self.src\n",
        "    def getDestination(self):\n",
        "        return self.dest\n",
        "    def __str__(self):\n",
        "        return self.src.getName() + '->' + self.dest.getName()\n",
        "               \n",
        "class Digraph(object):\n",
        "    \"\"\"edges is a dict mapping each node to a list of\n",
        "    its children\"\"\"\n",
        "    def __init__(self):\n",
        "        self.edges = {}\n",
        "    def addNode(self, node):\n",
        "        if node in self.edges:\n",
        "            raise ValueError('Duplicate node')\n",
        "        else:\n",
        "            self.edges[node] = []\n",
        "    def addEdge(self, edge):\n",
        "        src = edge.getSource()\n",
        "        dest = edge.getDestination()\n",
        "        if not (src in self.edges and dest in self.edges):\n",
        "            raise ValueError('Node not in graph')\n",
        "        self.edges[src].append(dest)\n",
        "    def childrenOf(self, node):\n",
        "        return self.edges[node]\n",
        "    def hasNode(self, node):\n",
        "        return node in self.edges\n",
        "    def getNode(self, name):\n",
        "        for n in self.edges:\n",
        "            if n.getName() == name:\n",
        "                return n\n",
        "        raise NameError(name)\n",
        "    def __str__(self):\n",
        "        result = ''\n",
        "        for src in self.edges:\n",
        "            for dest in self.edges[src]:\n",
        "                result = result + src.getName() + '->'\\\n",
        "                         + dest.getName() + '\\n'\n",
        "        return result[:-1] #omit final newline"
      ],
      "metadata": {
        "id": "gqU3KZMd-CIL"
      },
      "execution_count": null,
      "outputs": []
    },
    {
      "cell_type": "code",
      "source": [
        "class Graph(Digraph):\n",
        "    def addEdge(self, edge):\n",
        "        Digraph.addEdge(self, edge)\n",
        "        rev = Edge(edge.getDestination(), edge.getSource())\n",
        "        Digraph.addEdge(self, rev)\n",
        "    \n",
        "def buildCityGraph(graphType):\n",
        "    g = graphType()\n",
        "    for name in ('Boston', 'Providence', 'New York', 'Chicago',\n",
        "                 'Denver', 'Phoenix', 'Los Angeles'): #Create 7 nodes\n",
        "        g.addNode(Node(name))\n",
        "    g.addEdge(Edge(g.getNode('Boston'), g.getNode('Providence')))\n",
        "    g.addEdge(Edge(g.getNode('Boston'), g.getNode('New York')))\n",
        "    g.addEdge(Edge(g.getNode('Providence'), g.getNode('Boston')))\n",
        "    g.addEdge(Edge(g.getNode('Providence'), g.getNode('New York')))\n",
        "    g.addEdge(Edge(g.getNode('New York'), g.getNode('Chicago')))\n",
        "    g.addEdge(Edge(g.getNode('Chicago'), g.getNode('Denver')))\n",
        "    g.addEdge(Edge(g.getNode('Chicago'), g.getNode('Phoenix')))\n",
        "    g.addEdge(Edge(g.getNode('Denver'), g.getNode('Phoenix')))\n",
        "    g.addEdge(Edge(g.getNode('Denver'), g.getNode('New York')))\n",
        "    g.addEdge(Edge(g.getNode('Los Angeles'), g.getNode('Boston')))\n",
        "    return g\n",
        "\n",
        "\n",
        "def printPath(path):\n",
        "    \"\"\"Assumes path is a list of nodes\"\"\"\n",
        "    result = ''\n",
        "    for i in range(len(path)):\n",
        "        result = result + str(path[i])\n",
        "        if i != len(path) - 1:\n",
        "            result = result + '->'\n",
        "    return result "
      ],
      "metadata": {
        "id": "VR6CkYNNzB8p"
      },
      "execution_count": null,
      "outputs": []
    },
    {
      "cell_type": "code",
      "source": [
        "print(g)"
      ],
      "metadata": {
        "colab": {
          "base_uri": "https://localhost:8080/"
        },
        "id": "R3dnbOF8_noj",
        "outputId": "b6bbd4fb-4069-47a6-a2f4-00d4786ef688"
      },
      "execution_count": null,
      "outputs": [
        {
          "output_type": "stream",
          "name": "stdout",
          "text": [
            "Boston->Providence\n",
            "Boston->New York\n",
            "Providence->Boston\n",
            "Providence->New York\n",
            "New York->Chicago\n",
            "Chicago->Denver\n",
            "Chicago->Phoenix\n",
            "Denver->Phoenix\n",
            "Denver->New York\n",
            "Los Angeles->Boston\n"
          ]
        }
      ]
    },
    {
      "cell_type": "code",
      "source": [
        "def DFS(graph, start, end, path, shortest, toPrint = False):\n",
        "  path = path + [start]\n",
        "  if toPrint:\n",
        "    print('Current DFS path:', printPath(path))\n",
        "  if start == end:\n",
        "    return path\n",
        "  for node in graph.childrenOf(start):\n",
        "    if node not in path: #avoid cycles\n",
        "      if shortest == None or len(path) < len(shortest):\n",
        "        newPath = DFS(graph, node, end, path, shortest, toPrint)\n",
        "        if newPath != None:\n",
        "          shortest = newPath\n",
        "    elif toPrint:\n",
        "      print('Already visited', node)\n",
        "  return shortest\n",
        "\n",
        "def shortestPath(graph, start, end, toPrint = False):\n",
        "  return DFS(graph, start, end, [], None, toPrint)\n"
      ],
      "metadata": {
        "id": "Q_S-MC-q__YE"
      },
      "execution_count": null,
      "outputs": []
    },
    {
      "cell_type": "code",
      "source": [
        "def shortestPath(graph, start, end, toPrint = False):\n",
        "    \"\"\"Assumes graph is a Digraph; start and end are nodes\n",
        "       Returns a shortest path from start to end in graph\"\"\"\n",
        "    return DFS(graph, start, end, [], None, toPrint)\n",
        "\n",
        "def testSP(source, destination):\n",
        "    g = buildCityGraph(Digraph)\n",
        "    sp = shortestPath(g, g.getNode(source), g.getNode(destination),\n",
        "                      toPrint = True)\n",
        "    if sp != None:\n",
        "        print('Shortest path from', source, 'to',\n",
        "              destination, 'is', printPath(sp))\n",
        "    else:\n",
        "        print('There is no path from', source, 'to', destination)\n",
        "\n",
        "testSP('Chicago', 'Boston')\n",
        "print()\n",
        "#testSP('Boston', 'Phoenix')\n",
        "#print()"
      ],
      "metadata": {
        "colab": {
          "base_uri": "https://localhost:8080/"
        },
        "id": "jjKc4OZSNKru",
        "outputId": "d621d3aa-c00e-44b6-8a90-aa947c06f58e"
      },
      "execution_count": null,
      "outputs": [
        {
          "output_type": "stream",
          "name": "stdout",
          "text": [
            "Current DFS path: Chicago\n",
            "Current DFS path: Chicago->Denver\n",
            "Current DFS path: Chicago->Denver->Phoenix\n",
            "Current DFS path: Chicago->Denver->New York\n",
            "Already visited Chicago\n",
            "Current DFS path: Chicago->Phoenix\n",
            "There is no path from Chicago to Boston\n",
            "\n"
          ]
        }
      ]
    },
    {
      "cell_type": "code",
      "source": [
        "printQueue = True\n",
        "\n",
        "def BFS(graph, start, end, toPrint = False):\n",
        "  initPath = [start]\n",
        "  pathQueue = [initPath]\n",
        "  while len(pathQueue) != 0:\n",
        "    if printQueue:\n",
        "      print(\"Queue:\", len(pathQueue))\n",
        "      for p in pathQueue:\n",
        "        print(printPath(p))\n",
        "    #Get and remove oldest element in pathQueue\n",
        "    tempPath = pathQueue.pop(0)\n",
        "    if toPrint:\n",
        "      print('Current BFS path:', printPath(tempPath))\n",
        "      print()\n",
        "      lastNode = tempPath[-1]\n",
        "    if lastNode == end:\n",
        "      return tempPath\n",
        "    for nextNode in graph.childrenOf(lastNode):\n",
        "      if nextNode not in tempPath:\n",
        "        newPath = tempPath + [nextNode]\n",
        "        pathQueue.append(newPath)\n",
        "  return None"
      ],
      "metadata": {
        "id": "RdFZXQZsPB1G"
      },
      "execution_count": null,
      "outputs": []
    },
    {
      "cell_type": "code",
      "source": [
        "def shortestPath(graph, start, end, toPrint = False):\n",
        "    \"\"\"Assumes graph is a Digraph; start and end are nodes\n",
        "       Returns a shortest path from start to end in graph\"\"\"\n",
        "    return BFS(graph, start, end, toPrint)"
      ],
      "metadata": {
        "id": "LB3a4GkWS2Or"
      },
      "execution_count": null,
      "outputs": []
    },
    {
      "cell_type": "code",
      "source": [
        "testSP('Boston', 'Phoenix')"
      ],
      "metadata": {
        "colab": {
          "base_uri": "https://localhost:8080/"
        },
        "id": "bc-AuZtPUMLS",
        "outputId": "6b5b5827-4ea0-4990-9d7c-39a46bc3bd08"
      },
      "execution_count": null,
      "outputs": [
        {
          "output_type": "stream",
          "name": "stdout",
          "text": [
            "Queue: 1\n",
            "Boston\n",
            "Current BFS path: Boston\n",
            "\n",
            "Queue: 2\n",
            "Boston->Providence\n",
            "Boston->New York\n",
            "Current BFS path: Boston->Providence\n",
            "\n",
            "Queue: 2\n",
            "Boston->New York\n",
            "Boston->Providence->New York\n",
            "Current BFS path: Boston->New York\n",
            "\n",
            "Queue: 2\n",
            "Boston->Providence->New York\n",
            "Boston->New York->Chicago\n",
            "Current BFS path: Boston->Providence->New York\n",
            "\n",
            "Queue: 2\n",
            "Boston->New York->Chicago\n",
            "Boston->Providence->New York->Chicago\n",
            "Current BFS path: Boston->New York->Chicago\n",
            "\n",
            "Queue: 3\n",
            "Boston->Providence->New York->Chicago\n",
            "Boston->New York->Chicago->Denver\n",
            "Boston->New York->Chicago->Phoenix\n",
            "Current BFS path: Boston->Providence->New York->Chicago\n",
            "\n",
            "Queue: 4\n",
            "Boston->New York->Chicago->Denver\n",
            "Boston->New York->Chicago->Phoenix\n",
            "Boston->Providence->New York->Chicago->Denver\n",
            "Boston->Providence->New York->Chicago->Phoenix\n",
            "Current BFS path: Boston->New York->Chicago->Denver\n",
            "\n",
            "Queue: 4\n",
            "Boston->New York->Chicago->Phoenix\n",
            "Boston->Providence->New York->Chicago->Denver\n",
            "Boston->Providence->New York->Chicago->Phoenix\n",
            "Boston->New York->Chicago->Denver->Phoenix\n",
            "Current BFS path: Boston->New York->Chicago->Phoenix\n",
            "\n",
            "Shortest path from Boston to Phoenix is Boston->New York->Chicago->Phoenix\n"
          ]
        }
      ]
    },
    {
      "cell_type": "code",
      "source": [
        ""
      ],
      "metadata": {
        "id": "nEU6yjdQUQiM"
      },
      "execution_count": null,
      "outputs": []
    },
    {
      "cell_type": "code",
      "source": [
        ""
      ],
      "metadata": {
        "id": "XdxTl-IRVyDU"
      },
      "execution_count": null,
      "outputs": []
    },
    {
      "cell_type": "markdown",
      "source": [
        "# Stochastic Thinking"
      ],
      "metadata": {
        "id": "WaLCeRTrSA4Y"
      }
    },
    {
      "cell_type": "code",
      "source": [
        "import random\n",
        "\n",
        "def rollDie():\n",
        "  \"\"\"returns a random int between 1 and 6\"\"\"\n",
        "  return random.choice([1,2,3,4,5,6])\n",
        "\n",
        "def testRoll(n = 10):\n",
        "  result = ''\n",
        "  for i in range(n):\n",
        "    result = result + str(rollDie())\n",
        "    print(result)"
      ],
      "metadata": {
        "id": "z9lBca25SEQI"
      },
      "execution_count": 7,
      "outputs": []
    },
    {
      "cell_type": "code",
      "source": [
        "testRoll()"
      ],
      "metadata": {
        "colab": {
          "base_uri": "https://localhost:8080/"
        },
        "id": "WA0NKodHTPnh",
        "outputId": "9a9982d8-d7c1-453e-81fb-6f6a8ab9805e"
      },
      "execution_count": 8,
      "outputs": [
        {
          "output_type": "stream",
          "name": "stdout",
          "text": [
            "4\n",
            "41\n",
            "412\n",
            "4122\n",
            "41225\n",
            "412251\n",
            "4122514\n",
            "41225146\n",
            "412251465\n",
            "4122514651\n"
          ]
        }
      ]
    },
    {
      "cell_type": "code",
      "source": [
        "a = 1/(6**5)"
      ],
      "metadata": {
        "id": "7MZoU9STTVYK"
      },
      "execution_count": 9,
      "outputs": []
    },
    {
      "cell_type": "code",
      "source": [
        "def runSim(goal, numTrials, txt):\n",
        "    total = 0\n",
        "    for i in range(numTrials):\n",
        "        result = ''\n",
        "        for j in range(len(goal)):\n",
        "            result += str(rollDie())\n",
        "        if result == goal:\n",
        "            total += 1\n",
        "    print('Actual probability of', txt, '=',\n",
        "          round(1/(6**len(goal)), 8)) \n",
        "    estProbability = round(total/numTrials, 8)\n",
        "    print('Estimated Probability of', txt, '=',\n",
        "          round(estProbability, 8))\n",
        "runSim('11111', 10000000, '11111') "
      ],
      "metadata": {
        "id": "ystFnbO7T9Gi",
        "colab": {
          "base_uri": "https://localhost:8080/"
        },
        "outputId": "3c58ce79-e84c-4445-e96e-d4c7e198d530"
      },
      "execution_count": 16,
      "outputs": [
        {
          "output_type": "stream",
          "name": "stdout",
          "text": [
            "Actual probability of 11111 = 0.0001286\n",
            "Estimated Probability of 11111 = 0.0001248\n"
          ]
        }
      ]
    },
    {
      "cell_type": "code",
      "source": [
        "# The Birthday Problem\n",
        "\n",
        "def sameDate(numPeople, numSame):\n",
        "  possibleDates = range(366)\n",
        "  birthdays = [0]*366\n",
        "  for p in range(numPeople):\n",
        "    birthDate = random.choice(possibleDates)\n",
        "    birthdays[birthDate] += 1\n",
        "  return max(birthdays) >= numSame\n",
        "\n",
        "def birthdayProb(numPeople, numSame, numTrials):\n",
        "    numHits = 0\n",
        "    for t in range(numTrials):\n",
        "        if sameDate(numPeople, numSame):\n",
        "            numHits += 1\n",
        "    return numHits/numTrials\n",
        "\n",
        "import math\n",
        "\n",
        "for numPeople in [10, 20, 40, 100]:\n",
        "    print('For', numPeople,\n",
        "          'est. prob. of a shared birthday is',\n",
        "          birthdayProb(numPeople, 3, 10000))\n",
        "    numerator = math.factorial(366)\n",
        "    denom = (366**numPeople)*math.factorial(366-numPeople)\n",
        "    print('Actual prob. for N = 100 =',\n",
        "          1 - numerator/denom)\n"
      ],
      "metadata": {
        "colab": {
          "base_uri": "https://localhost:8080/"
        },
        "id": "J454BRHzvXYx",
        "outputId": "6f22df69-0e32-4a80-fe24-88de6e8a9848"
      },
      "execution_count": 28,
      "outputs": [
        {
          "output_type": "stream",
          "name": "stdout",
          "text": [
            "For 10 est. prob. of a shared birthday is 0.0013\n",
            "Actual prob. for N = 100 = 0.1166454118039999\n",
            "For 20 est. prob. of a shared birthday is 0.0101\n",
            "Actual prob. for N = 100 = 0.4105696370550831\n",
            "For 40 est. prob. of a shared birthday is 0.0632\n",
            "Actual prob. for N = 100 = 0.89054476188945\n",
            "For 100 est. prob. of a shared birthday is 0.6451\n",
            "Actual prob. for N = 100 = 0.9999996784357714\n"
          ]
        }
      ]
    },
    {
      "cell_type": "code",
      "source": [
        "\n",
        "# 1. Import Modules\n",
        "import numpy as np\n",
        "import seaborn as sns\n",
        "import matplotlib.pylab as plt\n",
        "plt.style.use(\"seaborn\")\n",
        " \n",
        "# 2. Generate a 10x10 random integer matrix\n",
        "data = np.random.rand(10,10)\n",
        "print(\"Our dataset is : \",data)\n",
        " \n",
        "# 3. Plot the heatmap\n",
        "plt.figure(figsize=(10,10))\n",
        "heat_map = sns.heatmap( data, linewidth = 1 , annot = True)\n",
        "plt.title( \"HeatMap using Seaborn Method\" )\n",
        "plt.show()"
      ],
      "metadata": {
        "colab": {
          "base_uri": "https://localhost:8080/",
          "height": 975
        },
        "id": "QRf_-9bn2HQ2",
        "outputId": "34ef0333-d05f-43f5-a995-b8dcd9755022"
      },
      "execution_count": 38,
      "outputs": [
        {
          "output_type": "stream",
          "name": "stdout",
          "text": [
            "Our dataset is :  [[0.96902328 0.62932493 0.7032791  0.86229025 0.14991262 0.43897052\n",
            "  0.07546375 0.10250716 0.80680611 0.5891386 ]\n",
            " [0.527302   0.8184914  0.69184328 0.67514173 0.73388474 0.53293148\n",
            "  0.4633512  0.40933168 0.53397595 0.54620568]\n",
            " [0.44077659 0.01959632 0.380838   0.53660137 0.56960954 0.56856508\n",
            "  0.47723164 0.65518289 0.51286821 0.14080128]\n",
            " [0.95416335 0.76224478 0.64422721 0.43897007 0.32304661 0.95029477\n",
            "  0.4041321  0.04170791 0.18155533 0.67087339]\n",
            " [0.63739784 0.62458189 0.9538626  0.3672024  0.00125433 0.62818589\n",
            "  0.37882192 0.27692566 0.14513134 0.12093502]\n",
            " [0.33400035 0.17128531 0.91620136 0.55797366 0.6397159  0.63427949\n",
            "  0.13390899 0.3280692  0.06367008 0.11810618]\n",
            " [0.33135509 0.2593501  0.20227714 0.27266434 0.14435834 0.97731233\n",
            "  0.70753972 0.25691608 0.29086994 0.30174193]\n",
            " [0.92286963 0.12678572 0.06372479 0.10963248 0.41948252 0.81233241\n",
            "  0.28734251 0.0010689  0.47654328 0.82209269]\n",
            " [0.67080975 0.27722989 0.81052329 0.14614633 0.76417744 0.21233297\n",
            "  0.45858825 0.42318478 0.02590649 0.52513048]\n",
            " [0.74236004 0.26373802 0.27027069 0.87415999 0.28994478 0.13564587\n",
            "  0.6569082  0.72349161 0.54234757 0.61139712]]\n"
          ]
        },
        {
          "output_type": "display_data",
          "data": {
            "text/plain": [
              "<Figure size 720x720 with 2 Axes>"
            ],
            "image/png": "[encoded data removed]"
          },
          "metadata": {}
        }
      ]
    },
    {
      "cell_type": "code",
      "source": [
        ""
      ],
      "metadata": {
        "id": "k2GyXNY08Z23"
      },
      "execution_count": null,
      "outputs": []
    }
  ]
}