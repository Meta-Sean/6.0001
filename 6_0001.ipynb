{
  "nbformat": 4,
  "nbformat_minor": 0,
  "metadata": {
    "colab": {
      "name": "6.0001.ipynb",
      "provenance": [],
      "collapsed_sections": [
        "NTUEUcBNQ-As",
        "82p35B1ddQTX"
      ],
      "toc_visible": true,
      "authorship_tag": "ABX9TyMGcfx4gH4kTM3E6Y17XG69",
      "include_colab_link": true
    },
    "kernelspec": {
      "name": "python3",
      "display_name": "Python 3"
    },
    "language_info": {
      "name": "python"
    }
  },
  "cells": [
    {
      "cell_type": "markdown",
      "metadata": {
        "id": "view-in-github",
        "colab_type": "text"
      },
      "source": [
        "<a href=\"https://colab.research.google.com/github/Meta-Sean/6.0001/blob/main/6_0001.ipynb\" target=\"_parent\"><img src=\"https://colab.research.google.com/assets/colab-badge.svg\" alt=\"Open In Colab\"/></a>"
      ]
    },
    {
      "cell_type": "markdown",
      "source": [
        "# Tuples, Lists, Aliasing, Mutability, and Cloning\n"
      ],
      "metadata": {
        "id": "NTUEUcBNQ-As"
      }
    },
    {
      "cell_type": "code",
      "source": [
        "print(3.0-1)"
      ],
      "metadata": {
        "id": "R7UhYj6SWobZ"
      },
      "execution_count": null,
      "outputs": []
    },
    {
      "cell_type": "code",
      "source": [
        "xy = 2"
      ],
      "metadata": {
        "id": "iKfKVjMBWqgY"
      },
      "execution_count": null,
      "outputs": []
    },
    {
      "cell_type": "code",
      "source": [
        "def always_sunny(t1,t2):\n",
        "  sun = ('sunny','sun')\n",
        "  first = t1[0] + t2[0]\n",
        "  return (sun[0], first)"
      ],
      "metadata": {
        "id": "52H5bHUeW4jt"
      },
      "execution_count": null,
      "outputs": []
    },
    {
      "cell_type": "code",
      "source": [
        "always_sunny('cloudy', 'cold')"
      ],
      "metadata": {
        "id": "89hQZ5GJY7TM"
      },
      "execution_count": null,
      "outputs": []
    },
    {
      "cell_type": "code",
      "source": [
        "always_sunny(('cloudy'), ('cold',))"
      ],
      "metadata": {
        "id": "XP4PVzSWZAjM"
      },
      "execution_count": null,
      "outputs": []
    },
    {
      "cell_type": "code",
      "source": [
        "L = ['life', 'answer', 42, 0]\n",
        "\n",
        "for thing in L:\n",
        "  if thing == 0:\n",
        "    L[thing] = 'universe'\n",
        "  elif thing == 42:\n",
        "    L[1] = 'everything'\n",
        "\n",
        "print(L)"
      ],
      "metadata": {
        "id": "2chN0faTZFVv"
      },
      "execution_count": null,
      "outputs": []
    },
    {
      "cell_type": "code",
      "source": [
        "l1 = ['re']\n",
        "l2 = ['mi']\n",
        "l3 = ['do']\n",
        "l4 = l1 + l2\n",
        "l3.extend(l4)"
      ],
      "metadata": {
        "id": "hqj39NoMaiHE"
      },
      "execution_count": null,
      "outputs": []
    },
    {
      "cell_type": "code",
      "source": [
        "l3.sort()"
      ],
      "metadata": {
        "id": "ak4VrI-ybGKi"
      },
      "execution_count": null,
      "outputs": []
    },
    {
      "cell_type": "code",
      "source": [
        "l3"
      ],
      "metadata": {
        "id": "jsd5sL30bGqL"
      },
      "execution_count": null,
      "outputs": []
    },
    {
      "cell_type": "code",
      "source": [
        "del(l3[0])"
      ],
      "metadata": {
        "id": "cANspbpSbH87"
      },
      "execution_count": null,
      "outputs": []
    },
    {
      "cell_type": "code",
      "source": [
        "l3.append(['fa','la'])"
      ],
      "metadata": {
        "id": "d5HvnzHGbXFx"
      },
      "execution_count": null,
      "outputs": []
    },
    {
      "cell_type": "code",
      "source": [
        "l3"
      ],
      "metadata": {
        "id": "I8r2wOrdbZ_S"
      },
      "execution_count": null,
      "outputs": []
    },
    {
      "cell_type": "code",
      "source": [
        "l1 = ['bacon', 'eggs']\n",
        "l2 = ['toast', 'jam']\n",
        "brunch = l1\n"
      ],
      "metadata": {
        "id": "ORJ9Au9gbaYr"
      },
      "execution_count": null,
      "outputs": []
    },
    {
      "cell_type": "code",
      "source": [
        "l1.append(\"juice\")"
      ],
      "metadata": {
        "id": "QtC_W4prcGdd"
      },
      "execution_count": null,
      "outputs": []
    },
    {
      "cell_type": "code",
      "source": [
        "l1\n"
      ],
      "metadata": {
        "id": "TCyFOJZPcIDs"
      },
      "execution_count": null,
      "outputs": []
    },
    {
      "cell_type": "code",
      "source": [
        "brunch"
      ],
      "metadata": {
        "id": "JLnuFhFjcLJG"
      },
      "execution_count": null,
      "outputs": []
    },
    {
      "cell_type": "code",
      "source": [
        "brunch.extend(l2)"
      ],
      "metadata": {
        "id": "2UE1OJKIci23"
      },
      "execution_count": null,
      "outputs": []
    },
    {
      "cell_type": "code",
      "source": [
        "brunch"
      ],
      "metadata": {
        "id": "gGwt54kbcobt"
      },
      "execution_count": null,
      "outputs": []
    },
    {
      "cell_type": "code",
      "source": [
        "l1"
      ],
      "metadata": {
        "id": "YaPCyefaco3i"
      },
      "execution_count": null,
      "outputs": []
    },
    {
      "cell_type": "code",
      "source": [
        ""
      ],
      "metadata": {
        "id": "EEecrCoycpZK"
      },
      "execution_count": null,
      "outputs": []
    },
    {
      "cell_type": "markdown",
      "source": [
        "\n",
        "\n",
        "# Recursion and Dictionaries"
      ],
      "metadata": {
        "id": "82p35B1ddQTX"
      }
    },
    {
      "cell_type": "code",
      "source": [
        "def mult_iter(a, b):\n",
        "  result = 0\n",
        "  while b > 0:\n",
        "    result += a\n",
        "    b -= 1\n",
        "  return result"
      ],
      "metadata": {
        "id": "pZOKrUg6dYD1"
      },
      "execution_count": null,
      "outputs": []
    },
    {
      "cell_type": "code",
      "source": [
        "mult_iter(2, 2)"
      ],
      "metadata": {
        "colab": {
          "base_uri": "https://localhost:8080/"
        },
        "id": "yZiJJV6mfJnM",
        "outputId": "529e753c-8f58-45b9-a1a3-9540704f3513"
      },
      "execution_count": null,
      "outputs": [
        {
          "output_type": "execute_result",
          "data": {
            "text/plain": [
              "4"
            ]
          },
          "metadata": {},
          "execution_count": 35
        }
      ]
    },
    {
      "cell_type": "code",
      "source": [
        "def mult(a, b):\n",
        "  if b == 1:\n",
        "    return a\n",
        "  else:\n",
        "    return a + mult(a, b-1)"
      ],
      "metadata": {
        "id": "OoWl8drBfL3c"
      },
      "execution_count": null,
      "outputs": []
    },
    {
      "cell_type": "code",
      "source": [
        "mult(2, 2)"
      ],
      "metadata": {
        "colab": {
          "base_uri": "https://localhost:8080/"
        },
        "id": "gTKebKMzflZP",
        "outputId": "47643ade-182b-4a83-d36b-1516196ccd00"
      },
      "execution_count": null,
      "outputs": [
        {
          "output_type": "execute_result",
          "data": {
            "text/plain": [
              "4"
            ]
          },
          "metadata": {},
          "execution_count": 37
        }
      ]
    },
    {
      "cell_type": "code",
      "source": [
        "def fact(n):\n",
        "  if n == 1:\n",
        "    return 1\n",
        "  else:\n",
        "    return n*fact(n-1)\n",
        "print(fact(4))"
      ],
      "metadata": {
        "colab": {
          "base_uri": "https://localhost:8080/"
        },
        "id": "Dxw-FgfAfmRG",
        "outputId": "8b8c172d-9d3e-4b1e-d803-e86910921172"
      },
      "execution_count": null,
      "outputs": [
        {
          "output_type": "stream",
          "name": "stdout",
          "text": [
            "24\n"
          ]
        }
      ]
    },
    {
      "cell_type": "code",
      "source": [
        "def printMove(fr, to):\n",
        "  print(f\"Move from {str(fr)} to {str(to)}\")\n",
        "  "
      ],
      "metadata": {
        "id": "-Knk7h0Xf7fX"
      },
      "execution_count": null,
      "outputs": []
    },
    {
      "cell_type": "code",
      "source": [
        "def Towers(n, fr, to, spare):\n",
        "  if n == 1:\n",
        "    printMove(fr, to)\n",
        "  else:\n",
        "    Towers(n-1, fr, spare, to)\n",
        "    Towers(1, fr, to, spare)\n",
        "    Towers(n-1, spare, to, fr)"
      ],
      "metadata": {
        "id": "tblkHDxhj1_M"
      },
      "execution_count": null,
      "outputs": []
    },
    {
      "cell_type": "code",
      "source": [
        "Towers(4, 'a','b','c')"
      ],
      "metadata": {
        "colab": {
          "base_uri": "https://localhost:8080/"
        },
        "id": "X8gG5p1okENB",
        "outputId": "c5f0b8f8-65c8-4769-e7e3-c51f3c7c6538"
      },
      "execution_count": null,
      "outputs": [
        {
          "output_type": "stream",
          "name": "stdout",
          "text": [
            "Move from a to c\n",
            "Move from a to b\n",
            "Move from c to b\n",
            "Move from a to c\n",
            "Move from b to a\n",
            "Move from b to c\n",
            "Move from a to c\n",
            "Move from a to b\n",
            "Move from c to b\n",
            "Move from c to a\n",
            "Move from b to a\n",
            "Move from c to b\n",
            "Move from a to c\n",
            "Move from a to b\n",
            "Move from c to b\n"
          ]
        }
      ]
    },
    {
      "cell_type": "code",
      "source": [
        "def fib(x):\n",
        "  if x == 0 or x == 1:\n",
        "    return 1\n",
        "  else:\n",
        "    return fib(x-1) + fib(x-2)\n",
        "\n",
        "fib(11)"
      ],
      "metadata": {
        "colab": {
          "base_uri": "https://localhost:8080/"
        },
        "id": "4ddxKYtwk4tf",
        "outputId": "59ad80a2-680d-47ef-8cec-c35ee8c15188"
      },
      "execution_count": null,
      "outputs": [
        {
          "output_type": "execute_result",
          "data": {
            "text/plain": [
              "144"
            ]
          },
          "metadata": {},
          "execution_count": 46
        }
      ]
    },
    {
      "cell_type": "code",
      "source": [
        "def isPalindrome(s):\n",
        "  def toChars(s):\n",
        "    s = s.lower()\n",
        "    ans = ''\n",
        "    for c in s:\n",
        "      if c in 'abcdefghijklmnopqrstuvwxyz':\n",
        "        ans = ans + c\n",
        "    return ans\n",
        "\n",
        "  def isPal(s):\n",
        "    if len(s) <= 1:\n",
        "      return True\n",
        "    else:\n",
        "      return s[0] == s[-1] and isPal(s[1:-1])\n",
        "\n",
        "  return isPal(toChars(s))"
      ],
      "metadata": {
        "id": "5WocuSjtlM4w"
      },
      "execution_count": null,
      "outputs": []
    },
    {
      "cell_type": "code",
      "source": [
        "isPalindrome('Able\twas\tI,\tere\tI\tsaw\tElba’')"
      ],
      "metadata": {
        "colab": {
          "base_uri": "https://localhost:8080/"
        },
        "id": "0wGkXClzmmZu",
        "outputId": "f06b8173-a2d3-4a10-a956-5862b4ea344a"
      },
      "execution_count": null,
      "outputs": [
        {
          "output_type": "execute_result",
          "data": {
            "text/plain": [
              "True"
            ]
          },
          "metadata": {},
          "execution_count": 55
        }
      ]
    },
    {
      "cell_type": "code",
      "source": [
        ""
      ],
      "metadata": {
        "id": "PVSoJzSTmoHD"
      },
      "execution_count": null,
      "outputs": []
    },
    {
      "cell_type": "markdown",
      "source": [
        "Dictionaries\n"
      ],
      "metadata": {
        "id": "eJw6VmW7nTdT"
      }
    },
    {
      "cell_type": "code",
      "source": [
        "my_dict = {}"
      ],
      "metadata": {
        "id": "z7bNTKdZnU1P"
      },
      "execution_count": null,
      "outputs": []
    },
    {
      "cell_type": "code",
      "source": [
        "grade = {\"ana\": \"b\", \"john\": \"A+\"}"
      ],
      "metadata": {
        "id": "FS-MDpjXn7vV"
      },
      "execution_count": null,
      "outputs": []
    },
    {
      "cell_type": "code",
      "source": [
        "grade"
      ],
      "metadata": {
        "colab": {
          "base_uri": "https://localhost:8080/"
        },
        "id": "OB4nVU7poAJf",
        "outputId": "d09b666c-8a59-447a-884e-db7d574f8015"
      },
      "execution_count": null,
      "outputs": [
        {
          "output_type": "execute_result",
          "data": {
            "text/plain": [
              "{'ana': 'b', 'john': 'A+'}"
            ]
          },
          "metadata": {},
          "execution_count": 58
        }
      ]
    },
    {
      "cell_type": "code",
      "source": [
        "grade['john']"
      ],
      "metadata": {
        "colab": {
          "base_uri": "https://localhost:8080/",
          "height": 35
        },
        "id": "jn23OE8-oA0_",
        "outputId": "20bccd7f-b31e-4778-e991-20ef6c42bb23"
      },
      "execution_count": null,
      "outputs": [
        {
          "output_type": "execute_result",
          "data": {
            "text/plain": [
              "'A+'"
            ],
            "application/vnd.google.colaboratory.intrinsic+json": {
              "type": "string"
            }
          },
          "metadata": {},
          "execution_count": 59
        }
      ]
    },
    {
      "cell_type": "code",
      "source": [
        "grade['Sylvan'] = 'A'"
      ],
      "metadata": {
        "id": "uoxY-L63oH_y"
      },
      "execution_count": null,
      "outputs": []
    },
    {
      "cell_type": "code",
      "source": [
        "'Sylvan' in grade"
      ],
      "metadata": {
        "colab": {
          "base_uri": "https://localhost:8080/"
        },
        "id": "2e3iH0izoS7H",
        "outputId": "b65cbda8-2087-430b-9faa-efbca1684f68"
      },
      "execution_count": null,
      "outputs": [
        {
          "output_type": "execute_result",
          "data": {
            "text/plain": [
              "True"
            ]
          },
          "metadata": {},
          "execution_count": 61
        }
      ]
    },
    {
      "cell_type": "code",
      "source": [
        "grade"
      ],
      "metadata": {
        "colab": {
          "base_uri": "https://localhost:8080/"
        },
        "id": "QQqZZeC5oVd2",
        "outputId": "7543071a-6e63-4968-d3df-7f97d3e8dd1d"
      },
      "execution_count": null,
      "outputs": [
        {
          "output_type": "execute_result",
          "data": {
            "text/plain": [
              "{'Sylvan': 'A', 'ana': 'b', 'john': 'A+'}"
            ]
          },
          "metadata": {},
          "execution_count": 63
        }
      ]
    },
    {
      "cell_type": "code",
      "source": [
        "grade.keys()"
      ],
      "metadata": {
        "colab": {
          "base_uri": "https://localhost:8080/"
        },
        "id": "hcH7zqZIoWCo",
        "outputId": "c82afd84-3157-4bc2-88ae-3cc31f6ebec9"
      },
      "execution_count": null,
      "outputs": [
        {
          "output_type": "execute_result",
          "data": {
            "text/plain": [
              "dict_keys(['ana', 'john', 'Sylvan'])"
            ]
          },
          "metadata": {},
          "execution_count": 64
        }
      ]
    },
    {
      "cell_type": "code",
      "source": [
        "grade.values()"
      ],
      "metadata": {
        "colab": {
          "base_uri": "https://localhost:8080/"
        },
        "id": "HnFgQVFWoceS",
        "outputId": "ee580f3e-5f7a-4df8-edfd-b87eb90c558a"
      },
      "execution_count": null,
      "outputs": [
        {
          "output_type": "execute_result",
          "data": {
            "text/plain": [
              "dict_values(['b', 'A+', 'A'])"
            ]
          },
          "metadata": {},
          "execution_count": 66
        }
      ]
    },
    {
      "cell_type": "code",
      "source": [
        "def lyrics_to_frequencies(lyrics):\n",
        "  myDict = {}\n",
        "  for word in lyrics:\n",
        "    if word in myDict:\n",
        "      myDict[word] += 1\n",
        "    else:\n",
        "      myDict[word] = 1\n",
        "  return myDict"
      ],
      "metadata": {
        "id": "2nlYUHx3oduT"
      },
      "execution_count": null,
      "outputs": []
    },
    {
      "cell_type": "code",
      "source": [
        "def most_common_words(freqs):\n",
        "  values = freqs.values()\n",
        "  best = max(values)\n",
        "  words = []\n",
        "  for k in freqs:\n",
        "    if freqs[k] == best:\n",
        "      words.append(k)\n",
        "  return (words, best)"
      ],
      "metadata": {
        "id": "Ms3wph4ypGRD"
      },
      "execution_count": null,
      "outputs": []
    },
    {
      "cell_type": "code",
      "source": [
        "she_loves_you = ['she', 'loves', 'you', 'yeah', 'yeah', \n",
        "'yeah','she', 'loves', 'you', 'yeah', 'yeah', 'yeah',\n",
        "'she', 'loves', 'you', 'yeah', 'yeah', 'yeah',\n",
        "\n",
        "'you', 'think', \"you've\", 'lost', 'your', 'love',\n",
        "'well', 'i', 'saw', 'her', 'yesterday-yi-yay',\n",
        "\"it's\", 'you', \"she's\", 'thinking', 'of',\n",
        "'and', 'she', 'told', 'me', 'what', 'to', 'say-yi-yay',\n",
        "\n",
        "'she', 'says', 'she', 'loves', 'you',\n",
        "'and', 'you', 'know', 'that', \"can't\", 'be', 'bad',\n",
        "'yes', 'she', 'loves', 'you',\n",
        "'and', 'you', 'know', 'you', 'should', 'be', 'glad',\n",
        "\n",
        "'she', 'said', 'you', 'hurt', 'her', 'so',\n",
        "'she', 'almost', 'lost', 'her', 'mind',\n",
        "'and', 'now', 'she', 'says', 'she', 'knows',\n",
        "\"you're\", 'not', 'the', 'hurting', 'kind',\n",
        "\n",
        "'she', 'says', 'she', 'loves', 'you',\n",
        "'and', 'you', 'know', 'that', \"can't\", 'be', 'bad',\n",
        "'yes', 'she', 'loves', 'you',\n",
        "'and', 'you', 'know', 'you', 'should', 'be', 'glad',\n",
        "\n",
        "'oo', 'she', 'loves', 'you', 'yeah', 'yeah', 'yeah',\n",
        "'she', 'loves', 'you', 'yeah', 'yeah', 'yeah',\n",
        "'with', 'a', 'love', 'like', 'that',\n",
        "'you', 'know', 'you', 'should', 'be', 'glad',\n",
        "\n",
        "'you', 'know', \"it's\", 'up', 'to', 'you',\n",
        "'i', 'think', \"it's\", 'only', 'fair',\n",
        "'pride', 'can', 'hurt', 'you', 'too',\n",
        "'pologize', 'to', 'her',\n",
        "\n",
        "'Because', 'she', 'loves', 'you',\n",
        "'and', 'you', 'know', 'that', \"can't\", 'be', 'bad',\n",
        "'Yes', 'she', 'loves', 'you',\n",
        "'and', 'you', 'know', 'you', 'should', 'be', 'glad',\n",
        "\n",
        "'oo', 'she', 'loves', 'you', 'yeah', 'yeah', 'yeah',\n",
        "'she', 'loves', 'you', 'yeah', 'yeah', 'yeah',\n",
        "'with', 'a', 'love', 'like', 'that',\n",
        "'you', 'know', 'you', 'should', 'be', 'glad',\n",
        "'with', 'a', 'love', 'like', 'that',\n",
        "'you', 'know', 'you', 'should', 'be', 'glad',\n",
        "'with', 'a', 'love', 'like', 'that',\n",
        "'you', 'know', 'you', 'should', 'be', 'glad',\n",
        "'yeah', 'yeah', 'yeah',\n",
        "'yeah', 'yeah', 'yeah', 'yeah'\n",
        "]\n",
        "most_common_words(lyrics_to_frequencies(she_loves_you))"
      ],
      "metadata": {
        "colab": {
          "base_uri": "https://localhost:8080/"
        },
        "id": "bZWKRSRmpYpr",
        "outputId": "e42d81c3-7675-4895-995f-6d11bb235941"
      },
      "execution_count": null,
      "outputs": [
        {
          "output_type": "execute_result",
          "data": {
            "text/plain": [
              "(['you'], 36)"
            ]
          },
          "metadata": {},
          "execution_count": 77
        }
      ]
    },
    {
      "cell_type": "code",
      "source": [
        "def words_often(freqs, minTimes):\n",
        "  results = []\n",
        "  done = False\n",
        "  while not done:\n",
        "    temp = most_common_words(freqs)\n",
        "    if temp[1] >= minTimes:\n",
        "      results.append(temp)\n",
        "      for w in temp[0]:\n",
        "        del(freqs[w])\n",
        "    else:\n",
        "      done = True\n",
        "\n",
        "  return results\n",
        "beatles = lyrics_to_frequencies(she_loves_you)\n",
        "print(words_often(beatles, 5))"
      ],
      "metadata": {
        "colab": {
          "base_uri": "https://localhost:8080/"
        },
        "id": "Tm0OfR0tp0yO",
        "outputId": "1eca16bb-2719-4e3d-b40b-21157602312b"
      },
      "execution_count": null,
      "outputs": [
        {
          "output_type": "stream",
          "name": "stdout",
          "text": [
            "[(['you'], 36), (['yeah'], 28), (['she'], 20), (['loves'], 13), (['know'], 11), (['be'], 10), (['and'], 8), (['that', 'should', 'glad'], 7), (['love'], 5)]\n"
          ]
        }
      ]
    },
    {
      "cell_type": "code",
      "source": [
        "def fib_efficient(n, d):\n",
        "  if n in d:\n",
        "    return d[n]\n",
        "  else:\n",
        "    ans = fib_efficient(n-1, d) + fib_efficient(n-2, d)\n",
        "    d[n] = ans\n",
        "    return ans\n",
        "d = {1:1, 2:2}\n",
        "print(fib_efficient(6, d))"
      ],
      "metadata": {
        "colab": {
          "base_uri": "https://localhost:8080/"
        },
        "id": "hS3YCldrqoSL",
        "outputId": "50111ccb-f1a9-4240-9b06-97055225a559"
      },
      "execution_count": null,
      "outputs": [
        {
          "output_type": "stream",
          "name": "stdout",
          "text": [
            "13\n"
          ]
        }
      ]
    },
    {
      "cell_type": "code",
      "source": [
        "d"
      ],
      "metadata": {
        "colab": {
          "base_uri": "https://localhost:8080/"
        },
        "id": "CsusHO_ZrJmY",
        "outputId": "17481f8c-d26e-49e1-ab84-815da966e9ca"
      },
      "execution_count": null,
      "outputs": [
        {
          "output_type": "execute_result",
          "data": {
            "text/plain": [
              "{1: 1, 2: 2, 3: 3, 4: 5, 5: 8, 6: 13}"
            ]
          },
          "metadata": {},
          "execution_count": 84
        }
      ]
    },
    {
      "cell_type": "code",
      "source": [
        ""
      ],
      "metadata": {
        "id": "XLO1dax4rXGF"
      },
      "execution_count": null,
      "outputs": []
    },
    {
      "cell_type": "markdown",
      "source": [
        "# Testing, Debugging, Exceptions, and Assertions\n"
      ],
      "metadata": {
        "id": "kVHGrFwURb2e"
      }
    },
    {
      "cell_type": "markdown",
      "source": [
        "########################################\n",
        "### EXAMPLE: Buggy code to reverse a list\n",
        "### Try to debug it! (fixes needed are explained below)\n",
        "########################################"
      ],
      "metadata": {
        "id": "RnWSOFxiYsEB"
      }
    },
    {
      "cell_type": "code",
      "source": [
        "try:\n",
        "  a = int(input(\"tell me a number: \"))\n",
        "  b = int(input(\"Tell me another number: \"))\n",
        "  print(\"a/b = \", a/b)\n",
        "  print(\"a+b = \", a+b)\n",
        "\n",
        "\n",
        "except ValueError:\n",
        "  print(\"Could not convert to a nubmer\")\n",
        "\n",
        "except ZeroDivisionError:\n",
        "  print(\"Can't divide by zero\")\n",
        "except:\n",
        "  print(\"Something bad happened\")"
      ],
      "metadata": {
        "colab": {
          "base_uri": "https://localhost:8080/"
        },
        "id": "x-qXyguLY25J",
        "outputId": "36fbd0ea-c0bf-42af-cf9b-a3687f3c1da6"
      },
      "execution_count": 8,
      "outputs": [
        {
          "output_type": "stream",
          "name": "stdout",
          "text": [
            "tell me a number: 1\n",
            "Tell me another number: 0\n",
            "Can't divide by zero\n"
          ]
        }
      ]
    },
    {
      "cell_type": "code",
      "source": [
        "def rev_list_buggy(L):\n",
        "   \"\"\"\n",
        "   input: L, a list\n",
        "   Modifies L such that its elements are in reverse order\n",
        "   returns: nothing\n",
        "   \"\"\"\n",
        "   for i in range(len(L)):\n",
        "       j = len(L) - i\n",
        "       L[i] = temp\n",
        "       L[i] = L[j]\n",
        "       L[j] = L[i]"
      ],
      "metadata": {
        "id": "eiNwB_ohRhtP"
      },
      "execution_count": 1,
      "outputs": []
    },
    {
      "cell_type": "code",
      "source": [
        "def get_ratios(L1, L2):\n",
        "  \"\"\" Assumes: L1 and L2 are lists of equal length of numbers\n",
        "  Returns: a list containing L1[i]/L2[i] \"\"\"\n",
        "  ratios = []\n",
        "  for index in range(len(L1)):\n",
        "    try:\n",
        "      ratios.append(L1[index]/L2[index])\n",
        "    except ZeroDivisionError:\n",
        "      ratios.append(float('nan')) #nan = not a number\n",
        "    except:\n",
        "      raise ValueError('get_ratios called with bad arg')\n",
        "  return ratios\n"
      ],
      "metadata": {
        "id": "9FUOjynEY2Ia"
      },
      "execution_count": 11,
      "outputs": []
    },
    {
      "cell_type": "code",
      "source": [
        "get_ratios([2,4,6], [1,2,3])"
      ],
      "metadata": {
        "colab": {
          "base_uri": "https://localhost:8080/"
        },
        "id": "ynOFvgwDYy9v",
        "outputId": "99a73a82-7093-41de-e457-5f0f9a280564"
      },
      "execution_count": 16,
      "outputs": [
        {
          "output_type": "execute_result",
          "data": {
            "text/plain": [
              "[2.0, 2.0, 2.0]"
            ]
          },
          "metadata": {},
          "execution_count": 16
        }
      ]
    },
    {
      "cell_type": "code",
      "source": [
        "def avg(grades):\n",
        "  try:\n",
        "    return sum(grades)/len(grades)\n",
        "  except ZeroDivisionError:\n",
        "    print('warning: no grades data')\n",
        "\n",
        "def get_stats(class_list):\n",
        "  new_stats = []\n",
        "  for elt in class_list:\n",
        "    new_stats.append([elt[0], elt[1], avg(elt[1])])\n",
        "  return new_stats\n",
        "\n"
      ],
      "metadata": {
        "id": "U9Wtc2Jiai4q"
      },
      "execution_count": 25,
      "outputs": []
    },
    {
      "cell_type": "code",
      "source": [
        "class_list = [[['peter', 'parker'], [80.0, 70.0, 85.0]], \n",
        "[['bruce', 'wayne'], [100.0, 80.0, 74.0]]]\n",
        "class_list2 = [[['peter', 'parker'], []], \n",
        "[['bruce', 'wayne'], []]]\n",
        "\n"
      ],
      "metadata": {
        "id": "kM823ukRayQo"
      },
      "execution_count": 1,
      "outputs": []
    },
    {
      "cell_type": "code",
      "source": [
        "def avg(grades):\n",
        "  assert len(grades) != 0, 'no grades data'\n",
        "  return sum(grades)/len(grades)"
      ],
      "metadata": {
        "id": "yRaER-Jma-S1"
      },
      "execution_count": 2,
      "outputs": []
    },
    {
      "cell_type": "code",
      "source": [
        ""
      ],
      "metadata": {
        "id": "ljNb_r5-cIrL"
      },
      "execution_count": 3,
      "outputs": []
    },
    {
      "cell_type": "code",
      "source": [
        ""
      ],
      "metadata": {
        "id": "l5qk4_3qcbIq"
      },
      "execution_count": null,
      "outputs": []
    },
    {
      "cell_type": "markdown",
      "source": [
        ""
      ],
      "metadata": {
        "id": "M1tnD56k96mm"
      }
    },
    {
      "cell_type": "markdown",
      "source": [
        "# Object Oriented Programming\n"
      ],
      "metadata": {
        "id": "HXUiY6Bm98db"
      }
    },
    {
      "cell_type": "code",
      "source": [
        ""
      ],
      "metadata": {
        "id": "dVqYaAIC-Awl"
      },
      "execution_count": null,
      "outputs": []
    }
  ]
}