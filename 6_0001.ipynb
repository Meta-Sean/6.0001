{
  "nbformat": 4,
  "nbformat_minor": 0,
  "metadata": {
    "colab": {
      "name": "6.0001.ipynb",
      "provenance": [],
      "collapsed_sections": [
        "NTUEUcBNQ-As",
        "82p35B1ddQTX",
        "RnWSOFxiYsEB",
        "HXUiY6Bm98db"
      ],
      "authorship_tag": "ABX9TyMdS99MpWOZN95pEp+ef+ss",
      "include_colab_link": true
    },
    "kernelspec": {
      "name": "python3",
      "display_name": "Python 3"
    },
    "language_info": {
      "name": "python"
    }
  },
  "cells": [
    {
      "cell_type": "markdown",
      "metadata": {
        "id": "view-in-github",
        "colab_type": "text"
      },
      "source": [
        "<a href=\"https://colab.research.google.com/github/Meta-Sean/6.0001/blob/main/6_0001.ipynb\" target=\"_parent\"><img src=\"https://colab.research.google.com/assets/colab-badge.svg\" alt=\"Open In Colab\"/></a>"
      ]
    },
    {
      "cell_type": "markdown",
      "source": [
        "# Tuples, Lists, Aliasing, Mutability, and Cloning\n"
      ],
      "metadata": {
        "id": "NTUEUcBNQ-As"
      }
    },
    {
      "cell_type": "code",
      "source": [
        "print(3.0-1)"
      ],
      "metadata": {
        "id": "R7UhYj6SWobZ",
        "colab": {
          "base_uri": "https://localhost:8080/"
        },
        "outputId": "04ce0131-8209-4cca-ac15-42e3952b1062"
      },
      "execution_count": null,
      "outputs": [
        {
          "output_type": "stream",
          "name": "stdout",
          "text": [
            "2.0\n"
          ]
        }
      ]
    },
    {
      "cell_type": "code",
      "source": [
        "xy = 2"
      ],
      "metadata": {
        "id": "iKfKVjMBWqgY"
      },
      "execution_count": null,
      "outputs": []
    },
    {
      "cell_type": "code",
      "source": [
        "def always_sunny(t1,t2):\n",
        "  sun = ('sunny','sun')\n",
        "  first = t1[0] + t2[0]\n",
        "  return (sun[0], first)"
      ],
      "metadata": {
        "id": "52H5bHUeW4jt"
      },
      "execution_count": null,
      "outputs": []
    },
    {
      "cell_type": "code",
      "source": [
        "always_sunny('cloudy', 'cold')"
      ],
      "metadata": {
        "id": "89hQZ5GJY7TM",
        "colab": {
          "base_uri": "https://localhost:8080/"
        },
        "outputId": "ef5ed65f-2925-4055-9b51-b3c9d47335a9"
      },
      "execution_count": null,
      "outputs": [
        {
          "output_type": "execute_result",
          "data": {
            "text/plain": [
              "('sunny', 'cc')"
            ]
          },
          "metadata": {},
          "execution_count": 5
        }
      ]
    },
    {
      "cell_type": "code",
      "source": [
        "always_sunny(('cloudy'), ('cold',))"
      ],
      "metadata": {
        "id": "XP4PVzSWZAjM",
        "colab": {
          "base_uri": "https://localhost:8080/"
        },
        "outputId": "48f39cc7-6deb-46d1-ca86-119efb36e0c5"
      },
      "execution_count": null,
      "outputs": [
        {
          "output_type": "execute_result",
          "data": {
            "text/plain": [
              "('sunny', 'ccold')"
            ]
          },
          "metadata": {},
          "execution_count": 6
        }
      ]
    },
    {
      "cell_type": "code",
      "source": [
        "L = ['life', 'answer', 42, 0]\n",
        "\n",
        "for thing in L:\n",
        "  if thing == 0:\n",
        "    L[thing] = 'universe'\n",
        "  elif thing == 42:\n",
        "    L[1] = 'everything'\n",
        "\n",
        "print(L)"
      ],
      "metadata": {
        "id": "2chN0faTZFVv",
        "colab": {
          "base_uri": "https://localhost:8080/"
        },
        "outputId": "c3a739b2-cbcb-43e0-b9a9-dc49e10ac764"
      },
      "execution_count": null,
      "outputs": [
        {
          "output_type": "stream",
          "name": "stdout",
          "text": [
            "['universe', 'everything', 42, 0]\n"
          ]
        }
      ]
    },
    {
      "cell_type": "code",
      "source": [
        "l1 = ['re']\n",
        "l2 = ['mi']\n",
        "l3 = ['do']\n",
        "l4 = l1 + l2\n",
        "l3.extend(l4)"
      ],
      "metadata": {
        "id": "hqj39NoMaiHE"
      },
      "execution_count": null,
      "outputs": []
    },
    {
      "cell_type": "code",
      "source": [
        "l3.sort()"
      ],
      "metadata": {
        "id": "ak4VrI-ybGKi"
      },
      "execution_count": null,
      "outputs": []
    },
    {
      "cell_type": "code",
      "source": [
        "l3"
      ],
      "metadata": {
        "id": "jsd5sL30bGqL",
        "colab": {
          "base_uri": "https://localhost:8080/"
        },
        "outputId": "25447b04-5036-4319-bfcf-da07d2e8a82c"
      },
      "execution_count": null,
      "outputs": [
        {
          "output_type": "execute_result",
          "data": {
            "text/plain": [
              "['do', 'mi', 're']"
            ]
          },
          "metadata": {},
          "execution_count": 10
        }
      ]
    },
    {
      "cell_type": "code",
      "source": [
        "del(l3[0])"
      ],
      "metadata": {
        "id": "cANspbpSbH87"
      },
      "execution_count": null,
      "outputs": []
    },
    {
      "cell_type": "code",
      "source": [
        "l3.append(['fa','la'])"
      ],
      "metadata": {
        "id": "d5HvnzHGbXFx"
      },
      "execution_count": null,
      "outputs": []
    },
    {
      "cell_type": "code",
      "source": [
        "l3"
      ],
      "metadata": {
        "id": "I8r2wOrdbZ_S",
        "colab": {
          "base_uri": "https://localhost:8080/"
        },
        "outputId": "e1c23628-837c-4579-fe6c-3c50ce3048e0"
      },
      "execution_count": null,
      "outputs": [
        {
          "output_type": "execute_result",
          "data": {
            "text/plain": [
              "['mi', 're', ['fa', 'la']]"
            ]
          },
          "metadata": {},
          "execution_count": 13
        }
      ]
    },
    {
      "cell_type": "code",
      "source": [
        "l1 = ['bacon', 'eggs']\n",
        "l2 = ['toast', 'jam']\n",
        "brunch = l1\n"
      ],
      "metadata": {
        "id": "ORJ9Au9gbaYr"
      },
      "execution_count": null,
      "outputs": []
    },
    {
      "cell_type": "code",
      "source": [
        "l1.append(\"juice\")"
      ],
      "metadata": {
        "id": "QtC_W4prcGdd"
      },
      "execution_count": null,
      "outputs": []
    },
    {
      "cell_type": "code",
      "source": [
        "l1\n"
      ],
      "metadata": {
        "id": "TCyFOJZPcIDs",
        "colab": {
          "base_uri": "https://localhost:8080/"
        },
        "outputId": "81dddb17-73ef-4d6a-fe4f-2e71e5607ab4"
      },
      "execution_count": null,
      "outputs": [
        {
          "output_type": "execute_result",
          "data": {
            "text/plain": [
              "['bacon', 'eggs', 'juice']"
            ]
          },
          "metadata": {},
          "execution_count": 16
        }
      ]
    },
    {
      "cell_type": "code",
      "source": [
        "brunch"
      ],
      "metadata": {
        "id": "JLnuFhFjcLJG",
        "colab": {
          "base_uri": "https://localhost:8080/"
        },
        "outputId": "767b7f0a-2d44-4d03-a5ae-cb33807b5805"
      },
      "execution_count": null,
      "outputs": [
        {
          "output_type": "execute_result",
          "data": {
            "text/plain": [
              "['bacon', 'eggs', 'juice']"
            ]
          },
          "metadata": {},
          "execution_count": 17
        }
      ]
    },
    {
      "cell_type": "code",
      "source": [
        "brunch.extend(l2)"
      ],
      "metadata": {
        "id": "2UE1OJKIci23"
      },
      "execution_count": null,
      "outputs": []
    },
    {
      "cell_type": "code",
      "source": [
        "brunch"
      ],
      "metadata": {
        "id": "gGwt54kbcobt",
        "colab": {
          "base_uri": "https://localhost:8080/"
        },
        "outputId": "71959d78-b39e-418f-f25a-8c2137bc4af2"
      },
      "execution_count": null,
      "outputs": [
        {
          "output_type": "execute_result",
          "data": {
            "text/plain": [
              "['bacon', 'eggs', 'juice', 'toast', 'jam']"
            ]
          },
          "metadata": {},
          "execution_count": 19
        }
      ]
    },
    {
      "cell_type": "code",
      "source": [
        "l1"
      ],
      "metadata": {
        "id": "YaPCyefaco3i",
        "colab": {
          "base_uri": "https://localhost:8080/"
        },
        "outputId": "51b86356-258e-462a-9a30-200adc5e5756"
      },
      "execution_count": null,
      "outputs": [
        {
          "output_type": "execute_result",
          "data": {
            "text/plain": [
              "['bacon', 'eggs', 'juice', 'toast', 'jam']"
            ]
          },
          "metadata": {},
          "execution_count": 20
        }
      ]
    },
    {
      "cell_type": "code",
      "source": [
        ""
      ],
      "metadata": {
        "id": "EEecrCoycpZK"
      },
      "execution_count": null,
      "outputs": []
    },
    {
      "cell_type": "markdown",
      "source": [
        "\n",
        "\n",
        "# Recursion and Dictionaries"
      ],
      "metadata": {
        "id": "82p35B1ddQTX"
      }
    },
    {
      "cell_type": "code",
      "source": [
        "def mult_iter(a, b):\n",
        "  result = 0\n",
        "  while b > 0:\n",
        "    result += a\n",
        "    b -= 1\n",
        "  return result"
      ],
      "metadata": {
        "id": "pZOKrUg6dYD1"
      },
      "execution_count": null,
      "outputs": []
    },
    {
      "cell_type": "code",
      "source": [
        "mult_iter(2, 2)"
      ],
      "metadata": {
        "colab": {
          "base_uri": "https://localhost:8080/"
        },
        "id": "yZiJJV6mfJnM",
        "outputId": "d9b2391f-df82-4dd9-b4b5-12fcea66ae09"
      },
      "execution_count": null,
      "outputs": [
        {
          "output_type": "execute_result",
          "data": {
            "text/plain": [
              "4"
            ]
          },
          "metadata": {},
          "execution_count": 22
        }
      ]
    },
    {
      "cell_type": "code",
      "source": [
        "def mult(a, b):\n",
        "  if b == 1:\n",
        "    return a\n",
        "  else:\n",
        "    return a + mult(a, b-1)"
      ],
      "metadata": {
        "id": "OoWl8drBfL3c"
      },
      "execution_count": null,
      "outputs": []
    },
    {
      "cell_type": "code",
      "source": [
        "mult(2, 2)"
      ],
      "metadata": {
        "colab": {
          "base_uri": "https://localhost:8080/"
        },
        "id": "gTKebKMzflZP",
        "outputId": "a4233205-691a-460a-c345-e47da8e6579a"
      },
      "execution_count": null,
      "outputs": [
        {
          "output_type": "execute_result",
          "data": {
            "text/plain": [
              "4"
            ]
          },
          "metadata": {},
          "execution_count": 24
        }
      ]
    },
    {
      "cell_type": "code",
      "source": [
        "def fact(n):\n",
        "  if n == 1:\n",
        "    return 1\n",
        "  else:\n",
        "    return n*fact(n-1)\n",
        "print(fact(4))"
      ],
      "metadata": {
        "colab": {
          "base_uri": "https://localhost:8080/"
        },
        "id": "Dxw-FgfAfmRG",
        "outputId": "11d5ba09-03a1-4279-cb06-d42e39bce99e"
      },
      "execution_count": null,
      "outputs": [
        {
          "output_type": "stream",
          "name": "stdout",
          "text": [
            "24\n"
          ]
        }
      ]
    },
    {
      "cell_type": "code",
      "source": [
        "def printMove(fr, to):\n",
        "  print(f\"Move from {str(fr)} to {str(to)}\")\n",
        "  "
      ],
      "metadata": {
        "id": "-Knk7h0Xf7fX"
      },
      "execution_count": null,
      "outputs": []
    },
    {
      "cell_type": "code",
      "source": [
        "def Towers(n, fr, to, spare):\n",
        "  if n == 1:\n",
        "    printMove(fr, to)\n",
        "  else:\n",
        "    Towers(n-1, fr, spare, to)\n",
        "    Towers(1, fr, to, spare)\n",
        "    Towers(n-1, spare, to, fr)"
      ],
      "metadata": {
        "id": "tblkHDxhj1_M"
      },
      "execution_count": null,
      "outputs": []
    },
    {
      "cell_type": "code",
      "source": [
        "Towers(4, 'a','b','c')"
      ],
      "metadata": {
        "colab": {
          "base_uri": "https://localhost:8080/"
        },
        "id": "X8gG5p1okENB",
        "outputId": "06f937bd-bf67-4ca5-8f01-609e6b609d65"
      },
      "execution_count": null,
      "outputs": [
        {
          "output_type": "stream",
          "name": "stdout",
          "text": [
            "Move from a to c\n",
            "Move from a to b\n",
            "Move from c to b\n",
            "Move from a to c\n",
            "Move from b to a\n",
            "Move from b to c\n",
            "Move from a to c\n",
            "Move from a to b\n",
            "Move from c to b\n",
            "Move from c to a\n",
            "Move from b to a\n",
            "Move from c to b\n",
            "Move from a to c\n",
            "Move from a to b\n",
            "Move from c to b\n"
          ]
        }
      ]
    },
    {
      "cell_type": "code",
      "source": [
        "def fib(x):\n",
        "  if x == 0 or x == 1:\n",
        "    return 1\n",
        "  else:\n",
        "    return fib(x-1) + fib(x-2)\n",
        "\n",
        "fib(11)"
      ],
      "metadata": {
        "colab": {
          "base_uri": "https://localhost:8080/"
        },
        "id": "4ddxKYtwk4tf",
        "outputId": "d7132240-6b05-426e-8501-23d033fcdaa1"
      },
      "execution_count": null,
      "outputs": [
        {
          "output_type": "execute_result",
          "data": {
            "text/plain": [
              "144"
            ]
          },
          "metadata": {},
          "execution_count": 29
        }
      ]
    },
    {
      "cell_type": "code",
      "source": [
        "def isPalindrome(s):\n",
        "  def toChars(s):\n",
        "    s = s.lower()\n",
        "    ans = ''\n",
        "    for c in s:\n",
        "      if c in 'abcdefghijklmnopqrstuvwxyz':\n",
        "        ans = ans + c\n",
        "    return ans\n",
        "\n",
        "  def isPal(s):\n",
        "    if len(s) <= 1:\n",
        "      return True\n",
        "    else:\n",
        "      return s[0] == s[-1] and isPal(s[1:-1])\n",
        "\n",
        "  return isPal(toChars(s))"
      ],
      "metadata": {
        "id": "5WocuSjtlM4w"
      },
      "execution_count": null,
      "outputs": []
    },
    {
      "cell_type": "code",
      "source": [
        "isPalindrome('Able\twas\tI,\tere\tI\tsaw\tElba’')"
      ],
      "metadata": {
        "colab": {
          "base_uri": "https://localhost:8080/"
        },
        "id": "0wGkXClzmmZu",
        "outputId": "1ce58088-fe58-4e33-fed6-125860acba68"
      },
      "execution_count": null,
      "outputs": [
        {
          "output_type": "execute_result",
          "data": {
            "text/plain": [
              "True"
            ]
          },
          "metadata": {},
          "execution_count": 31
        }
      ]
    },
    {
      "cell_type": "code",
      "source": [
        ""
      ],
      "metadata": {
        "id": "PVSoJzSTmoHD"
      },
      "execution_count": null,
      "outputs": []
    },
    {
      "cell_type": "markdown",
      "source": [
        "Dictionaries\n"
      ],
      "metadata": {
        "id": "eJw6VmW7nTdT"
      }
    },
    {
      "cell_type": "code",
      "source": [
        "my_dict = {}"
      ],
      "metadata": {
        "id": "z7bNTKdZnU1P"
      },
      "execution_count": null,
      "outputs": []
    },
    {
      "cell_type": "code",
      "source": [
        "grade = {\"ana\": \"b\", \"john\": \"A+\"}"
      ],
      "metadata": {
        "id": "FS-MDpjXn7vV"
      },
      "execution_count": null,
      "outputs": []
    },
    {
      "cell_type": "code",
      "source": [
        "grade"
      ],
      "metadata": {
        "colab": {
          "base_uri": "https://localhost:8080/"
        },
        "id": "OB4nVU7poAJf",
        "outputId": "0259dbcd-5bf9-4dd7-d726-9c0493eddaa1"
      },
      "execution_count": null,
      "outputs": [
        {
          "output_type": "execute_result",
          "data": {
            "text/plain": [
              "{'ana': 'b', 'john': 'A+'}"
            ]
          },
          "metadata": {},
          "execution_count": 34
        }
      ]
    },
    {
      "cell_type": "code",
      "source": [
        "grade['john']"
      ],
      "metadata": {
        "colab": {
          "base_uri": "https://localhost:8080/"
        },
        "id": "jn23OE8-oA0_",
        "outputId": "dfbd873d-bec0-41e5-8579-2ea95f76ffb7"
      },
      "execution_count": null,
      "outputs": [
        {
          "output_type": "execute_result",
          "data": {
            "text/plain": [
              "'A+'"
            ],
            "application/vnd.google.colaboratory.intrinsic+json": {
              "type": "string"
            }
          },
          "metadata": {},
          "execution_count": 35
        }
      ]
    },
    {
      "cell_type": "code",
      "source": [
        "grade['Sylvan'] = 'A'"
      ],
      "metadata": {
        "id": "uoxY-L63oH_y"
      },
      "execution_count": null,
      "outputs": []
    },
    {
      "cell_type": "code",
      "source": [
        "'Sylvan' in grade"
      ],
      "metadata": {
        "colab": {
          "base_uri": "https://localhost:8080/"
        },
        "id": "2e3iH0izoS7H",
        "outputId": "40585844-782b-4f1e-af52-7639409ddc75"
      },
      "execution_count": null,
      "outputs": [
        {
          "output_type": "execute_result",
          "data": {
            "text/plain": [
              "True"
            ]
          },
          "metadata": {},
          "execution_count": 37
        }
      ]
    },
    {
      "cell_type": "code",
      "source": [
        "grade"
      ],
      "metadata": {
        "colab": {
          "base_uri": "https://localhost:8080/"
        },
        "id": "QQqZZeC5oVd2",
        "outputId": "12cc54ba-4f73-4979-d439-b509f7827ad1"
      },
      "execution_count": null,
      "outputs": [
        {
          "output_type": "execute_result",
          "data": {
            "text/plain": [
              "{'Sylvan': 'A', 'ana': 'b', 'john': 'A+'}"
            ]
          },
          "metadata": {},
          "execution_count": 38
        }
      ]
    },
    {
      "cell_type": "code",
      "source": [
        "grade.keys()"
      ],
      "metadata": {
        "colab": {
          "base_uri": "https://localhost:8080/"
        },
        "id": "hcH7zqZIoWCo",
        "outputId": "c1de1c4e-94ca-4c24-b4f3-911398627e6b"
      },
      "execution_count": null,
      "outputs": [
        {
          "output_type": "execute_result",
          "data": {
            "text/plain": [
              "dict_keys(['ana', 'john', 'Sylvan'])"
            ]
          },
          "metadata": {},
          "execution_count": 39
        }
      ]
    },
    {
      "cell_type": "code",
      "source": [
        "grade.values()"
      ],
      "metadata": {
        "colab": {
          "base_uri": "https://localhost:8080/"
        },
        "id": "HnFgQVFWoceS",
        "outputId": "3d8bbf02-9d74-4d79-eb6e-2324f4f21d16"
      },
      "execution_count": null,
      "outputs": [
        {
          "output_type": "execute_result",
          "data": {
            "text/plain": [
              "dict_values(['b', 'A+', 'A'])"
            ]
          },
          "metadata": {},
          "execution_count": 40
        }
      ]
    },
    {
      "cell_type": "code",
      "source": [
        "def lyrics_to_frequencies(lyrics):\n",
        "  myDict = {}\n",
        "  for word in lyrics:\n",
        "    if word in myDict:\n",
        "      myDict[word] += 1\n",
        "    else:\n",
        "      myDict[word] = 1\n",
        "  return myDict"
      ],
      "metadata": {
        "id": "2nlYUHx3oduT"
      },
      "execution_count": null,
      "outputs": []
    },
    {
      "cell_type": "code",
      "source": [
        "def most_common_words(freqs):\n",
        "  values = freqs.values()\n",
        "  best = max(values)\n",
        "  words = []\n",
        "  for k in freqs:\n",
        "    if freqs[k] == best:\n",
        "      words.append(k)\n",
        "  return (words, best)"
      ],
      "metadata": {
        "id": "Ms3wph4ypGRD"
      },
      "execution_count": null,
      "outputs": []
    },
    {
      "cell_type": "code",
      "source": [
        "she_loves_you = ['she', 'loves', 'you', 'yeah', 'yeah', \n",
        "'yeah','she', 'loves', 'you', 'yeah', 'yeah', 'yeah',\n",
        "'she', 'loves', 'you', 'yeah', 'yeah', 'yeah',\n",
        "\n",
        "'you', 'think', \"you've\", 'lost', 'your', 'love',\n",
        "'well', 'i', 'saw', 'her', 'yesterday-yi-yay',\n",
        "\"it's\", 'you', \"she's\", 'thinking', 'of',\n",
        "'and', 'she', 'told', 'me', 'what', 'to', 'say-yi-yay',\n",
        "\n",
        "'she', 'says', 'she', 'loves', 'you',\n",
        "'and', 'you', 'know', 'that', \"can't\", 'be', 'bad',\n",
        "'yes', 'she', 'loves', 'you',\n",
        "'and', 'you', 'know', 'you', 'should', 'be', 'glad',\n",
        "\n",
        "'she', 'said', 'you', 'hurt', 'her', 'so',\n",
        "'she', 'almost', 'lost', 'her', 'mind',\n",
        "'and', 'now', 'she', 'says', 'she', 'knows',\n",
        "\"you're\", 'not', 'the', 'hurting', 'kind',\n",
        "\n",
        "'she', 'says', 'she', 'loves', 'you',\n",
        "'and', 'you', 'know', 'that', \"can't\", 'be', 'bad',\n",
        "'yes', 'she', 'loves', 'you',\n",
        "'and', 'you', 'know', 'you', 'should', 'be', 'glad',\n",
        "\n",
        "'oo', 'she', 'loves', 'you', 'yeah', 'yeah', 'yeah',\n",
        "'she', 'loves', 'you', 'yeah', 'yeah', 'yeah',\n",
        "'with', 'a', 'love', 'like', 'that',\n",
        "'you', 'know', 'you', 'should', 'be', 'glad',\n",
        "\n",
        "'you', 'know', \"it's\", 'up', 'to', 'you',\n",
        "'i', 'think', \"it's\", 'only', 'fair',\n",
        "'pride', 'can', 'hurt', 'you', 'too',\n",
        "'pologize', 'to', 'her',\n",
        "\n",
        "'Because', 'she', 'loves', 'you',\n",
        "'and', 'you', 'know', 'that', \"can't\", 'be', 'bad',\n",
        "'Yes', 'she', 'loves', 'you',\n",
        "'and', 'you', 'know', 'you', 'should', 'be', 'glad',\n",
        "\n",
        "'oo', 'she', 'loves', 'you', 'yeah', 'yeah', 'yeah',\n",
        "'she', 'loves', 'you', 'yeah', 'yeah', 'yeah',\n",
        "'with', 'a', 'love', 'like', 'that',\n",
        "'you', 'know', 'you', 'should', 'be', 'glad',\n",
        "'with', 'a', 'love', 'like', 'that',\n",
        "'you', 'know', 'you', 'should', 'be', 'glad',\n",
        "'with', 'a', 'love', 'like', 'that',\n",
        "'you', 'know', 'you', 'should', 'be', 'glad',\n",
        "'yeah', 'yeah', 'yeah',\n",
        "'yeah', 'yeah', 'yeah', 'yeah'\n",
        "]\n",
        "most_common_words(lyrics_to_frequencies(she_loves_you))"
      ],
      "metadata": {
        "colab": {
          "base_uri": "https://localhost:8080/"
        },
        "id": "bZWKRSRmpYpr",
        "outputId": "3f358f83-2e3f-4779-f39f-bfacb1e41b8f"
      },
      "execution_count": null,
      "outputs": [
        {
          "output_type": "execute_result",
          "data": {
            "text/plain": [
              "(['you'], 36)"
            ]
          },
          "metadata": {},
          "execution_count": 43
        }
      ]
    },
    {
      "cell_type": "code",
      "source": [
        "def words_often(freqs, minTimes):\n",
        "  results = []\n",
        "  done = False\n",
        "  while not done:\n",
        "    temp = most_common_words(freqs)\n",
        "    if temp[1] >= minTimes:\n",
        "      results.append(temp)\n",
        "      for w in temp[0]:\n",
        "        del(freqs[w])\n",
        "    else:\n",
        "      done = True\n",
        "\n",
        "  return results\n",
        "beatles = lyrics_to_frequencies(she_loves_you)\n",
        "print(words_often(beatles, 5))"
      ],
      "metadata": {
        "colab": {
          "base_uri": "https://localhost:8080/"
        },
        "id": "Tm0OfR0tp0yO",
        "outputId": "846157d3-9fcb-42f2-8348-228d3729ad33"
      },
      "execution_count": null,
      "outputs": [
        {
          "output_type": "stream",
          "name": "stdout",
          "text": [
            "[(['you'], 36), (['yeah'], 28), (['she'], 20), (['loves'], 13), (['know'], 11), (['be'], 10), (['and'], 8), (['that', 'should', 'glad'], 7), (['love'], 5)]\n"
          ]
        }
      ]
    },
    {
      "cell_type": "code",
      "source": [
        "def fib_efficient(n, d):\n",
        "  if n in d:\n",
        "    return d[n]\n",
        "  else:\n",
        "    ans = fib_efficient(n-1, d) + fib_efficient(n-2, d)\n",
        "    d[n] = ans\n",
        "    return ans\n",
        "d = {1:1, 2:2}\n",
        "print(fib_efficient(6, d))"
      ],
      "metadata": {
        "colab": {
          "base_uri": "https://localhost:8080/"
        },
        "id": "hS3YCldrqoSL",
        "outputId": "99cb36dd-9c0a-48a1-995d-39f3965cdaff"
      },
      "execution_count": null,
      "outputs": [
        {
          "output_type": "stream",
          "name": "stdout",
          "text": [
            "13\n"
          ]
        }
      ]
    },
    {
      "cell_type": "code",
      "source": [
        "d"
      ],
      "metadata": {
        "colab": {
          "base_uri": "https://localhost:8080/"
        },
        "id": "CsusHO_ZrJmY",
        "outputId": "eb49dcb9-d96d-4041-807d-ebc466b3689a"
      },
      "execution_count": null,
      "outputs": [
        {
          "output_type": "execute_result",
          "data": {
            "text/plain": [
              "{1: 1, 2: 2, 3: 3, 4: 5, 5: 8, 6: 13}"
            ]
          },
          "metadata": {},
          "execution_count": 46
        }
      ]
    },
    {
      "cell_type": "code",
      "source": [
        ""
      ],
      "metadata": {
        "id": "XLO1dax4rXGF"
      },
      "execution_count": null,
      "outputs": []
    },
    {
      "cell_type": "markdown",
      "source": [
        "# Testing, Debugging, Exceptions, and Assertions\n"
      ],
      "metadata": {
        "id": "kVHGrFwURb2e"
      }
    },
    {
      "cell_type": "markdown",
      "source": [
        "########################################\n",
        "### EXAMPLE: Buggy code to reverse a list\n",
        "### Try to debug it! (fixes needed are explained below)\n",
        "########################################"
      ],
      "metadata": {
        "id": "RnWSOFxiYsEB"
      }
    },
    {
      "cell_type": "code",
      "source": [
        "\n",
        "try:\n",
        "  a = int(input(\"tell me a number: \"))\n",
        "  b = int(input(\"Tell me another number: \"))\n",
        "  print(\"a/b = \", a/b)\n",
        "  print(\"a+b = \", a+b)\n",
        "\n",
        "\n",
        "except ValueError:\n",
        "  print(\"Could not convert to a nubmer\")\n",
        "\n",
        "except ZeroDivisionError:\n",
        "  print(\"Can't divide by zero\")\n",
        "except:\n",
        "  print(\"Something bad happened\")"
      ],
      "metadata": {
        "colab": {
          "base_uri": "https://localhost:8080/"
        },
        "id": "x-qXyguLY25J",
        "outputId": "5c818cc6-d6b7-49c4-ef68-8a966eb42767"
      },
      "execution_count": null,
      "outputs": [
        {
          "output_type": "stream",
          "name": "stdout",
          "text": [
            "tell me a number: a\n",
            "Could not convert to a nubmer\n"
          ]
        }
      ]
    },
    {
      "cell_type": "code",
      "source": [
        "def rev_list_buggy(L):\n",
        "   \"\"\"\n",
        "   input: L, a list\n",
        "   Modifies L such that its elements are in reverse order\n",
        "   returns: nothing\n",
        "   \"\"\"\n",
        "   for i in range(len(L)):\n",
        "       j = len(L) - i\n",
        "       L[i] = temp\n",
        "       L[i] = L[j]\n",
        "       L[j] = L[i]"
      ],
      "metadata": {
        "id": "eiNwB_ohRhtP"
      },
      "execution_count": null,
      "outputs": []
    },
    {
      "cell_type": "code",
      "source": [
        "def get_ratios(L1, L2):\n",
        "  \"\"\" Assumes: L1 and L2 are lists of equal length of numbers\n",
        "  Returns: a list containing L1[i]/L2[i] \"\"\"\n",
        "  ratios = []\n",
        "  for index in range(len(L1)):\n",
        "    try:\n",
        "      ratios.append(L1[index]/L2[index])\n",
        "    except ZeroDivisionError:\n",
        "      ratios.append(float('nan')) #nan = not a number\n",
        "    except:\n",
        "      raise ValueError('get_ratios called with bad arg')\n",
        "  return ratios\n"
      ],
      "metadata": {
        "id": "9FUOjynEY2Ia"
      },
      "execution_count": null,
      "outputs": []
    },
    {
      "cell_type": "code",
      "source": [
        "get_ratios([2,4,6], [1,2,3])"
      ],
      "metadata": {
        "colab": {
          "base_uri": "https://localhost:8080/"
        },
        "id": "ynOFvgwDYy9v",
        "outputId": "e7ef331e-c36b-4b5f-962d-1603df44a159"
      },
      "execution_count": null,
      "outputs": [
        {
          "output_type": "execute_result",
          "data": {
            "text/plain": [
              "[2.0, 2.0, 2.0]"
            ]
          },
          "metadata": {},
          "execution_count": 50
        }
      ]
    },
    {
      "cell_type": "code",
      "source": [
        "def avg(grades):\n",
        "  try:\n",
        "    return sum(grades)/len(grades)\n",
        "  except ZeroDivisionError:\n",
        "    print('warning: no grades data')\n",
        "\n",
        "def get_stats(class_list):\n",
        "  new_stats = []\n",
        "  for elt in class_list:\n",
        "    new_stats.append([elt[0], elt[1], avg(elt[1])])\n",
        "  return new_stats\n",
        "\n"
      ],
      "metadata": {
        "id": "U9Wtc2Jiai4q"
      },
      "execution_count": null,
      "outputs": []
    },
    {
      "cell_type": "code",
      "source": [
        "class_list = [[['peter', 'parker'], [80.0, 70.0, 85.0]], \n",
        "[['bruce', 'wayne'], [100.0, 80.0, 74.0]]]\n",
        "class_list2 = [[['peter', 'parker'], []], \n",
        "[['bruce', 'wayne'], []]]\n",
        "\n"
      ],
      "metadata": {
        "id": "kM823ukRayQo"
      },
      "execution_count": null,
      "outputs": []
    },
    {
      "cell_type": "code",
      "source": [
        "def avg(grades):\n",
        "  assert len(grades) != 0, 'no grades data'\n",
        "  return sum(grades)/len(grades)"
      ],
      "metadata": {
        "id": "yRaER-Jma-S1"
      },
      "execution_count": null,
      "outputs": []
    },
    {
      "cell_type": "code",
      "source": [
        ""
      ],
      "metadata": {
        "id": "ljNb_r5-cIrL"
      },
      "execution_count": null,
      "outputs": []
    },
    {
      "cell_type": "code",
      "source": [
        ""
      ],
      "metadata": {
        "id": "l5qk4_3qcbIq"
      },
      "execution_count": null,
      "outputs": []
    },
    {
      "cell_type": "markdown",
      "source": [
        ""
      ],
      "metadata": {
        "id": "M1tnD56k96mm"
      }
    },
    {
      "cell_type": "markdown",
      "source": [
        "# Object Oriented Programming\n"
      ],
      "metadata": {
        "id": "HXUiY6Bm98db"
      }
    },
    {
      "cell_type": "code",
      "source": [
        "l = [1,2,3,4]\n"
      ],
      "metadata": {
        "id": "dVqYaAIC-Awl"
      },
      "execution_count": null,
      "outputs": []
    },
    {
      "cell_type": "code",
      "source": [
        "len(l)"
      ],
      "metadata": {
        "colab": {
          "base_uri": "https://localhost:8080/"
        },
        "id": "cR7A6Lgrvanv",
        "outputId": "11687544-f605-4739-c13c-1fda2aa9bb5b"
      },
      "execution_count": null,
      "outputs": [
        {
          "output_type": "execute_result",
          "data": {
            "text/plain": [
              "4"
            ]
          },
          "metadata": {},
          "execution_count": 55
        }
      ]
    },
    {
      "cell_type": "code",
      "source": [
        "class Coordinate(object):\n",
        "  def __init__(self, x, y):\n",
        "    self.x = x\n",
        "    self.y = y\n",
        "  def distance(self, other):\n",
        "    x_diff_sq = (self.x-other.x)**2\n",
        "    y_diff_sq = (self.y-other.y)**2\n",
        "    return (x_diff_sq + y_diff_sq)**0.5\n",
        "  def __str__(self):\n",
        "    return \"<\"+str(self.x)+\",\"+str(self.y)+\">\"\n"
      ],
      "metadata": {
        "id": "PoZAM60kvb8G"
      },
      "execution_count": null,
      "outputs": []
    },
    {
      "cell_type": "code",
      "source": [
        "c = Coordinate(3,4)\n",
        "zero = Coordinate(0,0)\n",
        "print(c.distance(zero))"
      ],
      "metadata": {
        "colab": {
          "base_uri": "https://localhost:8080/"
        },
        "id": "yW2vCh35xgXs",
        "outputId": "b2a758dc-7ee0-42f2-e092-a0f0e071ff40"
      },
      "execution_count": null,
      "outputs": [
        {
          "output_type": "stream",
          "name": "stdout",
          "text": [
            "5.0\n"
          ]
        }
      ]
    },
    {
      "cell_type": "code",
      "source": [
        "print(c)"
      ],
      "metadata": {
        "colab": {
          "base_uri": "https://localhost:8080/"
        },
        "id": "Cv9TpyKx0E_E",
        "outputId": "819d4d1d-4f06-45b8-a6ab-73fa85198482"
      },
      "execution_count": null,
      "outputs": [
        {
          "output_type": "stream",
          "name": "stdout",
          "text": [
            "<3,4>\n"
          ]
        }
      ]
    },
    {
      "cell_type": "code",
      "source": [
        "print(type(c))"
      ],
      "metadata": {
        "colab": {
          "base_uri": "https://localhost:8080/"
        },
        "id": "oIzHEeEh0pN8",
        "outputId": "c1364fe2-2776-47f1-ed16-211ddee6c546"
      },
      "execution_count": null,
      "outputs": [
        {
          "output_type": "stream",
          "name": "stdout",
          "text": [
            "<class '__main__.Coordinate'>\n"
          ]
        }
      ]
    },
    {
      "cell_type": "code",
      "source": [
        "print(type(Coordinate))"
      ],
      "metadata": {
        "colab": {
          "base_uri": "https://localhost:8080/"
        },
        "id": "up-Kj9_33ZOT",
        "outputId": "58c129b8-ad28-4577-f04c-a06f061abf4b"
      },
      "execution_count": null,
      "outputs": [
        {
          "output_type": "stream",
          "name": "stdout",
          "text": [
            "<class 'type'>\n"
          ]
        }
      ]
    },
    {
      "cell_type": "code",
      "source": [
        "print(isinstance(c, Coordinate))"
      ],
      "metadata": {
        "colab": {
          "base_uri": "https://localhost:8080/"
        },
        "id": "fwuWlhSZ3eCD",
        "outputId": "18215b0c-caf9-45c9-d109-ec1840343301"
      },
      "execution_count": null,
      "outputs": [
        {
          "output_type": "stream",
          "name": "stdout",
          "text": [
            "True\n"
          ]
        }
      ]
    },
    {
      "cell_type": "code",
      "source": [
        "class Fraction(object):\n",
        "    \"\"\"\n",
        "    A number represented as a fraction\n",
        "    \"\"\"\n",
        "    def __init__(self, num, denom):\n",
        "        \"\"\" num and denom are integers \"\"\"\n",
        "        assert type(num) == int and type(denom) == int, \"ints not used\"\n",
        "        self.num = num\n",
        "        self.denom = denom\n",
        "    def __str__(self):\n",
        "        \"\"\" Retunrs a string representation of self \"\"\"\n",
        "        return str(self.num) + \"/\" + str(self.denom)\n",
        "    def __add__(self, other):\n",
        "        \"\"\" Returns a new fraction representing the addition \"\"\"\n",
        "        top = self.num*other.denom + self.denom*other.num\n",
        "        bott = self.denom*other.denom\n",
        "        return Fraction(top, bott)\n",
        "    def __sub__(self, other):\n",
        "        \"\"\" Returns a new fraction representing the subtraction \"\"\"\n",
        "        top = self.num*other.denom - self.denom*other.num\n",
        "        bott = self.denom*other.denom\n",
        "        return Fraction(top, bott)\n",
        "    def __float__(self):\n",
        "        \"\"\" Returns a float value of the fraction \"\"\"\n",
        "        return self.num/self.denom\n",
        "    def inverse(self):\n",
        "        \"\"\" Returns a new fraction representing 1/self \"\"\"\n",
        "        return Fraction(self.denom, self.num)"
      ],
      "metadata": {
        "id": "DhUntapT3tfa"
      },
      "execution_count": null,
      "outputs": []
    },
    {
      "cell_type": "code",
      "source": [
        "a = Fraction(1,4)\n",
        "b = Fraction(3,4)\n",
        "c = a + b "
      ],
      "metadata": {
        "id": "MnXIcfT04G0M"
      },
      "execution_count": null,
      "outputs": []
    },
    {
      "cell_type": "code",
      "source": [
        "c"
      ],
      "metadata": {
        "colab": {
          "base_uri": "https://localhost:8080/"
        },
        "id": "HBWmPSWn4Ls1",
        "outputId": "dbd6a5f2-3870-4e22-aa56-6d3ffc56eb61"
      },
      "execution_count": null,
      "outputs": [
        {
          "output_type": "execute_result",
          "data": {
            "text/plain": [
              "<__main__.Fraction at 0x7fd415c495d0>"
            ]
          },
          "metadata": {},
          "execution_count": 64
        }
      ]
    },
    {
      "cell_type": "code",
      "source": [
        "print(float(c))"
      ],
      "metadata": {
        "colab": {
          "base_uri": "https://localhost:8080/"
        },
        "id": "TaE9cMFR4MKu",
        "outputId": "bb084702-b2ba-4a8c-fef3-d72a79bf4bfc"
      },
      "execution_count": null,
      "outputs": [
        {
          "output_type": "stream",
          "name": "stdout",
          "text": [
            "1.0\n"
          ]
        }
      ]
    },
    {
      "cell_type": "code",
      "source": [
        "Fraction.__float__(c)"
      ],
      "metadata": {
        "colab": {
          "base_uri": "https://localhost:8080/"
        },
        "id": "pjqBfWf_4OJf",
        "outputId": "59c11a8b-6fab-4194-bbc1-00d5aade8ca0"
      },
      "execution_count": null,
      "outputs": [
        {
          "output_type": "execute_result",
          "data": {
            "text/plain": [
              "1.0"
            ]
          },
          "metadata": {},
          "execution_count": 66
        }
      ]
    },
    {
      "cell_type": "code",
      "source": [
        "float(b.inverse())"
      ],
      "metadata": {
        "id": "U7u6ipNy4SW5",
        "outputId": "71478eea-66a2-4294-dfa3-f9704739f678",
        "colab": {
          "base_uri": "https://localhost:8080/"
        }
      },
      "execution_count": null,
      "outputs": [
        {
          "output_type": "execute_result",
          "data": {
            "text/plain": [
              "1.3333333333333333"
            ]
          },
          "metadata": {},
          "execution_count": 67
        }
      ]
    },
    {
      "cell_type": "code",
      "source": [
        ""
      ],
      "metadata": {
        "id": "d3XQbOzD4UYp"
      },
      "execution_count": null,
      "outputs": []
    },
    {
      "cell_type": "markdown",
      "source": [
        "# Python Classes and Inheritance \n"
      ],
      "metadata": {
        "id": "INp5TVTIsTp-"
      }
    },
    {
      "cell_type": "code",
      "source": [
        "class Animal(object):\n",
        "  def __init__(self, age):\n",
        "    self.age = age\n",
        "    self.name = None\n",
        "  def get_age(self):\n",
        "    return self.age\n",
        "  def get_name(self):\n",
        "    return self.name\n",
        "  def set_age(self, newage):\n",
        "    self.age = newage\n",
        "  def set_name(self, newname=''):\n",
        "    self.name = newname\n",
        "  def __str__(self):\n",
        "    return \"animal:\"+str(self.name)+\":\"+str(self.age)\n",
        "\n",
        "myanimal = Animal(3)"
      ],
      "metadata": {
        "id": "EwUH6ll2sXWS"
      },
      "execution_count": null,
      "outputs": []
    },
    {
      "cell_type": "code",
      "source": [
        "myanimal.age"
      ],
      "metadata": {
        "colab": {
          "base_uri": "https://localhost:8080/"
        },
        "id": "2v4Tmp21_90z",
        "outputId": "ff21fed5-87be-4fd6-fed1-5919f20827c0"
      },
      "execution_count": null,
      "outputs": [
        {
          "output_type": "execute_result",
          "data": {
            "text/plain": [
              "3"
            ]
          },
          "metadata": {},
          "execution_count": 109
        }
      ]
    },
    {
      "cell_type": "code",
      "source": [
        "myanimal.get_age()"
      ],
      "metadata": {
        "colab": {
          "base_uri": "https://localhost:8080/"
        },
        "id": "KI5OHgPTAxlN",
        "outputId": "87f1c258-96b7-4d41-a9df-434bb5a55c34"
      },
      "execution_count": null,
      "outputs": [
        {
          "output_type": "execute_result",
          "data": {
            "text/plain": [
              "3"
            ]
          },
          "metadata": {},
          "execution_count": 110
        }
      ]
    },
    {
      "cell_type": "code",
      "source": [
        "myanimal.age = 'infinite'"
      ],
      "metadata": {
        "id": "d-491WOpBf5_"
      },
      "execution_count": null,
      "outputs": []
    },
    {
      "cell_type": "code",
      "source": [
        "myanimal.age"
      ],
      "metadata": {
        "colab": {
          "base_uri": "https://localhost:8080/",
          "height": 35
        },
        "id": "wTtgtiP4Cunu",
        "outputId": "dcc7be04-b4cd-42eb-be65-cf4a9b6e1553"
      },
      "execution_count": null,
      "outputs": [
        {
          "output_type": "execute_result",
          "data": {
            "text/plain": [
              "'infinite'"
            ],
            "application/vnd.google.colaboratory.intrinsic+json": {
              "type": "string"
            }
          },
          "metadata": {},
          "execution_count": 112
        }
      ]
    },
    {
      "cell_type": "code",
      "source": [
        "myanimal.size = 'tiny'"
      ],
      "metadata": {
        "id": "PrITdF8wCw7J"
      },
      "execution_count": null,
      "outputs": []
    },
    {
      "cell_type": "code",
      "source": [
        "myanimal.size"
      ],
      "metadata": {
        "colab": {
          "base_uri": "https://localhost:8080/",
          "height": 35
        },
        "id": "aJHF4zDwC3Yy",
        "outputId": "96efa687-1283-42c8-fda8-a6157dff2f47"
      },
      "execution_count": null,
      "outputs": [
        {
          "output_type": "execute_result",
          "data": {
            "text/plain": [
              "'tiny'"
            ],
            "application/vnd.google.colaboratory.intrinsic+json": {
              "type": "string"
            }
          },
          "metadata": {},
          "execution_count": 114
        }
      ]
    },
    {
      "cell_type": "code",
      "source": [
        "a = Animal(3)"
      ],
      "metadata": {
        "id": "kTwYKxVwC4ZK"
      },
      "execution_count": null,
      "outputs": []
    },
    {
      "cell_type": "code",
      "source": [
        "a.set_name('based')\n",
        "a.get_name()"
      ],
      "metadata": {
        "colab": {
          "base_uri": "https://localhost:8080/",
          "height": 35
        },
        "id": "rMMKnYV7DAFG",
        "outputId": "22b9b61a-633e-43ca-a164-f68e7b646ea2"
      },
      "execution_count": null,
      "outputs": [
        {
          "output_type": "execute_result",
          "data": {
            "text/plain": [
              "'based'"
            ],
            "application/vnd.google.colaboratory.intrinsic+json": {
              "type": "string"
            }
          },
          "metadata": {},
          "execution_count": 116
        }
      ]
    },
    {
      "cell_type": "code",
      "source": [
        "class Cat(Animal):\n",
        "  def speak(self):\n",
        "    print('meow')\n",
        "  def __str__(self):\n",
        "    return \"cat:\"+str(self.name)+\":\"+str(self.age)"
      ],
      "metadata": {
        "id": "LgaD-bQUDEf4"
      },
      "execution_count": null,
      "outputs": []
    },
    {
      "cell_type": "code",
      "source": [
        "whiskers = Cat(2)"
      ],
      "metadata": {
        "id": "Gqa2qowSD_sA"
      },
      "execution_count": null,
      "outputs": []
    },
    {
      "cell_type": "code",
      "source": [
        "whiskers.speak()\n",
        "whiskers.set_name('whiskers')"
      ],
      "metadata": {
        "colab": {
          "base_uri": "https://localhost:8080/"
        },
        "id": "y9VG0yyvEEWp",
        "outputId": "aeb37762-f362-4970-a48b-f17e42ea28b4"
      },
      "execution_count": null,
      "outputs": [
        {
          "output_type": "stream",
          "name": "stdout",
          "text": [
            "meow\n"
          ]
        }
      ]
    },
    {
      "cell_type": "code",
      "source": [
        "whiskers.name"
      ],
      "metadata": {
        "colab": {
          "base_uri": "https://localhost:8080/",
          "height": 35
        },
        "id": "UzAj9uM2EHl8",
        "outputId": "e29b0b9a-8383-4639-e301-c57cdb74d538"
      },
      "execution_count": null,
      "outputs": [
        {
          "output_type": "execute_result",
          "data": {
            "text/plain": [
              "'whiskers'"
            ],
            "application/vnd.google.colaboratory.intrinsic+json": {
              "type": "string"
            }
          },
          "metadata": {},
          "execution_count": 120
        }
      ]
    },
    {
      "cell_type": "code",
      "source": [
        "class Person(Animal):\n",
        "  def __init__(self, name, age):\n",
        "    Animal.__init__(self, age)\n",
        "    self.set_name(name)\n",
        "    self.friends = []\n",
        "  def get_friends(self):\n",
        "    return self.friends\n",
        "  def add_friend(self, fname):\n",
        "    if fname not in self.friends:\n",
        "      self.friends.append(fname)\n",
        "  def speak(self):\n",
        "    print('hello')\n",
        "  def age_diff(self, other):\n",
        "    diff = self.age - other.age\n",
        "    print(abs(diff), 'year difference')\n",
        "  def __str__(self):\n",
        "    return \"person:\"+str(self.name)+\":\"+str(self.age)"
      ],
      "metadata": {
        "id": "hgmSvo7UHWz9"
      },
      "execution_count": null,
      "outputs": []
    },
    {
      "cell_type": "code",
      "source": [
        "p1 = Person('jack', 30)\n",
        "p2 = Person('jill', 25)"
      ],
      "metadata": {
        "id": "i6sOC4K1FFok"
      },
      "execution_count": null,
      "outputs": []
    },
    {
      "cell_type": "code",
      "source": [
        "p1.get_name()"
      ],
      "metadata": {
        "colab": {
          "base_uri": "https://localhost:8080/",
          "height": 35
        },
        "id": "GMk2Az42ICgw",
        "outputId": "1b912546-df99-47be-9181-31bf33a82472"
      },
      "execution_count": null,
      "outputs": [
        {
          "output_type": "execute_result",
          "data": {
            "text/plain": [
              "'jack'"
            ],
            "application/vnd.google.colaboratory.intrinsic+json": {
              "type": "string"
            }
          },
          "metadata": {},
          "execution_count": 125
        }
      ]
    },
    {
      "cell_type": "code",
      "source": [
        "p1.get_age()"
      ],
      "metadata": {
        "colab": {
          "base_uri": "https://localhost:8080/"
        },
        "id": "9hhnhWdRIZJg",
        "outputId": "56d372ad-3785-45fd-cf4e-ab3983ef2e23"
      },
      "execution_count": null,
      "outputs": [
        {
          "output_type": "execute_result",
          "data": {
            "text/plain": [
              "30"
            ]
          },
          "metadata": {},
          "execution_count": 126
        }
      ]
    },
    {
      "cell_type": "code",
      "source": [
        "p2.get_name()"
      ],
      "metadata": {
        "colab": {
          "base_uri": "https://localhost:8080/",
          "height": 35
        },
        "id": "IhLWYK52IaRZ",
        "outputId": "1d13afd2-c479-4622-f60b-f710e2362dba"
      },
      "execution_count": null,
      "outputs": [
        {
          "output_type": "execute_result",
          "data": {
            "text/plain": [
              "'jill'"
            ],
            "application/vnd.google.colaboratory.intrinsic+json": {
              "type": "string"
            }
          },
          "metadata": {},
          "execution_count": 127
        }
      ]
    },
    {
      "cell_type": "code",
      "source": [
        "p2.get_age()"
      ],
      "metadata": {
        "colab": {
          "base_uri": "https://localhost:8080/"
        },
        "id": "CC2xvuz2Ibip",
        "outputId": "dd50c0e7-cfda-401e-85b1-70041bba2844"
      },
      "execution_count": null,
      "outputs": [
        {
          "output_type": "execute_result",
          "data": {
            "text/plain": [
              "25"
            ]
          },
          "metadata": {},
          "execution_count": 128
        }
      ]
    },
    {
      "cell_type": "code",
      "source": [
        "p1.speak()"
      ],
      "metadata": {
        "colab": {
          "base_uri": "https://localhost:8080/"
        },
        "id": "KekLtwvrIcP6",
        "outputId": "034210ee-134a-4332-e91a-dd7d3feadc21"
      },
      "execution_count": null,
      "outputs": [
        {
          "output_type": "stream",
          "name": "stdout",
          "text": [
            "hello\n"
          ]
        }
      ]
    },
    {
      "cell_type": "code",
      "source": [
        "import random\n",
        "\n",
        "class Student(Person):\n",
        "  def __init__(self, name, age, major=None):\n",
        "    Person.__init__(self, name, age)\n",
        "    self.major = major\n",
        "  def change_major(self, major):\n",
        "    self.major = major\n",
        "  def speak(self):\n",
        "    r = random.random()\n",
        "    if r < 0.25:\n",
        "      print(\"I have homework\")\n",
        "    elif 0.25 <= r < 0.5:\n",
        "      print(\"I need sleep\")\n",
        "    elif 0.5 <= r < 0.75:\n",
        "      print(\"I should eat\")\n",
        "    else:\n",
        "      print(\"I am watching tv\")\n",
        "  def __str__(self):\n",
        "    return \"student:\"+str(self.name)+\":\"+str(self.age)+\":\"+str(self.major)"
      ],
      "metadata": {
        "id": "3I3V4O3eId-C"
      },
      "execution_count": null,
      "outputs": []
    },
    {
      "cell_type": "code",
      "source": [
        "s1 = Student('alice', 20, 'CS')\n",
        "s1"
      ],
      "metadata": {
        "colab": {
          "base_uri": "https://localhost:8080/"
        },
        "id": "_RTYov8ZIjIE",
        "outputId": "203ebd9c-9fd7-441d-8a9e-b035b14ebf6f"
      },
      "execution_count": null,
      "outputs": [
        {
          "output_type": "execute_result",
          "data": {
            "text/plain": [
              "<__main__.Student at 0x7fd415af63d0>"
            ]
          },
          "metadata": {},
          "execution_count": 137
        }
      ]
    },
    {
      "cell_type": "code",
      "source": [
        "print(s1)"
      ],
      "metadata": {
        "colab": {
          "base_uri": "https://localhost:8080/"
        },
        "id": "PxgMPB6TJR3f",
        "outputId": "4a5f01e8-9a9a-4c36-c129-85bf1560eed4"
      },
      "execution_count": null,
      "outputs": [
        {
          "output_type": "stream",
          "name": "stdout",
          "text": [
            "student:alice:20:CS\n"
          ]
        }
      ]
    },
    {
      "cell_type": "code",
      "source": [
        "s1.get_name()"
      ],
      "metadata": {
        "colab": {
          "base_uri": "https://localhost:8080/",
          "height": 35
        },
        "id": "7ivfs4RpJZMi",
        "outputId": "8285b8b1-5b58-4823-92c3-5c7c869e5c09"
      },
      "execution_count": null,
      "outputs": [
        {
          "output_type": "execute_result",
          "data": {
            "text/plain": [
              "'alice'"
            ],
            "application/vnd.google.colaboratory.intrinsic+json": {
              "type": "string"
            }
          },
          "metadata": {},
          "execution_count": 139
        }
      ]
    },
    {
      "cell_type": "code",
      "source": [
        "s1.get_name()\n",
        "s1.speak()"
      ],
      "metadata": {
        "colab": {
          "base_uri": "https://localhost:8080/"
        },
        "id": "x5rUKbTvJegt",
        "outputId": "dae5efa7-a11b-451d-ac4b-fcba35423e9c"
      },
      "execution_count": null,
      "outputs": [
        {
          "output_type": "stream",
          "name": "stdout",
          "text": [
            "I need sleep\n"
          ]
        }
      ]
    },
    {
      "cell_type": "code",
      "source": [
        "class Rabbit(Animal):\n",
        "  tag = 1 \n",
        "  def __init__(self, age, parent1=None, parent2=None):\n",
        "    Animal.__init__(self, age)\n",
        "    self.parent1 = parent1\n",
        "    self.parent2 = parent2\n",
        "    self.rid = Rabbit.tag\n",
        "    Rabbit.tag += 1\n",
        "  def get_rid(self):\n",
        "    return str(self.rid).zfill(3)\n",
        "  def get_parent1(self):\n",
        "    return self.parent1\n",
        "  def get_parent2(self):\n",
        "    return self.parent2\n",
        "  def __add__(self, other):\n",
        "    # returning object of same type as this class\n",
        "    return Rabbit(0, self, other)\n",
        "  def __eq__(self, other):\n",
        "        # compare the ids of self and other's parents\n",
        "        # don't care about the order of the parents\n",
        "        # the backslash tells python I want to break up my line\n",
        "        parents_same = self.parent1.rid == other.parent1.rid \\\n",
        "                       and self.parent2.rid == other.parent2.rid\n",
        "        parents_opposite = self.parent2.rid == other.parent1.rid \\\n",
        "                           and self.parent1.rid == other.parent2.rid\n",
        "        return parents_same or parents_opposite\n",
        "  def __str__(self):\n",
        "        return \"rabbit:\"+ self.get_rid()\n",
        "\n"
      ],
      "metadata": {
        "id": "jCK9EKTGJtc7"
      },
      "execution_count": null,
      "outputs": []
    },
    {
      "cell_type": "code",
      "source": [
        "r1 = Rabbit(2, Animal)"
      ],
      "metadata": {
        "id": "TuR3WQMDKbVN"
      },
      "execution_count": null,
      "outputs": []
    },
    {
      "cell_type": "code",
      "source": [
        "r1"
      ],
      "metadata": {
        "colab": {
          "base_uri": "https://localhost:8080/"
        },
        "id": "JfltBXSpK5ch",
        "outputId": "9e6b727b-efaf-4f1e-ce5c-3bb76f756028"
      },
      "execution_count": null,
      "outputs": [
        {
          "output_type": "execute_result",
          "data": {
            "text/plain": [
              "<__main__.Rabbit at 0x7fd415a4c310>"
            ]
          },
          "metadata": {},
          "execution_count": 199
        }
      ]
    },
    {
      "cell_type": "code",
      "source": [
        "print(r1)"
      ],
      "metadata": {
        "colab": {
          "base_uri": "https://localhost:8080/"
        },
        "id": "tgLNa3plK59B",
        "outputId": "8e4577ca-f9a0-4fd2-9d54-649c41535f41"
      },
      "execution_count": null,
      "outputs": [
        {
          "output_type": "stream",
          "name": "stdout",
          "text": [
            "rabbit:001\n"
          ]
        }
      ]
    },
    {
      "cell_type": "code",
      "source": [
        "r1.tag"
      ],
      "metadata": {
        "colab": {
          "base_uri": "https://localhost:8080/"
        },
        "id": "nn2x9XyPK61J",
        "outputId": "71436d9b-9d29-4a0b-e86b-e9f037a32f18"
      },
      "execution_count": null,
      "outputs": [
        {
          "output_type": "execute_result",
          "data": {
            "text/plain": [
              "2"
            ]
          },
          "metadata": {},
          "execution_count": 201
        }
      ]
    },
    {
      "cell_type": "code",
      "source": [
        "r2 = Rabbit(3)"
      ],
      "metadata": {
        "id": "sD8o-t7JK_NT"
      },
      "execution_count": null,
      "outputs": []
    },
    {
      "cell_type": "code",
      "source": [
        "r2.tag"
      ],
      "metadata": {
        "colab": {
          "base_uri": "https://localhost:8080/"
        },
        "id": "Oiud_z8wLCBG",
        "outputId": "e71e57c0-3a99-425b-9a11-56238496bfc4"
      },
      "execution_count": null,
      "outputs": [
        {
          "output_type": "execute_result",
          "data": {
            "text/plain": [
              "3"
            ]
          },
          "metadata": {},
          "execution_count": 203
        }
      ]
    },
    {
      "cell_type": "code",
      "source": [
        "r1.tag"
      ],
      "metadata": {
        "colab": {
          "base_uri": "https://localhost:8080/"
        },
        "id": "1ZxledbCLCpM",
        "outputId": "4a3b94c2-6db5-4918-9a6b-f663dd602713"
      },
      "execution_count": null,
      "outputs": [
        {
          "output_type": "execute_result",
          "data": {
            "text/plain": [
              "3"
            ]
          },
          "metadata": {},
          "execution_count": 204
        }
      ]
    },
    {
      "cell_type": "code",
      "source": [
        "r4 = r1 + r2"
      ],
      "metadata": {
        "id": "tfBBxT51LHZW"
      },
      "execution_count": null,
      "outputs": []
    },
    {
      "cell_type": "code",
      "source": [
        "r5 = r4+r2\n",
        "r6 = r4+r2"
      ],
      "metadata": {
        "id": "zikActgBLmI2"
      },
      "execution_count": null,
      "outputs": []
    },
    {
      "cell_type": "code",
      "source": [
        "r4.age"
      ],
      "metadata": {
        "colab": {
          "base_uri": "https://localhost:8080/"
        },
        "id": "Vt6BBRpsLtVN",
        "outputId": "a8e8e9e6-b3a0-46b3-910f-b0c993a689a1"
      },
      "execution_count": null,
      "outputs": [
        {
          "output_type": "execute_result",
          "data": {
            "text/plain": [
              "0"
            ]
          },
          "metadata": {},
          "execution_count": 207
        }
      ]
    },
    {
      "cell_type": "code",
      "source": [
        "r5 == r6"
      ],
      "metadata": {
        "colab": {
          "base_uri": "https://localhost:8080/"
        },
        "id": "sFeywx3-LuSW",
        "outputId": "7ff7df48-a045-4e1a-db72-12871f7fe0ca"
      },
      "execution_count": null,
      "outputs": [
        {
          "output_type": "execute_result",
          "data": {
            "text/plain": [
              "True"
            ]
          },
          "metadata": {},
          "execution_count": 208
        }
      ]
    },
    {
      "cell_type": "code",
      "source": [
        ""
      ],
      "metadata": {
        "id": "36J4aCz1MTs0"
      },
      "execution_count": null,
      "outputs": []
    },
    {
      "cell_type": "code",
      "source": [
        ""
      ],
      "metadata": {
        "id": "cHHnnOhOMVG1"
      },
      "execution_count": null,
      "outputs": []
    },
    {
      "cell_type": "markdown",
      "source": [
        "# Understanding Program Efficiency"
      ],
      "metadata": {
        "id": "boAf5Dyglztt"
      }
    },
    {
      "cell_type": "code",
      "source": [
        "import time\n",
        "\n",
        "def c_to_f(c):\n",
        "  return c*9/5 + 32\n",
        "  "
      ],
      "metadata": {
        "id": "vaCHPWHtl38-"
      },
      "execution_count": null,
      "outputs": []
    },
    {
      "cell_type": "code",
      "source": [
        "t = time.process_time()\n",
        "c_to_f(100000)\n",
        "t1 = time.process_time() - t\n",
        "t1\n"
      ],
      "metadata": {
        "colab": {
          "base_uri": "https://localhost:8080/"
        },
        "id": "KPr6E3oxskVL",
        "outputId": "122f7d17-4605-411b-fff7-64d4abe0e809"
      },
      "execution_count": null,
      "outputs": [
        {
          "output_type": "execute_result",
          "data": {
            "text/plain": [
              "8.66940000001648e-05"
            ]
          },
          "metadata": {},
          "execution_count": 4
        }
      ]
    },
    {
      "cell_type": "markdown",
      "source": [
        "Linear Complexity"
      ],
      "metadata": {
        "id": "3LmTJIyNteuH"
      }
    },
    {
      "cell_type": "code",
      "source": [
        "\n",
        "def fact_iter(n):\n",
        "  answer = 1\n",
        "  while > 1:\n",
        "    answer *= n\n",
        "    n -= 1\n",
        "  return answer\n",
        "\n",
        "# O(n)"
      ],
      "metadata": {
        "id": "PslW6zhKskXt"
      },
      "execution_count": null,
      "outputs": []
    },
    {
      "cell_type": "code",
      "source": [
        "def linear_search(L, e):\n",
        "  found = False\n",
        "  for i in range(len(L)):\n",
        "    if e == L[i]:\n",
        "      found = True\n",
        "    return found"
      ],
      "metadata": {
        "id": "BzqOUnnjskaj"
      },
      "execution_count": null,
      "outputs": []
    },
    {
      "cell_type": "code",
      "source": [
        "def search(L, e):\n",
        "  for i in range(len(L)):\n",
        "    if L[i] == e:\n",
        "      return True\n",
        "    if L[i] > e:\n",
        "      return False\n",
        "  return False"
      ],
      "metadata": {
        "id": "5FjdPHN6skfR"
      },
      "execution_count": 1,
      "outputs": []
    },
    {
      "cell_type": "code",
      "source": [
        "def addDigits(s):\n",
        "  val = 0\n",
        "  for c in s:\n",
        "    val += int(c)\n",
        "  return val\n",
        "  "
      ],
      "metadata": {
        "id": "o3sZvuRJsknQ"
      },
      "execution_count": null,
      "outputs": []
    },
    {
      "cell_type": "markdown",
      "source": [
        "Nested Loops / Quadratic Complexity"
      ],
      "metadata": {
        "id": "sCpgv3wwtoOl"
      }
    },
    {
      "cell_type": "code",
      "source": [
        "def isSubset(L1, L2):\n",
        "  for e1 in L1:\n",
        "    matched = False\n",
        "    for e2 in L2:\n",
        "      if e1 == e2:\n",
        "        matched = Truebreak\n",
        "      if not matched:\n",
        "        return False\n",
        "    return True"
      ],
      "metadata": {
        "id": "9FOEZSbnskp2"
      },
      "execution_count": 2,
      "outputs": []
    },
    {
      "cell_type": "code",
      "source": [
        "def intersect(L1, L2):\n",
        "  tmp = []\n",
        "  for e1 in L1:\n",
        "    for e2 in L2:\n",
        "      if e1 == e2:\n",
        "        tmp.append(e1)\n",
        "  res = []\n",
        "  for e in tmp:\n",
        "    if not(e in res):\n",
        "      res.append(e)\n",
        "  return res"
      ],
      "metadata": {
        "id": "y5e1sdQssksS"
      },
      "execution_count": 4,
      "outputs": []
    },
    {
      "cell_type": "code",
      "source": [
        "def g(n):\n",
        "  \"\"\" assume n >= 0\"\"\"\n",
        "  x = 0\n",
        "  for i in range(n):\n",
        "    for j in range(n):\n",
        "      x += 1\n",
        "  return x"
      ],
      "metadata": {
        "id": "mnyVKQIcskux"
      },
      "execution_count": 5,
      "outputs": []
    },
    {
      "cell_type": "code",
      "source": [
        ""
      ],
      "metadata": {
        "id": "x3f2b41TskxQ"
      },
      "execution_count": null,
      "outputs": []
    },
    {
      "cell_type": "code",
      "source": [
        ""
      ],
      "metadata": {
        "id": "rXrWjvl7sk0I"
      },
      "execution_count": null,
      "outputs": []
    }
  ]
}