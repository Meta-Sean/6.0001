{
  "nbformat": 4,
  "nbformat_minor": 0,
  "metadata": {
    "colab": {
      "name": "6.0002-ps1.ipynb",
      "provenance": [],
      "authorship_tag": "ABX9TyNThAx17FgJVKNgLa5RRGt9",
      "include_colab_link": true
    },
    "kernelspec": {
      "name": "python3",
      "display_name": "Python 3"
    },
    "language_info": {
      "name": "python"
    },
    "gpuClass": "standard"
  },
  "cells": [
    {
      "cell_type": "markdown",
      "metadata": {
        "id": "view-in-github",
        "colab_type": "text"
      },
      "source": [
        "<a href=\"https://colab.research.google.com/github/Meta-Sean/Course-6-Mono/blob/main/6_0002_ps1.ipynb\" target=\"_parent\"><img src=\"https://colab.research.google.com/assets/colab-badge.svg\" alt=\"Open In Colab\"/></a>"
      ]
    },
    {
      "cell_type": "code",
      "execution_count": null,
      "metadata": {
        "id": "YFeP1qAp5rdG",
        "colab": {
          "base_uri": "https://localhost:8080/"
        },
        "outputId": "b6f239d2-5ab8-43f9-de39-caf0d59afa4b"
      },
      "outputs": [
        {
          "output_type": "execute_result",
          "data": {
            "text/plain": [
              "{'Betsy': 9,\n",
              " 'Florence': 2,\n",
              " 'Henrietta': 9,\n",
              " 'Herman': 7,\n",
              " 'Lola': 2,\n",
              " 'Maggie': 3,\n",
              " 'Milkshake': 2,\n",
              " 'Millie': 5,\n",
              " 'Moo Moo': 3,\n",
              " 'Oreo': 6}"
            ]
          },
          "metadata": {},
          "execution_count": 14
        }
      ],
      "source": [
        "###########################\n",
        "# 6.0002 Problem Set 1a: Space Cows \n",
        "# Name:\n",
        "# Collaborators:\n",
        "# Time:\n",
        "#================================\n",
        "# Part A: Transporting Space Cows\n",
        "#================================\n",
        "\n",
        "# Problem 1\n",
        "def load_cows(filename):\n",
        "    \"\"\"\n",
        "    Read the contents of the given file.  Assumes the file contents contain\n",
        "    data in the form of comma-separated cow name, weight pairs, and return a\n",
        "    dictionary containing cow names as keys and corresponding weights as values.\n",
        "\n",
        "    Parameters:\n",
        "    filename - the name of the data file as a string\n",
        "\n",
        "    Returns:\n",
        "    a dictionary of cow name (string), weight (int) pairs\n",
        "    \"\"\"\n",
        "    # TODO: Your code here\n",
        "    # Load the file\n",
        "    f = open(filename, 'r', encoding='utf-8')\n",
        "    # cows dictionary\n",
        "    cows = {}\n",
        "    # Loop over each, split by \",\" and add each to dictionary turning weight into type int\n",
        "    for line in f:\n",
        "      (key,val) = line.split(\",\")\n",
        "      cows[key] = int(val)\n",
        "    return cows\n",
        "    \n",
        "\n",
        "cows = load_cows('ps1_cow_data.txt')\n",
        "cows"
      ]
    },
    {
      "cell_type": "code",
      "source": [
        "# Problem 2\n",
        "def greedy_cow_transport(cows,limit=10):\n",
        "    \"\"\"\n",
        "    Uses a greedy heuristic to determine an allocation of cows that attempts to\n",
        "    minimize the number of spaceship trips needed to transport all the cows. The\n",
        "    returned allocation of cows may or may not be optimal.\n",
        "    The greedy heuristic should follow the following method:\n",
        "\n",
        "    1. As long as the current trip can fit another cow, add the largest cow that will fit\n",
        "        to the trip\n",
        "    2. Once the trip is full, begin a new trip to transport the remaining cows\n",
        "\n",
        "    Does not mutate the given dictionary of cows.\n",
        "\n",
        "    Parameters:\n",
        "    cows - a dictionary of name (string), weight (int) pairs\n",
        "    limit - weight limit of the spaceship (an int)\n",
        "    \n",
        "    Returns:\n",
        "    A list of lists, with each inner list containing the names of cows\n",
        "    transported on a particular trip and the overall list containing all the\n",
        "    trips\n",
        "    \"\"\"\n",
        "    # TODO: Your code here\n",
        "    copyCows = sorted(cows.items(), key=lambda x: (-x[1], x[0]))\n",
        "    solution = []\n",
        "    ship = []\n",
        "    temp = []\n",
        "    totalWeight = 0\n",
        "    while len(temp) < len(copyCows):\n",
        "        for i in range(len(copyCows)):\n",
        "            if copyCows[i] not in temp:\n",
        "                tempWeight = copyCows[i][1]\n",
        "                if tempWeight + totalWeight <= limit:\n",
        "                    ship.append(copyCows[i][0])\n",
        "                    temp.append(copyCows[i])\n",
        "                    totalWeight += tempWeight        \n",
        "\n",
        "        solution.append(ship)\n",
        "        ship = []\n",
        "        totalWeight = 0\n",
        "    \n",
        "    return solution\n",
        "\n",
        "\n",
        "greedy_cow_transport(cows)  \n",
        "\n"
      ],
      "metadata": {
        "colab": {
          "base_uri": "https://localhost:8080/"
        },
        "id": "7CSPhvYf6E9T",
        "outputId": "64cea8da-a8ab-4079-a0b6-6de66e8f2749"
      },
      "execution_count": null,
      "outputs": [
        {
          "output_type": "execute_result",
          "data": {
            "text/plain": [
              "[['Betsy'],\n",
              " ['Henrietta'],\n",
              " ['Herman', 'Maggie'],\n",
              " ['Oreo', 'Moo Moo'],\n",
              " ['Millie', 'Florence', 'Lola'],\n",
              " ['Milkshake']]"
            ]
          },
          "metadata": {},
          "execution_count": 15
        }
      ]
    },
    {
      "cell_type": "code",
      "source": [
        "from ps1_partition import get_partitions\n",
        "import time\n",
        "get_partitions\n",
        "# Problem 3\n",
        "def brute_force_cow_transport(cows,limit=10):\n",
        "    \"\"\"\n",
        "    Finds the allocation of cows that minimizes the number of spaceship trips\n",
        "    via brute force.  The brute force algorithm should follow the following method:\n",
        "\n",
        "    1. Enumerate all possible ways that the cows can be divided into separate trips \n",
        "        Use the given get_partitions function in ps1_partition.py to help you!\n",
        "    2. Select the allocation that minimizes the number of trips without making any trip\n",
        "        that does not obey the weight limitation\n",
        "            \n",
        "    Does not mutate the given dictionary of cows.\n",
        "\n",
        "    Parameters:\n",
        "    cows - a dictionary of name (string), weight (int) pairs\n",
        "    limit - weight limit of the spaceship (an int)\n",
        "    \n",
        "    Returns:\n",
        "    A list of lists, with each inner list containing the names of cows\n",
        "    transported on a particular trip and the overall list containing all the\n",
        "    trips\n",
        "    \"\"\"\n",
        "    # TODO: Your code here\n",
        "    possible_combinations = []\n",
        "    for partition in get_partitions(cows.keys()):\n",
        "      possible_combinations.append(partition)\n",
        "    possible_combinations.sort(key=len)\n",
        "    \n",
        "    valid_combinations = possible_combinations[:]\n",
        "\n",
        "    for partition in possible_combinations:\n",
        "      for trip in partition:\n",
        "        total = sum([cows.get(cow) for cow in trip])\n",
        "        if total > limit:\n",
        "          valid_combinations.remove(partition)\n",
        "          break\n",
        "\n",
        "    return min(valid_combinations, key=len)\n",
        "\n",
        "    # Enumerate all possible combinations of items\n",
        "    # Remove all of the combinations whose total units exceed the allowed weight.\n",
        "    # From the remaining combinations choose any one whose value is the largest\n",
        "\n",
        "        \n",
        "brute_force_cow_transport(cows)"
      ],
      "metadata": {
        "id": "B9CCKsA364Sn",
        "colab": {
          "base_uri": "https://localhost:8080/"
        },
        "outputId": "4f015e88-d659-4c54-cb9b-49083b5ecf7c"
      },
      "execution_count": null,
      "outputs": [
        {
          "output_type": "execute_result",
          "data": {
            "text/plain": [
              "[['Henrietta'],\n",
              " ['Lola', 'Oreo', 'Milkshake'],\n",
              " ['Moo Moo', 'Herman'],\n",
              " ['Florence', 'Maggie', 'Millie'],\n",
              " ['Betsy']]"
            ]
          },
          "metadata": {},
          "execution_count": 16
        }
      ]
    },
    {
      "cell_type": "code",
      "source": [
        "import time\n",
        "# Problem 4\n",
        "def compare_cow_transport_algorithms():\n",
        "    \"\"\"\n",
        "    Using the data from ps1_cow_data.txt and the specified weight limit, run your\n",
        "    greedy_cow_transport and brute_force_cow_transport functions here. Use the\n",
        "    default weight limits of 10 for both greedy_cow_transport and\n",
        "    brute_force_cow_transport.\n",
        "    \n",
        "    Print out the number of trips returned by each method, and how long each\n",
        "    method takes to run in seconds.\n",
        "\n",
        "    Returns:\n",
        "    Does not return anything.\n",
        "    \"\"\"\n",
        "    # TODO: Your code here\n",
        "    start = time.time()\n",
        "    a = greedy_cow_transport(cows)\n",
        "    end = time.time()\n",
        "    print(end-start, 'seconds as a float')\n",
        "    start = time.time()\n",
        "    b = brute_force_cow_transport(cows)\n",
        "    end = time.time()\n",
        "    print(end-start, 'seconds as a float')\n",
        "\n",
        "    print(f\"Greedy algo takes {len(a)} trips\")\n",
        "    print(f\"Brute force algo takes {len(b)} trips\")\n",
        "\n",
        "\n",
        "compare_cow_transport_algorithms()"
      ],
      "metadata": {
        "id": "Q07JbY8V6-5Q",
        "colab": {
          "base_uri": "https://localhost:8080/"
        },
        "outputId": "5de587ab-2428-4d0d-c328-35adab1d732c"
      },
      "execution_count": null,
      "outputs": [
        {
          "output_type": "stream",
          "name": "stdout",
          "text": [
            "2.8371810913085938e-05 seconds as a float\n",
            "2.2265117168426514 seconds as a float\n",
            "Greedy algo takes 6 trips\n",
            "Brute force algo takes 5 trips\n"
          ]
        }
      ]
    },
    {
      "cell_type": "markdown",
      "source": [
        "1. What were your results from compare_cow_transport_algorithms? Which\n",
        "algorithm runs faster? Why?\n",
        "Brute force was faster?\n",
        "2. Does the greedy algorithm return the optimal solution? Why/why not?\n",
        "No the returned allocation of cows is not optimal \n",
        "3. Does the brute force algorithm return the optimal solution? Why/why not?\n"
      ],
      "metadata": {
        "id": "5xswVnMnM9k9"
      }
    },
    {
      "cell_type": "code",
      "source": [
        "1. What were your results from compare_cow_transport_algorithms? Which\n",
        "algorithm runs faster? Why?\n",
        "2. Does the greedy algorithm return the optimal solution? Why/why not?\n",
        "3. Does the brute force algorithm return the optimal solution? Why/why not?"
      ],
      "metadata": {
        "id": "4nahAiO46_Kx"
      },
      "execution_count": null,
      "outputs": []
    },
    {
      "cell_type": "code",
      "source": [
        ""
      ],
      "metadata": {
        "id": "IAj5AQos_kEG"
      },
      "execution_count": null,
      "outputs": []
    },
    {
      "cell_type": "markdown",
      "source": [
        "**Problem B.1: Dynamic Programming: Hatching a Plan**<br />\n",
        "The Aucks want to carry as few eggs as possible on their trip as they don’t have a lot of space\n",
        "on their ships. They have taken detailed notes on the weights of all the eggs that geese can lay\n",
        "in a given flock and how much weight their ships can hold.\n",
        "Implement a dynamic programming algorithm to find the minimum number of eggs needed to\n",
        "make a given weight for a certain ship in dp_make_weight. The result should be an integer\n",
        "representing the minimum number of eggs from the given flock of geese needed to make the\n",
        "given weight. Your algorithm does not need to return what the weight of the eggs are, just the\n",
        "minimum number of eggs."
      ],
      "metadata": {
        "id": "B5dOwyQ7PuMZ"
      }
    },
    {
      "cell_type": "code",
      "source": [
        "###########################\n",
        "# 6.0002 Problem Set 1b: Space Change\n",
        "# Name:\n",
        "# Collaborators:\n",
        "# Time:\n",
        "# Author: charz, cdenise\n",
        "\n",
        "#================================\n",
        "# Part B: Golden Eggs\n",
        "#================================\n",
        "\n",
        "# Problem 1\n",
        "\n",
        "def dp_make_weight(egg_weights, target_weight, memo = {99:0}):\n",
        "    \"\"\"\n",
        "    Find number of eggs to bring back, using the smallest number of eggs. Assumes there is\n",
        "    an infinite supply of eggs of each weight, and there is always a egg of value 1.\n",
        "    \n",
        "    Parameters:\n",
        "    egg_weights - tuple of integers, available egg weights sorted from smallest to largest value (1 = d1 < d2 < ... < dk)\n",
        "    target_weight - int, amount of weight we want to find eggs to fit\n",
        "    memo - dictionary, OPTIONAL parameter for memoization (you may not need to use this parameter depending on your implementation)\n",
        "    \n",
        "    Returns: int, smallest number of eggs needed to make target weight\n",
        "    \"\"\"\n",
        "    # Assumes correct variables passed\n",
        "    # TODO: Your code here\n",
        "   \n",
        "    # Top to bottom recursion and memoization \n",
        "    if target_weight >= max(egg_weights): \n",
        "      print(memo)\n",
        "      memo[target_weight] = 1 + list(memo.values())[-1]\n",
        "      memo[target_weight] = dp_make_weight(egg_weights,target_weight - max(egg_weights), memo)\n",
        "    elif len(egg_weights) > 1:\n",
        "      dp_make_weight(egg_weights[:-1],target_weight, memo)\n",
        "      \n",
        "    return memo[min(egg_weights)]\n",
        "    \n",
        "\n",
        "\n",
        "\n",
        "# EXAMPLE TESTING CODE, feel free to add more if you'd like\n",
        "if __name__ == '__main__':\n",
        "    egg_weights = (1, 5, 10, 25)\n",
        "    n = 99\n",
        "    print(\"Egg weights = (1, 5, 10, 25)\")\n",
        "    print(\"n = 99\")\n",
        "    print(\"Expected ouput: 9 (3 * 25 + 2 * 10 + 4 * 1 = 99)\")\n",
        "    print(\"Actual output:\", dp_make_weight(egg_weights, n))\n",
        "    print()"
      ],
      "metadata": {
        "id": "7hQVZivuAz_2",
        "colab": {
          "base_uri": "https://localhost:8080/"
        },
        "outputId": "65212fa4-cd93-47b1-fa32-66d14844e136"
      },
      "execution_count": 11,
      "outputs": [
        {
          "output_type": "stream",
          "name": "stdout",
          "text": [
            "Egg weights = (1, 5, 10, 25)\n",
            "n = 99\n",
            "Expected ouput: 9 (3 * 25 + 2 * 10 + 4 * 1 = 99)\n",
            "{99: 0}\n",
            "{99: 1}\n",
            "{99: 1, 74: 2}\n",
            "{99: 1, 74: 2, 49: 3}\n",
            "{99: 1, 74: 2, 49: 3, 24: 4}\n",
            "{99: 1, 74: 2, 49: 3, 24: 4, 14: 5}\n",
            "{99: 1, 74: 2, 49: 3, 24: 4, 14: 5, 4: 6}\n",
            "{99: 1, 74: 2, 49: 3, 24: 4, 14: 5, 4: 6, 3: 7}\n",
            "{99: 1, 74: 2, 49: 3, 24: 4, 14: 5, 4: 6, 3: 7, 2: 8}\n",
            "Actual output: 9\n",
            "\n"
          ]
        }
      ]
    },
    {
      "cell_type": "markdown",
      "source": [
        "1. Explain why it would be difficult to use a brute force algorithm to solve this problem if there\n",
        "were 30 different egg weights. You do not need to implement a brute force algorithm in order to\n",
        "answer this.\n",
        "The Computational complexity of a brute force algo is polynomial as n increases the computation required rises drastically\n",
        "2. If you were to implement a greedy algorithm for finding the minimum number of eggs\n",
        "needed, what would the objective function be? What would the constraints be? What strategy\n",
        "would your greedy algorithm follow to pick which coins to take? You do not need to implement a\n",
        "greedy algorithm in order to answer this.\n",
        "Highest density greedy taking heaviest eggs first, time complexity constraint\n",
        "3. Will a greedy algorithm always return the optimal solution to this problem? Explain why it is\n",
        "optimal or give an example of when it will not return the optimal solution. Again, you do not need\n",
        "to implement a greedy algorithm in order to answer this.\n",
        "hmmmm, I think so with no time constraints waiting on the eggs, the greedy by density algo would always be taking the smallest amount of eggs possible"
      ],
      "metadata": {
        "id": "7hanBDnemu1h"
      }
    },
    {
      "cell_type": "code",
      "source": [
        ""
      ],
      "metadata": {
        "id": "3IlAz6xcny0H"
      },
      "execution_count": null,
      "outputs": []
    }
  ]
}