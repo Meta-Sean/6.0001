{
  "nbformat": 4,
  "nbformat_minor": 0,
  "metadata": {
    "colab": {
      "name": "6.0002-ps1.ipynb",
      "provenance": [],
      "authorship_tag": "ABX9TyNG7v+tea6Huek8ienqpona",
      "include_colab_link": true
    },
    "kernelspec": {
      "name": "python3",
      "display_name": "Python 3"
    },
    "language_info": {
      "name": "python"
    },
    "accelerator": "GPU",
    "gpuClass": "standard"
  },
  "cells": [
    {
      "cell_type": "markdown",
      "metadata": {
        "id": "view-in-github",
        "colab_type": "text"
      },
      "source": [
        "<a href=\"https://colab.research.google.com/github/Meta-Sean/Course-6-Mono/blob/main/6_0002_ps1.ipynb\" target=\"_parent\"><img src=\"https://colab.research.google.com/assets/colab-badge.svg\" alt=\"Open In Colab\"/></a>"
      ]
    },
    {
      "cell_type": "code",
      "execution_count": 14,
      "metadata": {
        "id": "YFeP1qAp5rdG",
        "colab": {
          "base_uri": "https://localhost:8080/"
        },
        "outputId": "b6f239d2-5ab8-43f9-de39-caf0d59afa4b"
      },
      "outputs": [
        {
          "output_type": "execute_result",
          "data": {
            "text/plain": [
              "{'Betsy': 9,\n",
              " 'Florence': 2,\n",
              " 'Henrietta': 9,\n",
              " 'Herman': 7,\n",
              " 'Lola': 2,\n",
              " 'Maggie': 3,\n",
              " 'Milkshake': 2,\n",
              " 'Millie': 5,\n",
              " 'Moo Moo': 3,\n",
              " 'Oreo': 6}"
            ]
          },
          "metadata": {},
          "execution_count": 14
        }
      ],
      "source": [
        "###########################\n",
        "# 6.0002 Problem Set 1a: Space Cows \n",
        "# Name:\n",
        "# Collaborators:\n",
        "# Time:\n",
        "#================================\n",
        "# Part A: Transporting Space Cows\n",
        "#================================\n",
        "\n",
        "# Problem 1\n",
        "def load_cows(filename):\n",
        "    \"\"\"\n",
        "    Read the contents of the given file.  Assumes the file contents contain\n",
        "    data in the form of comma-separated cow name, weight pairs, and return a\n",
        "    dictionary containing cow names as keys and corresponding weights as values.\n",
        "\n",
        "    Parameters:\n",
        "    filename - the name of the data file as a string\n",
        "\n",
        "    Returns:\n",
        "    a dictionary of cow name (string), weight (int) pairs\n",
        "    \"\"\"\n",
        "    # TODO: Your code here\n",
        "    # Load the file\n",
        "    f = open(filename, 'r', encoding='utf-8')\n",
        "    # cows dictionary\n",
        "    cows = {}\n",
        "    # Loop over each, split by \",\" and add each to dictionary turning weight into type int\n",
        "    for line in f:\n",
        "      (key,val) = line.split(\",\")\n",
        "      cows[key] = int(val)\n",
        "    return cows\n",
        "    \n",
        "\n",
        "cows = load_cows('ps1_cow_data.txt')\n",
        "cows"
      ]
    },
    {
      "cell_type": "code",
      "source": [
        "# Problem 2\n",
        "def greedy_cow_transport(cows,limit=10):\n",
        "    \"\"\"\n",
        "    Uses a greedy heuristic to determine an allocation of cows that attempts to\n",
        "    minimize the number of spaceship trips needed to transport all the cows. The\n",
        "    returned allocation of cows may or may not be optimal.\n",
        "    The greedy heuristic should follow the following method:\n",
        "\n",
        "    1. As long as the current trip can fit another cow, add the largest cow that will fit\n",
        "        to the trip\n",
        "    2. Once the trip is full, begin a new trip to transport the remaining cows\n",
        "\n",
        "    Does not mutate the given dictionary of cows.\n",
        "\n",
        "    Parameters:\n",
        "    cows - a dictionary of name (string), weight (int) pairs\n",
        "    limit - weight limit of the spaceship (an int)\n",
        "    \n",
        "    Returns:\n",
        "    A list of lists, with each inner list containing the names of cows\n",
        "    transported on a particular trip and the overall list containing all the\n",
        "    trips\n",
        "    \"\"\"\n",
        "    # TODO: Your code here\n",
        "    copyCows = sorted(cows.items(), key=lambda x: (-x[1], x[0]))\n",
        "    solution = []\n",
        "    ship = []\n",
        "    temp = []\n",
        "    totalWeight = 0\n",
        "    while len(temp) < len(copyCows):\n",
        "        for i in range(len(copyCows)):\n",
        "            if copyCows[i] not in temp:\n",
        "                tempWeight = copyCows[i][1]\n",
        "                if tempWeight + totalWeight <= limit:\n",
        "                    ship.append(copyCows[i][0])\n",
        "                    temp.append(copyCows[i])\n",
        "                    totalWeight += tempWeight        \n",
        "\n",
        "        solution.append(ship)\n",
        "        ship = []\n",
        "        totalWeight = 0\n",
        "    \n",
        "    return solution\n",
        "\n",
        "\n",
        "greedy_cow_transport(cows)  \n",
        "\n"
      ],
      "metadata": {
        "colab": {
          "base_uri": "https://localhost:8080/"
        },
        "id": "7CSPhvYf6E9T",
        "outputId": "64cea8da-a8ab-4079-a0b6-6de66e8f2749"
      },
      "execution_count": 15,
      "outputs": [
        {
          "output_type": "execute_result",
          "data": {
            "text/plain": [
              "[['Betsy'],\n",
              " ['Henrietta'],\n",
              " ['Herman', 'Maggie'],\n",
              " ['Oreo', 'Moo Moo'],\n",
              " ['Millie', 'Florence', 'Lola'],\n",
              " ['Milkshake']]"
            ]
          },
          "metadata": {},
          "execution_count": 15
        }
      ]
    },
    {
      "cell_type": "code",
      "source": [
        "from ps1_partition import get_partitions\n",
        "import time\n",
        "get_partitions\n",
        "# Problem 3\n",
        "def brute_force_cow_transport(cows,limit=10):\n",
        "    \"\"\"\n",
        "    Finds the allocation of cows that minimizes the number of spaceship trips\n",
        "    via brute force.  The brute force algorithm should follow the following method:\n",
        "\n",
        "    1. Enumerate all possible ways that the cows can be divided into separate trips \n",
        "        Use the given get_partitions function in ps1_partition.py to help you!\n",
        "    2. Select the allocation that minimizes the number of trips without making any trip\n",
        "        that does not obey the weight limitation\n",
        "            \n",
        "    Does not mutate the given dictionary of cows.\n",
        "\n",
        "    Parameters:\n",
        "    cows - a dictionary of name (string), weight (int) pairs\n",
        "    limit - weight limit of the spaceship (an int)\n",
        "    \n",
        "    Returns:\n",
        "    A list of lists, with each inner list containing the names of cows\n",
        "    transported on a particular trip and the overall list containing all the\n",
        "    trips\n",
        "    \"\"\"\n",
        "    # TODO: Your code here\n",
        "    possible_combinations = []\n",
        "    for partition in get_partitions(cows.keys()):\n",
        "      possible_combinations.append(partition)\n",
        "    possible_combinations.sort(key=len)\n",
        "    \n",
        "    valid_combinations = possible_combinations[:]\n",
        "\n",
        "    for partition in possible_combinations:\n",
        "      for trip in partition:\n",
        "        total = sum([cows.get(cow) for cow in trip])\n",
        "        if total > limit:\n",
        "          valid_combinations.remove(partition)\n",
        "          break\n",
        "\n",
        "    return min(valid_combinations, key=len)\n",
        "\n",
        "    # Enumerate all possible combinations of items\n",
        "    # Remove all of the combinations whose total units exceed the allowed weight.\n",
        "    # From the remaining combinations choose any one whose value is the largest\n",
        "\n",
        "        \n",
        "brute_force_cow_transport(cows)"
      ],
      "metadata": {
        "id": "B9CCKsA364Sn",
        "colab": {
          "base_uri": "https://localhost:8080/"
        },
        "outputId": "4f015e88-d659-4c54-cb9b-49083b5ecf7c"
      },
      "execution_count": 16,
      "outputs": [
        {
          "output_type": "execute_result",
          "data": {
            "text/plain": [
              "[['Henrietta'],\n",
              " ['Lola', 'Oreo', 'Milkshake'],\n",
              " ['Moo Moo', 'Herman'],\n",
              " ['Florence', 'Maggie', 'Millie'],\n",
              " ['Betsy']]"
            ]
          },
          "metadata": {},
          "execution_count": 16
        }
      ]
    },
    {
      "cell_type": "code",
      "source": [
        "import time\n",
        "# Problem 4\n",
        "def compare_cow_transport_algorithms():\n",
        "    \"\"\"\n",
        "    Using the data from ps1_cow_data.txt and the specified weight limit, run your\n",
        "    greedy_cow_transport and brute_force_cow_transport functions here. Use the\n",
        "    default weight limits of 10 for both greedy_cow_transport and\n",
        "    brute_force_cow_transport.\n",
        "    \n",
        "    Print out the number of trips returned by each method, and how long each\n",
        "    method takes to run in seconds.\n",
        "\n",
        "    Returns:\n",
        "    Does not return anything.\n",
        "    \"\"\"\n",
        "    # TODO: Your code here\n",
        "    start = time.time()\n",
        "    a = greedy_cow_transport(cows)\n",
        "    end = time.time()\n",
        "    print(end-start, 'seconds as a float')\n",
        "    start = time.time()\n",
        "    b = brute_force_cow_transport(cows)\n",
        "    end = time.time()\n",
        "    print(end-start, 'seconds as a float')\n",
        "\n",
        "    print(f\"Greedy algo takes {len(a)} trips\")\n",
        "    print(f\"Brute force algo takes {len(b)} trips\")\n",
        "\n",
        "\n",
        "compare_cow_transport_algorithms()"
      ],
      "metadata": {
        "id": "Q07JbY8V6-5Q",
        "colab": {
          "base_uri": "https://localhost:8080/"
        },
        "outputId": "5de587ab-2428-4d0d-c328-35adab1d732c"
      },
      "execution_count": 32,
      "outputs": [
        {
          "output_type": "stream",
          "name": "stdout",
          "text": [
            "2.8371810913085938e-05 seconds as a float\n",
            "2.2265117168426514 seconds as a float\n",
            "Greedy algo takes 6 trips\n",
            "Brute force algo takes 5 trips\n"
          ]
        }
      ]
    },
    {
      "cell_type": "code",
      "source": [
        ""
      ],
      "metadata": {
        "id": "4nahAiO46_Kx"
      },
      "execution_count": 17,
      "outputs": []
    },
    {
      "cell_type": "code",
      "source": [
        ""
      ],
      "metadata": {
        "id": "IAj5AQos_kEG"
      },
      "execution_count": 12,
      "outputs": []
    },
    {
      "cell_type": "code",
      "source": [
        ""
      ],
      "metadata": {
        "id": "7hQVZivuAz_2"
      },
      "execution_count": null,
      "outputs": []
    }
  ]
}