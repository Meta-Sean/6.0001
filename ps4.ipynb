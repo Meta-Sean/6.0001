{
  "nbformat": 4,
  "nbformat_minor": 0,
  "metadata": {
    "colab": {
      "name": "ps4.ipynb",
      "provenance": [],
      "authorship_tag": "ABX9TyNrWUoZZRaxpfJiOZiaKDhh",
      "include_colab_link": true
    },
    "kernelspec": {
      "name": "python3",
      "display_name": "Python 3"
    },
    "language_info": {
      "name": "python"
    }
  },
  "cells": [
    {
      "cell_type": "markdown",
      "metadata": {
        "id": "view-in-github",
        "colab_type": "text"
      },
      "source": [
        "<a href=\"https://colab.research.google.com/github/Meta-Sean/6.0001/blob/main/ps4.ipynb\" target=\"_parent\"><img src=\"https://colab.research.google.com/assets/colab-badge.svg\" alt=\"Open In Colab\"/></a>"
      ]
    },
    {
      "cell_type": "markdown",
      "source": [
        "# Part A: Permutations of a string\n",
        "\n",
        "\n"
      ],
      "metadata": {
        "id": "hGsFGflxPQpH"
      }
    },
    {
      "cell_type": "markdown",
      "source": [
        "A permutation is simply a name for a reordering. So the permutations of the string\n",
        "‘abc’ are ‘abc’, ‘acb’, ‘bac’, ‘bca’, ‘cab’, and ‘cba’. Note that a sequence is a\n",
        "permutation of itself (the trivial permutation). For this part of the pset you’ll need\n",
        "to write a recursive function get_permutations that takes a string and returns a\n",
        "list of all its permutations. You will find this function helpful later in the pset for part\n",
        "C. \n"
      ],
      "metadata": {
        "id": "TYRCWSXDPaSM"
      }
    },
    {
      "cell_type": "markdown",
      "source": [
        "A couple of notes on the requirements: Recursion MUST be used, global variables\n",
        "may NOT be used. Additionally, it is okay to use loops to code the solution. The\n",
        "order of the returned permutations does not matter. Please also avoid returning\n",
        "duplicates in your final list.\n"
      ],
      "metadata": {
        "id": "8VbkPUp3PdeV"
      }
    },
    {
      "cell_type": "markdown",
      "source": [
        "\n",
        "Base case\n",
        "*   if sequence is a single character, there’s only one way to order it\n",
        "      * return a singleton list contaning sequence\n",
        "\n",
        "\n",
        "\n",
        "  \n",
        "\n"
      ],
      "metadata": {
        "id": "6hvlySNqStOl"
      }
    },
    {
      "cell_type": "markdown",
      "source": [
        "<h1> Recursive Case </h1>\n",
        "\n",
        "\n",
        "  *   suppose we have a method that can give us a list of all permutations of all but the first character in sequence\n",
        "  *   then the permutations of all characters in sequence would be all the different ways we can insert the first character into each permutation of the remaining characters\n",
        "\n",
        "    * example: if our word was ‘bust’, we hold out the character ‘b’\n",
        "and get the list [‘ust’, ‘sut’, ‘stu’, ‘uts’, ‘tus’, ‘tsu’]\n",
        "    *then ‘ust’ gives us: ‘bust’, ‘ubst’, ‘usbt’, ‘ustb’\n",
        "    *‘sut’ gives us: ‘bsut’, ‘sbut’, ‘subt’, ‘sutb’\n",
        "    * and so on …\n",
        "\n",
        "\n",
        "\n",
        "\n",
        "\n",
        "\n",
        "\n",
        "\n",
        "\n",
        "\n",
        "\n",
        "\n",
        "  \n",
        "\n"
      ],
      "metadata": {
        "id": "wJbThySQT3T0"
      }
    },
    {
      "cell_type": "code",
      "source": [
        "# Problem Set 4A\n",
        "# Name: Meta-Sean\n",
        "# Collaborators:\n",
        "# Time Spent: x:xx\n",
        "\n",
        "def get_permutations(sequence):\n",
        "    '''\n",
        "    Enumerate all permutations of a given string\n",
        "\n",
        "    sequence (string): an arbitrary string to permute. Assume that it is a\n",
        "    non-empty string.  \n",
        "\n",
        "    You MUST use recursion for this part. Non-recursive solutions will not be\n",
        "    accepted.\n",
        "\n",
        "    Returns: a list of all permutations of sequence\n",
        "\n",
        "    Example:\n",
        "    >>> get_permutations('abc')\n",
        "    ['abc', 'acb', 'bac', 'bca', 'cab', 'cba']\n",
        "\n",
        "    Note: depending on your implementation, you may return the permutations in\n",
        "    a different order than what is listed here.\n",
        "    '''\n",
        "    L = [] # List to hold our permutations\n",
        "\n",
        "    if len(sequence) == 1:\n",
        "      return [sequence] # Cover edge case if the string is <= len(1)\n",
        "    \n",
        "    for i, l in enumerate(sequence): #enumerate over the index i and letters l in sequence\n",
        "      L += [l+p for p in get_permutations(sequence[:i]+sequence[i+1:])] # add the permutations to the list L starting with base-case and recursively call our function\n",
        "    return L # return our list of permutations\n",
        "\n",
        "\n",
        "\n",
        "\n",
        "\n",
        "    \n",
        "\n",
        "if __name__ == '__main__':\n",
        "#    #EXAMPLE\n",
        "#    example_input = 'abc'\n",
        "#    print('Input:', example_input)\n",
        "#    print('Expected Output:', ['abc', 'acb', 'bac', 'bca', 'cab', 'cba'])\n",
        "#    print('Actual Output:', get_permutations(example_input))\n",
        "    \n",
        "#    # Put three example test cases here (for your sanity, limit your inputs\n",
        "#    to be three characters or fewer as you will have n! permutations for a \n",
        "#    sequence of length n)\n",
        "\n",
        "    example_input = 'abc'\n",
        "    print('Input:', example_input)\n",
        "    print('Expected Output:', ['abc', 'acb', 'bac', 'bca', 'cab', 'cba'])\n",
        "    print('Actual Output:', get_permutations(example_input))\n",
        "\n",
        "    example_input = 'hello'\n",
        "    print('Input:', example_input)\n",
        "    print('Expected Output:', ['hello', 'helol', 'hello', 'helol', 'heoll', 'heoll', 'hlelo', 'hleol', 'hlleo', 'hlloe', 'hloel', 'hlole', 'hlelo', 'hleol', 'hlleo', 'hlloe', 'hloel', 'hlole', 'hoell', 'hoell', 'holel', 'holle', 'holel', 'holle', 'ehllo', 'ehlol', 'ehllo', 'ehlol', 'eholl', 'eholl', 'elhlo', 'elhol', 'ellho', 'elloh', 'elohl', 'elolh', 'elhlo', 'elhol', 'ellho', 'elloh', 'elohl', 'elolh', 'eohll', 'eohll', 'eolhl', 'eollh', 'eolhl', 'eollh', 'lhelo', 'lheol', 'lhleo', 'lhloe', 'lhoel', 'lhole', 'lehlo', 'lehol', 'lelho', 'leloh', 'leohl', 'leolh', 'llheo', 'llhoe', 'lleho', 'lleoh', 'llohe', 'lloeh', 'lohel', 'lohle', 'loehl', 'loelh', 'lolhe', 'loleh', 'lhelo', 'lheol', 'lhleo', 'lhloe', 'lhoel', 'lhole', 'lehlo', 'lehol', 'lelho', 'leloh', 'leohl', 'leolh', 'llheo', 'llhoe', 'lleho', 'lleoh', 'llohe', 'lloeh', 'lohel', 'lohle', 'loehl', 'loelh', 'lolhe', 'loleh', 'ohell', 'ohell', 'ohlel', 'ohlle', 'ohlel', 'ohlle', 'oehll', 'oehll', 'oelhl', 'oellh', 'oelhl', 'oellh', 'olhel', 'olhle', 'olehl', 'olelh', 'ollhe', 'olleh', 'olhel', 'olhle', 'olehl', 'olelh', 'ollhe', 'olleh'])\n",
        "    print('Actual Output:', get_permutations(example_input))\n",
        "\n",
        "    example_input = 'world'\n",
        "    print('Input:', example_input)\n",
        "    print('Expected Output:', ['world', 'wordl', 'wolrd', 'woldr', 'wodrl', 'wodlr', 'wrold', 'wrodl', 'wrlod', 'wrldo', 'wrdol', 'wrdlo', 'wlord', 'wlodr', 'wlrod', 'wlrdo', 'wldor', 'wldro', 'wdorl', 'wdolr', 'wdrol', 'wdrlo', 'wdlor', 'wdlro', 'owrld', 'owrdl', 'owlrd', 'owldr', 'owdrl', 'owdlr', 'orwld', 'orwdl', 'orlwd', 'orldw', 'ordwl', 'ordlw', 'olwrd', 'olwdr', 'olrwd', 'olrdw', 'oldwr', 'oldrw', 'odwrl', 'odwlr', 'odrwl', 'odrlw', 'odlwr', 'odlrw', 'rwold', 'rwodl', 'rwlod', 'rwldo', 'rwdol', 'rwdlo', 'rowld', 'rowdl', 'rolwd', 'roldw', 'rodwl', 'rodlw', 'rlwod', 'rlwdo', 'rlowd', 'rlodw', 'rldwo', 'rldow', 'rdwol', 'rdwlo', 'rdowl', 'rdolw', 'rdlwo', 'rdlow', 'lword', 'lwodr', 'lwrod', 'lwrdo', 'lwdor', 'lwdro', 'lowrd', 'lowdr', 'lorwd', 'lordw', 'lodwr', 'lodrw', 'lrwod', 'lrwdo', 'lrowd', 'lrodw', 'lrdwo', 'lrdow', 'ldwor', 'ldwro', 'ldowr', 'ldorw', 'ldrwo', 'ldrow', 'dworl', 'dwolr', 'dwrol', 'dwrlo', 'dwlor', 'dwlro', 'dowrl', 'dowlr', 'dorwl', 'dorlw', 'dolwr', 'dolrw', 'drwol', 'drwlo', 'drowl', 'drolw', 'drlwo', 'drlow', 'dlwor', 'dlwro', 'dlowr', 'dlorw', 'dlrwo', 'dlrow'])\n",
        "    print('Actual Output:', get_permutations(example_input))\n",
        "  \n"
      ],
      "metadata": {
        "colab": {
          "base_uri": "https://localhost:8080/"
        },
        "id": "IdCLuvb-PaES",
        "outputId": "3c849a99-36ab-4d85-835d-ab0a14bd5339"
      },
      "execution_count": 4,
      "outputs": [
        {
          "output_type": "stream",
          "name": "stdout",
          "text": [
            "Input: abc\n",
            "Expected Output: ['abc', 'acb', 'bac', 'bca', 'cab', 'cba']\n",
            "Actual Output: ['abc', 'acb', 'bac', 'bca', 'cab', 'cba']\n",
            "Input: hello\n",
            "Expected Output: ['hello', 'helol', 'hello', 'helol', 'heoll', 'heoll', 'hlelo', 'hleol', 'hlleo', 'hlloe', 'hloel', 'hlole', 'hlelo', 'hleol', 'hlleo', 'hlloe', 'hloel', 'hlole', 'hoell', 'hoell', 'holel', 'holle', 'holel', 'holle', 'ehllo', 'ehlol', 'ehllo', 'ehlol', 'eholl', 'eholl', 'elhlo', 'elhol', 'ellho', 'elloh', 'elohl', 'elolh', 'elhlo', 'elhol', 'ellho', 'elloh', 'elohl', 'elolh', 'eohll', 'eohll', 'eolhl', 'eollh', 'eolhl', 'eollh', 'lhelo', 'lheol', 'lhleo', 'lhloe', 'lhoel', 'lhole', 'lehlo', 'lehol', 'lelho', 'leloh', 'leohl', 'leolh', 'llheo', 'llhoe', 'lleho', 'lleoh', 'llohe', 'lloeh', 'lohel', 'lohle', 'loehl', 'loelh', 'lolhe', 'loleh', 'lhelo', 'lheol', 'lhleo', 'lhloe', 'lhoel', 'lhole', 'lehlo', 'lehol', 'lelho', 'leloh', 'leohl', 'leolh', 'llheo', 'llhoe', 'lleho', 'lleoh', 'llohe', 'lloeh', 'lohel', 'lohle', 'loehl', 'loelh', 'lolhe', 'loleh', 'ohell', 'ohell', 'ohlel', 'ohlle', 'ohlel', 'ohlle', 'oehll', 'oehll', 'oelhl', 'oellh', 'oelhl', 'oellh', 'olhel', 'olhle', 'olehl', 'olelh', 'ollhe', 'olleh', 'olhel', 'olhle', 'olehl', 'olelh', 'ollhe', 'olleh']\n",
            "Actual Output: ['hello', 'helol', 'hello', 'helol', 'heoll', 'heoll', 'hlelo', 'hleol', 'hlleo', 'hlloe', 'hloel', 'hlole', 'hlelo', 'hleol', 'hlleo', 'hlloe', 'hloel', 'hlole', 'hoell', 'hoell', 'holel', 'holle', 'holel', 'holle', 'ehllo', 'ehlol', 'ehllo', 'ehlol', 'eholl', 'eholl', 'elhlo', 'elhol', 'ellho', 'elloh', 'elohl', 'elolh', 'elhlo', 'elhol', 'ellho', 'elloh', 'elohl', 'elolh', 'eohll', 'eohll', 'eolhl', 'eollh', 'eolhl', 'eollh', 'lhelo', 'lheol', 'lhleo', 'lhloe', 'lhoel', 'lhole', 'lehlo', 'lehol', 'lelho', 'leloh', 'leohl', 'leolh', 'llheo', 'llhoe', 'lleho', 'lleoh', 'llohe', 'lloeh', 'lohel', 'lohle', 'loehl', 'loelh', 'lolhe', 'loleh', 'lhelo', 'lheol', 'lhleo', 'lhloe', 'lhoel', 'lhole', 'lehlo', 'lehol', 'lelho', 'leloh', 'leohl', 'leolh', 'llheo', 'llhoe', 'lleho', 'lleoh', 'llohe', 'lloeh', 'lohel', 'lohle', 'loehl', 'loelh', 'lolhe', 'loleh', 'ohell', 'ohell', 'ohlel', 'ohlle', 'ohlel', 'ohlle', 'oehll', 'oehll', 'oelhl', 'oellh', 'oelhl', 'oellh', 'olhel', 'olhle', 'olehl', 'olelh', 'ollhe', 'olleh', 'olhel', 'olhle', 'olehl', 'olelh', 'ollhe', 'olleh']\n",
            "Input: world\n",
            "Expected Output: ['world', 'wordl', 'wolrd', 'woldr', 'wodrl', 'wodlr', 'wrold', 'wrodl', 'wrlod', 'wrldo', 'wrdol', 'wrdlo', 'wlord', 'wlodr', 'wlrod', 'wlrdo', 'wldor', 'wldro', 'wdorl', 'wdolr', 'wdrol', 'wdrlo', 'wdlor', 'wdlro', 'owrld', 'owrdl', 'owlrd', 'owldr', 'owdrl', 'owdlr', 'orwld', 'orwdl', 'orlwd', 'orldw', 'ordwl', 'ordlw', 'olwrd', 'olwdr', 'olrwd', 'olrdw', 'oldwr', 'oldrw', 'odwrl', 'odwlr', 'odrwl', 'odrlw', 'odlwr', 'odlrw', 'rwold', 'rwodl', 'rwlod', 'rwldo', 'rwdol', 'rwdlo', 'rowld', 'rowdl', 'rolwd', 'roldw', 'rodwl', 'rodlw', 'rlwod', 'rlwdo', 'rlowd', 'rlodw', 'rldwo', 'rldow', 'rdwol', 'rdwlo', 'rdowl', 'rdolw', 'rdlwo', 'rdlow', 'lword', 'lwodr', 'lwrod', 'lwrdo', 'lwdor', 'lwdro', 'lowrd', 'lowdr', 'lorwd', 'lordw', 'lodwr', 'lodrw', 'lrwod', 'lrwdo', 'lrowd', 'lrodw', 'lrdwo', 'lrdow', 'ldwor', 'ldwro', 'ldowr', 'ldorw', 'ldrwo', 'ldrow', 'dworl', 'dwolr', 'dwrol', 'dwrlo', 'dwlor', 'dwlro', 'dowrl', 'dowlr', 'dorwl', 'dorlw', 'dolwr', 'dolrw', 'drwol', 'drwlo', 'drowl', 'drolw', 'drlwo', 'drlow', 'dlwor', 'dlwro', 'dlowr', 'dlorw', 'dlrwo', 'dlrow']\n",
            "Actual Output: ['world', 'wordl', 'wolrd', 'woldr', 'wodrl', 'wodlr', 'wrold', 'wrodl', 'wrlod', 'wrldo', 'wrdol', 'wrdlo', 'wlord', 'wlodr', 'wlrod', 'wlrdo', 'wldor', 'wldro', 'wdorl', 'wdolr', 'wdrol', 'wdrlo', 'wdlor', 'wdlro', 'owrld', 'owrdl', 'owlrd', 'owldr', 'owdrl', 'owdlr', 'orwld', 'orwdl', 'orlwd', 'orldw', 'ordwl', 'ordlw', 'olwrd', 'olwdr', 'olrwd', 'olrdw', 'oldwr', 'oldrw', 'odwrl', 'odwlr', 'odrwl', 'odrlw', 'odlwr', 'odlrw', 'rwold', 'rwodl', 'rwlod', 'rwldo', 'rwdol', 'rwdlo', 'rowld', 'rowdl', 'rolwd', 'roldw', 'rodwl', 'rodlw', 'rlwod', 'rlwdo', 'rlowd', 'rlodw', 'rldwo', 'rldow', 'rdwol', 'rdwlo', 'rdowl', 'rdolw', 'rdlwo', 'rdlow', 'lword', 'lwodr', 'lwrod', 'lwrdo', 'lwdor', 'lwdro', 'lowrd', 'lowdr', 'lorwd', 'lordw', 'lodwr', 'lodrw', 'lrwod', 'lrwdo', 'lrowd', 'lrodw', 'lrdwo', 'lrdow', 'ldwor', 'ldwro', 'ldowr', 'ldorw', 'ldrwo', 'ldrow', 'dworl', 'dwolr', 'dwrol', 'dwrlo', 'dwlor', 'dwlro', 'dowrl', 'dowlr', 'dorwl', 'dorlw', 'dolwr', 'dolrw', 'drwol', 'drwlo', 'drowl', 'drolw', 'drlwo', 'drlow', 'dlwor', 'dlwro', 'dlowr', 'dlorw', 'dlrwo', 'dlrow']\n"
          ]
        }
      ]
    },
    {
      "cell_type": "code",
      "execution_count": 3,
      "metadata": {
        "colab": {
          "base_uri": "https://localhost:8080/"
        },
        "id": "-I1O95TdPHfs",
        "outputId": "525a808c-2f19-47c4-f19e-651a5ed4db9e"
      },
      "outputs": [
        {
          "output_type": "execute_result",
          "data": {
            "text/plain": [
              "['hello',\n",
              " 'helol',\n",
              " 'hello',\n",
              " 'helol',\n",
              " 'heoll',\n",
              " 'heoll',\n",
              " 'hlelo',\n",
              " 'hleol',\n",
              " 'hlleo',\n",
              " 'hlloe',\n",
              " 'hloel',\n",
              " 'hlole',\n",
              " 'hlelo',\n",
              " 'hleol',\n",
              " 'hlleo',\n",
              " 'hlloe',\n",
              " 'hloel',\n",
              " 'hlole',\n",
              " 'hoell',\n",
              " 'hoell',\n",
              " 'holel',\n",
              " 'holle',\n",
              " 'holel',\n",
              " 'holle',\n",
              " 'ehllo',\n",
              " 'ehlol',\n",
              " 'ehllo',\n",
              " 'ehlol',\n",
              " 'eholl',\n",
              " 'eholl',\n",
              " 'elhlo',\n",
              " 'elhol',\n",
              " 'ellho',\n",
              " 'elloh',\n",
              " 'elohl',\n",
              " 'elolh',\n",
              " 'elhlo',\n",
              " 'elhol',\n",
              " 'ellho',\n",
              " 'elloh',\n",
              " 'elohl',\n",
              " 'elolh',\n",
              " 'eohll',\n",
              " 'eohll',\n",
              " 'eolhl',\n",
              " 'eollh',\n",
              " 'eolhl',\n",
              " 'eollh',\n",
              " 'lhelo',\n",
              " 'lheol',\n",
              " 'lhleo',\n",
              " 'lhloe',\n",
              " 'lhoel',\n",
              " 'lhole',\n",
              " 'lehlo',\n",
              " 'lehol',\n",
              " 'lelho',\n",
              " 'leloh',\n",
              " 'leohl',\n",
              " 'leolh',\n",
              " 'llheo',\n",
              " 'llhoe',\n",
              " 'lleho',\n",
              " 'lleoh',\n",
              " 'llohe',\n",
              " 'lloeh',\n",
              " 'lohel',\n",
              " 'lohle',\n",
              " 'loehl',\n",
              " 'loelh',\n",
              " 'lolhe',\n",
              " 'loleh',\n",
              " 'lhelo',\n",
              " 'lheol',\n",
              " 'lhleo',\n",
              " 'lhloe',\n",
              " 'lhoel',\n",
              " 'lhole',\n",
              " 'lehlo',\n",
              " 'lehol',\n",
              " 'lelho',\n",
              " 'leloh',\n",
              " 'leohl',\n",
              " 'leolh',\n",
              " 'llheo',\n",
              " 'llhoe',\n",
              " 'lleho',\n",
              " 'lleoh',\n",
              " 'llohe',\n",
              " 'lloeh',\n",
              " 'lohel',\n",
              " 'lohle',\n",
              " 'loehl',\n",
              " 'loelh',\n",
              " 'lolhe',\n",
              " 'loleh',\n",
              " 'ohell',\n",
              " 'ohell',\n",
              " 'ohlel',\n",
              " 'ohlle',\n",
              " 'ohlel',\n",
              " 'ohlle',\n",
              " 'oehll',\n",
              " 'oehll',\n",
              " 'oelhl',\n",
              " 'oellh',\n",
              " 'oelhl',\n",
              " 'oellh',\n",
              " 'olhel',\n",
              " 'olhle',\n",
              " 'olehl',\n",
              " 'olelh',\n",
              " 'ollhe',\n",
              " 'olleh',\n",
              " 'olhel',\n",
              " 'olhle',\n",
              " 'olehl',\n",
              " 'olelh',\n",
              " 'ollhe',\n",
              " 'olleh']"
            ]
          },
          "metadata": {},
          "execution_count": 3
        }
      ],
      "source": [
        "get_permutations('hello')"
      ]
    },
    {
      "cell_type": "code",
      "source": [
        ""
      ],
      "metadata": {
        "id": "v64fpUObY_zo"
      },
      "execution_count": null,
      "outputs": []
    }
  ]
}