{
  "nbformat": 4,
  "nbformat_minor": 0,
  "metadata": {
    "colab": {
      "name": "6.0002-ps2.ipynb",
      "provenance": [],
      "collapsed_sections": [],
      "authorship_tag": "ABX9TyPrWJplnfQqtAvktCn/r3ej",
      "include_colab_link": true
    },
    "kernelspec": {
      "name": "python3",
      "display_name": "Python 3"
    },
    "language_info": {
      "name": "python"
    }
  },
  "cells": [
    {
      "cell_type": "markdown",
      "metadata": {
        "id": "view-in-github",
        "colab_type": "text"
      },
      "source": [
        "<a href=\"https://colab.research.google.com/github/Meta-Sean/Course-6-Mono/blob/main/6_0002_ps2.ipynb\" target=\"_parent\"><img src=\"https://colab.research.google.com/assets/colab-badge.svg\" alt=\"Open In Colab\"/></a>"
      ]
    },
    {
      "cell_type": "code",
      "execution_count": 7,
      "metadata": {
        "colab": {
          "base_uri": "https://localhost:8080/"
        },
        "id": "LM3qSi2HlhF9",
        "outputId": "b7d37eaf-d0eb-449a-d898-470c1fd4302a"
      },
      "outputs": [
        {
          "output_type": "stream",
          "name": "stderr",
          "text": [
            "......\n",
            "----------------------------------------------------------------------\n",
            "Ran 6 tests in 0.018s\n",
            "\n",
            "OK\n"
          ]
        }
      ],
      "source": [
        "# 6.0002 Problem Set 5\n",
        "# Graph optimization\n",
        "# Name:\n",
        "# Collaborators:\n",
        "# Time:\n",
        "\n",
        "import unittest\n",
        "\n",
        "#\n",
        "# A set of data structures to represent graphs\n",
        "#\n",
        "\n",
        "class Node(object):\n",
        "    \"\"\"Represents a node in the graph\"\"\"\n",
        "    def __init__(self, name):\n",
        "        self.name = str(name)\n",
        "\n",
        "    def get_name(self):\n",
        "        return self.name\n",
        "\n",
        "    def __str__(self):\n",
        "        return self.name\n",
        "\n",
        "    def __repr__(self):\n",
        "        return self.name\n",
        "\n",
        "    def __eq__(self, other):\n",
        "        return self.name == other.name\n",
        "\n",
        "    def __ne__(self, other):\n",
        "        return not self.__eq__(other)\n",
        "\n",
        "    def __hash__(self):\n",
        "        # This function is necessary so that Nodes can be used as\n",
        "        # keys in a dictionary, even though Nodes are mutable\n",
        "        return self.name.__hash__()\n",
        "\n",
        "\n",
        "class Edge(object):\n",
        "    \"\"\"Represents an edge in the dictionary. Includes a source and\n",
        "    a destination.\"\"\"\n",
        "    def __init__(self, src, dest):\n",
        "        self.src = src\n",
        "        self.dest = dest\n",
        "\n",
        "    def get_source(self):\n",
        "        return self.src\n",
        "\n",
        "    def get_destination(self):\n",
        "        return self.dest\n",
        "\n",
        "    def __str__(self):\n",
        "        return '{}->{}'.format(self.src, self.dest)\n",
        "\n",
        "\n",
        "class WeightedEdge(Edge):\n",
        "    def __init__(self, src, dest, total_distance, outdoor_distance):\n",
        "        self.src = src\n",
        "        self.dest = dest\n",
        "        self.total_distance = total_distance\n",
        "        self.outdoor_distance = outdoor_distance\n",
        "\n",
        "    def get_total_distance(self):\n",
        "        return self.total_distance\n",
        "\n",
        "    def get_outdoor_distance(self):\n",
        "        return self.outdoor_distance\n",
        "\n",
        "    def __str__(self):\n",
        "        return f\"{self.src}->{self.dest} ({self.total_distance}, {self.outdoor_distance})\"\n",
        "\n",
        "\n",
        "class Digraph(object):\n",
        "    \"\"\"Represents a directed graph of Node and Edge objects\"\"\"\n",
        "    def __init__(self):\n",
        "        self.nodes = set([])\n",
        "        self.edges = {}  # must be a dict of Node -> list of edges\n",
        "\n",
        "    def __str__(self):\n",
        "        edge_strs = []\n",
        "        for edges in self.edges.values():\n",
        "            for edge in edges:\n",
        "                edge_strs.append(str(edge))\n",
        "        edge_strs = sorted(edge_strs)  # sort alphabetically\n",
        "        return '\\n'.join(edge_strs)  # concat edge_strs with \"\\n\"s between them\n",
        "\n",
        "    def get_edges_for_node(self, node):\n",
        "        return self.edges[node]\n",
        "\n",
        "    def has_node(self, node):\n",
        "        return node in self.nodes\n",
        "\n",
        "    def add_node(self, node):\n",
        "        \"\"\"Adds a Node object to the Digraph. Raises a ValueError if it is\n",
        "        already in the graph.\"\"\"\n",
        "        if node in self.edges:\n",
        "          raise ValueError('Duplicate node')\n",
        "        else:\n",
        "          self.edges[node] = []\n",
        "\n",
        "    def add_edge(self, edge):\n",
        "        \"\"\"Adds an Edge or WeightedEdge instance to the Digraph. Raises a\n",
        "        ValueError if either of the nodes associated with the edge is not\n",
        "        in the  graph.\"\"\"\n",
        "        src = edge.get_source()\n",
        "        dest = edge.get_destination()\n",
        "        total = edge.get_total_distance()\n",
        "        outside = edge.get_outdoor_distance()\n",
        "        we = WeightedEdge(src, dest, total, outside)\n",
        "        if not (src in self.edges and dest in self.edges):\n",
        "          raise ValueError(\"Node not in graph\")\n",
        "        self.edges[src].append(we)\n",
        "\n",
        "\n",
        "# ================================================================\n",
        "# Begin tests -- you do not need to modify anything below this line\n",
        "# ================================================================\n",
        "\n",
        "class TestGraph(unittest.TestCase):\n",
        "\n",
        "    def setUp(self):\n",
        "        self.g = Digraph()\n",
        "        self.na = Node('a')\n",
        "        self.nb = Node('b')\n",
        "        self.nc = Node('c')\n",
        "        self.g.add_node(self.na)\n",
        "        self.g.add_node(self.nb)\n",
        "        self.g.add_node(self.nc)\n",
        "        self.e1 = WeightedEdge(self.na, self.nb, 15, 10)\n",
        "        self.e2 = WeightedEdge(self.na, self.nc, 14, 6)\n",
        "        self.e3 = WeightedEdge(self.nb, self.nc, 3, 1)\n",
        "        self.g.add_edge(self.e1)\n",
        "        self.g.add_edge(self.e2)\n",
        "        self.g.add_edge(self.e3)\n",
        "\n",
        "    def test_weighted_edge_str(self):\n",
        "        self.assertEqual(str(self.e1), \"a->b (15, 10)\")\n",
        "        self.assertEqual(str(self.e2), \"a->c (14, 6)\")\n",
        "        self.assertEqual(str(self.e3), \"b->c (3, 1)\")\n",
        "\n",
        "    def test_weighted_edge_total_distance(self):\n",
        "        self.assertEqual(self.e1.get_total_distance(), 15)\n",
        "        self.assertEqual(self.e2.get_total_distance(), 14)\n",
        "        self.assertEqual(self.e3.get_total_distance(), 3)\n",
        "\n",
        "    def test_weighted_edge_outdoor_distance(self):\n",
        "        self.assertEqual(self.e1.get_outdoor_distance(), 10)\n",
        "        self.assertEqual(self.e2.get_outdoor_distance(), 6)\n",
        "        self.assertEqual(self.e3.get_outdoor_distance(), 1)\n",
        "\n",
        "    def test_add_edge_to_nonexistent_node_raises(self):\n",
        "        node_not_in_graph = Node('q')\n",
        "        no_src = WeightedEdge(self.nb, node_not_in_graph, 5, 5)\n",
        "        no_dest = WeightedEdge(node_not_in_graph, self.na, 5, 5)\n",
        "\n",
        "        with self.assertRaises(ValueError):\n",
        "            self.g.add_edge(no_src)\n",
        "        with self.assertRaises(ValueError):\n",
        "            self.g.add_edge(no_dest)\n",
        "\n",
        "    def test_add_existing_node_raises(self):\n",
        "        with self.assertRaises(ValueError):\n",
        "            self.g.add_node(self.na)\n",
        "\n",
        "    def test_graph_str(self):\n",
        "        expected = \"a->b (15, 10)\\na->c (14, 6)\\nb->c (3, 1)\"\n",
        "        self.assertEqual(str(self.g), expected)\n",
        "\n",
        "\n",
        "    if __name__ == '__main__':\n",
        "      unittest.main(argv=['first-arg-is-ignored'], exit=False)\n",
        "\n",
        "\n"
      ]
    },
    {
      "cell_type": "code",
      "source": [
        "%cd"
      ],
      "metadata": {
        "colab": {
          "base_uri": "https://localhost:8080/"
        },
        "id": "thJ1Q62llm3z",
        "outputId": "d5a28590-73cc-4be3-ed34-c4ba62b2bf92"
      },
      "execution_count": 9,
      "outputs": [
        {
          "output_type": "stream",
          "name": "stdout",
          "text": [
            "/root\n"
          ]
        }
      ]
    },
    {
      "cell_type": "code",
      "source": [
        ""
      ],
      "metadata": {
        "id": "nNgHLvGv_VPz"
      },
      "execution_count": null,
      "outputs": []
    }
  ]
}